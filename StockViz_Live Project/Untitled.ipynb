{
 "cells": [
  {
   "cell_type": "code",
   "execution_count": 1,
   "metadata": {},
   "outputs": [
    {
     "name": "stderr",
     "output_type": "stream",
     "text": [
      "── \u001b[1mAttaching packages\u001b[22m ─────────────────────────────────────── tidyverse 1.2.1 ──\n",
      "\u001b[32m✔\u001b[39m \u001b[34mggplot2\u001b[39m 3.2.1     \u001b[32m✔\u001b[39m \u001b[34mpurrr  \u001b[39m 0.3.2\n",
      "\u001b[32m✔\u001b[39m \u001b[34mtibble \u001b[39m 2.1.3     \u001b[32m✔\u001b[39m \u001b[34mdplyr  \u001b[39m 0.8.3\n",
      "\u001b[32m✔\u001b[39m \u001b[34mtidyr  \u001b[39m 0.8.3     \u001b[32m✔\u001b[39m \u001b[34mstringr\u001b[39m 1.4.0\n",
      "\u001b[32m✔\u001b[39m \u001b[34mreadr  \u001b[39m 1.3.1     \u001b[32m✔\u001b[39m \u001b[34mforcats\u001b[39m 0.4.0\n",
      "── \u001b[1mConflicts\u001b[22m ────────────────────────────────────────── tidyverse_conflicts() ──\n",
      "\u001b[31m✖\u001b[39m \u001b[34mdplyr\u001b[39m::\u001b[32mfilter()\u001b[39m masks \u001b[34mstats\u001b[39m::filter()\n",
      "\u001b[31m✖\u001b[39m \u001b[34mdplyr\u001b[39m::\u001b[32mlag()\u001b[39m    masks \u001b[34mstats\u001b[39m::lag()\n",
      "Loading required package: xts\n",
      "Loading required package: zoo\n",
      "\n",
      "Attaching package: ‘zoo’\n",
      "\n",
      "The following objects are masked from ‘package:base’:\n",
      "\n",
      "    as.Date, as.Date.numeric\n",
      "\n",
      "Registered S3 method overwritten by 'xts':\n",
      "  method     from\n",
      "  as.zoo.xts zoo \n",
      "\n",
      "Attaching package: ‘xts’\n",
      "\n",
      "The following objects are masked from ‘package:dplyr’:\n",
      "\n",
      "    first, last\n",
      "\n",
      "Loading required package: TTR\n",
      "Registered S3 method overwritten by 'quantmod':\n",
      "  method            from\n",
      "  as.zoo.data.frame zoo \n",
      "Version 0.4-0 included new data defaults. See ?getSymbols.\n",
      "\n",
      "Attaching package: ‘PerformanceAnalytics’\n",
      "\n",
      "The following object is masked from ‘package:graphics’:\n",
      "\n",
      "    legend\n",
      "\n",
      "\n",
      "Attaching package: ‘lubridate’\n",
      "\n",
      "The following object is masked from ‘package:base’:\n",
      "\n",
      "    date\n",
      "\n",
      "Registering fonts with R\n"
     ]
    }
   ],
   "source": [
    "library(tidyverse)\n",
    "library(ggthemes)\n",
    "library(odbc)\n",
    "library(plutoR)\n",
    "library(quantmod)\n",
    "library(PerformanceAnalytics)\n",
    "library(ggrepel)\n",
    "library(lubridate)\n",
    "\n",
    "options(\"scipen\"=999)\n",
    "options(stringsAsFactors = FALSE)\n",
    "options(repr.plot.width=16, repr.plot.height=8)\n",
    "\n",
    "source(\"config.R\")\n",
    "source(\"goofy/plot.common.R\")\n",
    "\n",
    "indices<-Indices()"
   ]
  },
  {
   "cell_type": "code",
   "execution_count": 2,
   "metadata": {},
   "outputs": [
    {
     "name": "stderr",
     "output_type": "stream",
     "text": [
      "Warning message:\n",
      "“Missing values are always removed in SQL.\n",
      "Use `MAX(x, na.rm = TRUE)` to silence this warning\n",
      "This warning is displayed only once per session.”"
     ]
    },
    {
     "name": "stdout",
     "output_type": "stream",
     "text": [
      "\u001b[90m# Source:   lazy query [?? x 5]\u001b[39m\n",
      "\u001b[90m# Database: Microsoft SQL Server 13.00.4259[ro1@NORWAY/StockViz]\u001b[39m\n",
      "   NAME          TIME_STAMP   CODE SYMBOL     SECURITY_NAME                    \n",
      "   \u001b[3m\u001b[90m<chr>\u001b[39m\u001b[23m         \u001b[3m\u001b[90m<date>\u001b[39m\u001b[23m      \u001b[3m\u001b[90m<int>\u001b[39m\u001b[23m \u001b[3m\u001b[90m<chr>\u001b[39m\u001b[23m      \u001b[3m\u001b[90m<chr>\u001b[39m\u001b[23m                            \n",
      "\u001b[90m 1\u001b[39m sp bse sensex 2019-07-01 \u001b[4m5\u001b[24m\u001b[4m0\u001b[24m\u001b[4m0\u001b[24m010 HDFC       Housing Development Finance Corp \n",
      "\u001b[90m 2\u001b[39m sp bse sensex 2019-07-01 \u001b[4m5\u001b[24m\u001b[4m0\u001b[24m\u001b[4m0\u001b[24m034 BAJFINANCE Bajaj Finance Ltd                \n",
      "\u001b[90m 3\u001b[39m sp bse sensex 2019-07-01 \u001b[4m5\u001b[24m\u001b[4m0\u001b[24m\u001b[4m0\u001b[24m112 SBIN       State Bank of India              \n",
      "\u001b[90m 4\u001b[39m sp bse sensex 2019-07-01 \u001b[4m5\u001b[24m\u001b[4m0\u001b[24m\u001b[4m0\u001b[24m180 HDFCBANK   HDFC Bank Ltd                    \n",
      "\u001b[90m 5\u001b[39m sp bse sensex 2019-07-01 \u001b[4m5\u001b[24m\u001b[4m0\u001b[24m\u001b[4m0\u001b[24m182 HEROMOTOCO Hero MotoCorp Ltd                \n",
      "\u001b[90m 6\u001b[39m sp bse sensex 2019-07-01 \u001b[4m5\u001b[24m\u001b[4m0\u001b[24m\u001b[4m0\u001b[24m209 INFY       Infosys Ltd                      \n",
      "\u001b[90m 7\u001b[39m sp bse sensex 2019-07-01 \u001b[4m5\u001b[24m\u001b[4m0\u001b[24m\u001b[4m0\u001b[24m247 KOTAKBANK  Kotak Mahindra Bank Ltd          \n",
      "\u001b[90m 8\u001b[39m sp bse sensex 2019-07-01 \u001b[4m5\u001b[24m\u001b[4m0\u001b[24m\u001b[4m0\u001b[24m295 VEDL       Vedanta Ltd                      \n",
      "\u001b[90m 9\u001b[39m sp bse sensex 2019-07-01 \u001b[4m5\u001b[24m\u001b[4m0\u001b[24m\u001b[4m0\u001b[24m312 ONGC       Oil & Natural Gas Corp Ltd       \n",
      "\u001b[90m10\u001b[39m sp bse sensex 2019-07-01 \u001b[4m5\u001b[24m\u001b[4m0\u001b[24m\u001b[4m0\u001b[24m325 RELIANCE   Reliance Industries Ltd          \n",
      "\u001b[90m11\u001b[39m sp bse sensex 2019-07-01 \u001b[4m5\u001b[24m\u001b[4m0\u001b[24m\u001b[4m0\u001b[24m470 TATASTEEL  Tata Steel Ltd                   \n",
      "\u001b[90m12\u001b[39m sp bse sensex 2019-07-01 \u001b[4m5\u001b[24m\u001b[4m0\u001b[24m\u001b[4m0\u001b[24m510 LT         Larsen & Toubro Ltd              \n",
      "\u001b[90m13\u001b[39m sp bse sensex 2019-07-01 \u001b[4m5\u001b[24m\u001b[4m0\u001b[24m\u001b[4m0\u001b[24m520 M&M        Mahindra & Mahindra Ltd          \n",
      "\u001b[90m14\u001b[39m sp bse sensex 2019-07-01 \u001b[4m5\u001b[24m\u001b[4m0\u001b[24m\u001b[4m0\u001b[24m570 TATAMOTORS Tata Motors Ltd                  \n",
      "\u001b[90m15\u001b[39m sp bse sensex 2019-07-01 \u001b[4m5\u001b[24m\u001b[4m0\u001b[24m\u001b[4m0\u001b[24m696 HINDUNILVR Hindustan Unilever Ltd           \n",
      "\u001b[90m16\u001b[39m sp bse sensex 2019-07-01 \u001b[4m5\u001b[24m\u001b[4m0\u001b[24m\u001b[4m0\u001b[24m820 ASIANPAINT Asian Paints Ltd                 \n",
      "\u001b[90m17\u001b[39m sp bse sensex 2019-07-01 \u001b[4m5\u001b[24m\u001b[4m0\u001b[24m\u001b[4m0\u001b[24m875 ITC        ITC Ltd                          \n",
      "\u001b[90m18\u001b[39m sp bse sensex 2019-07-01 \u001b[4m5\u001b[24m\u001b[4m2\u001b[24m\u001b[4m4\u001b[24m715 SUNPHARMA  Sun Pharmaceutical Industries Ltd\n",
      "\u001b[90m19\u001b[39m sp bse sensex 2019-07-01 \u001b[4m5\u001b[24m\u001b[4m3\u001b[24m\u001b[4m2\u001b[24m174 ICICIBANK  ICICI Bank Ltd                   \n",
      "\u001b[90m20\u001b[39m sp bse sensex 2019-07-01 \u001b[4m5\u001b[24m\u001b[4m3\u001b[24m\u001b[4m2\u001b[24m187 INDUSINDBK IndusInd Bank Ltd                \n",
      "\u001b[90m# … with more rows\u001b[39m\n"
     ]
    }
   ],
   "source": [
    "maxDt <- (indices$BseConstituents() %>%\n",
    "          filter(NAME == \"sp bse sensex\") %>%\n",
    "          summarize(MAX_TS = max(TIME_STAMP)) %>% \n",
    "          collect())$MAX_TS[1]\n",
    "\n",
    "indices$BseConstituents() %>%\n",
    "     filter(TIME_STAMP == maxDt & NAME == \"sp bse sensex\") %>%\n",
    "     print(n = 30)"
   ]
  },
  {
   "cell_type": "code",
   "execution_count": null,
   "metadata": {},
   "outputs": [],
   "source": []
  },
  {
   "cell_type": "markdown",
   "metadata": {},
   "source": [
    "This notebook was created using [pluto](http://pluto.studio). Learn more [here](https://github.com/shyams80/pluto)"
   ]
  }
 ],
 "metadata": {
  "kernelspec": {
   "display_name": "R",
   "language": "R",
   "name": "ir"
  },
  "language_info": {
   "codemirror_mode": "r",
   "file_extension": ".r",
   "mimetype": "text/x-r-source",
   "name": "R",
   "pygments_lexer": "r",
   "version": "3.4.4"
  }
 },
 "nbformat": 4,
 "nbformat_minor": 2
}
