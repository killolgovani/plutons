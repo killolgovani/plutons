{
 "cells": [
  {
   "cell_type": "code",
   "execution_count": 1,
   "metadata": {},
   "outputs": [
    {
     "name": "stderr",
     "output_type": "stream",
     "text": [
      "── \u001b[1mAttaching packages\u001b[22m ─────────────────────────────────────── tidyverse 1.2.1 ──\n",
      "\u001b[32m✔\u001b[39m \u001b[34mggplot2\u001b[39m 3.2.1     \u001b[32m✔\u001b[39m \u001b[34mpurrr  \u001b[39m 0.3.2\n",
      "\u001b[32m✔\u001b[39m \u001b[34mtibble \u001b[39m 2.1.3     \u001b[32m✔\u001b[39m \u001b[34mdplyr  \u001b[39m 0.8.3\n",
      "\u001b[32m✔\u001b[39m \u001b[34mtidyr  \u001b[39m 0.8.3     \u001b[32m✔\u001b[39m \u001b[34mstringr\u001b[39m 1.4.0\n",
      "\u001b[32m✔\u001b[39m \u001b[34mreadr  \u001b[39m 1.3.1     \u001b[32m✔\u001b[39m \u001b[34mforcats\u001b[39m 0.4.0\n",
      "── \u001b[1mConflicts\u001b[22m ────────────────────────────────────────── tidyverse_conflicts() ──\n",
      "\u001b[31m✖\u001b[39m \u001b[34mdplyr\u001b[39m::\u001b[32mfilter()\u001b[39m masks \u001b[34mstats\u001b[39m::filter()\n",
      "\u001b[31m✖\u001b[39m \u001b[34mdplyr\u001b[39m::\u001b[32mlag()\u001b[39m    masks \u001b[34mstats\u001b[39m::lag()\n",
      "Loading required package: xts\n",
      "Loading required package: zoo\n",
      "\n",
      "Attaching package: ‘zoo’\n",
      "\n",
      "The following objects are masked from ‘package:base’:\n",
      "\n",
      "    as.Date, as.Date.numeric\n",
      "\n",
      "Registered S3 method overwritten by 'xts':\n",
      "  method     from\n",
      "  as.zoo.xts zoo \n",
      "\n",
      "Attaching package: ‘xts’\n",
      "\n",
      "The following objects are masked from ‘package:dplyr’:\n",
      "\n",
      "    first, last\n",
      "\n",
      "Loading required package: TTR\n",
      "Registered S3 method overwritten by 'quantmod':\n",
      "  method            from\n",
      "  as.zoo.data.frame zoo \n",
      "Version 0.4-0 included new data defaults. See ?getSymbols.\n",
      "\n",
      "Attaching package: ‘PerformanceAnalytics’\n",
      "\n",
      "The following object is masked from ‘package:graphics’:\n",
      "\n",
      "    legend\n",
      "\n",
      "\n",
      "Attaching package: ‘lubridate’\n",
      "\n",
      "The following object is masked from ‘package:base’:\n",
      "\n",
      "    date\n",
      "\n",
      "Registering fonts with R\n"
     ]
    }
   ],
   "source": [
    "library(tidyverse)\n",
    "library(ggthemes)\n",
    "library(odbc)\n",
    "library(plutoR)\n",
    "library(quantmod)\n",
    "library(PerformanceAnalytics)\n",
    "library(ggrepel)\n",
    "library(lubridate)\n",
    "\n",
    "options(\"scipen\"=999)\n",
    "options(stringsAsFactors = FALSE)\n",
    "options(repr.plot.width=16, repr.plot.height=8)\n",
    "\n",
    "source(\"config.R\")\n",
    "source(\"goofy/plot.common.R\")\n",
    "\n",
    "indices<-Indices()"
   ]
  },
  {
   "cell_type": "code",
   "execution_count": 2,
   "metadata": {},
   "outputs": [
    {
     "name": "stderr",
     "output_type": "stream",
     "text": [
      "Warning message:\n",
      "“Missing values are always removed in SQL.\n",
      "Use `MAX(x, na.rm = TRUE)` to silence this warning\n",
      "This warning is displayed only once per session.”"
     ]
    },
    {
     "name": "stdout",
     "output_type": "stream",
     "text": [
      "\u001b[90m# Source:   lazy query [?? x 5]\u001b[39m\n",
      "\u001b[90m# Database: Microsoft SQL Server 13.00.4259[ro1@NORWAY/StockViz]\u001b[39m\n",
      "   NAME     TIME_STAMP SYMBOL     INDUSTRY           CAP_WEIGHT\n",
      "   \u001b[3m\u001b[90m<chr>\u001b[39m\u001b[23m    \u001b[3m\u001b[90m<date>\u001b[39m\u001b[23m     \u001b[3m\u001b[90m<chr>\u001b[39m\u001b[23m      \u001b[3m\u001b[90m<chr>\u001b[39m\u001b[23m                   \u001b[3m\u001b[90m<dbl>\u001b[39m\u001b[23m\n",
      "\u001b[90m 1\u001b[39m NIFTY 50 2019-08-16 ADANIPORTS SERVICES                0.665\n",
      "\u001b[90m 2\u001b[39m NIFTY 50 2019-08-16 ASIANPAINT CONSUMER GOODS          1.47 \n",
      "\u001b[90m 3\u001b[39m NIFTY 50 2019-08-16 AXISBANK   FINANCIAL SERVICES      3.15 \n",
      "\u001b[90m 4\u001b[39m NIFTY 50 2019-08-16 BAJAJ-AUTO AUTOMOBILE              0.745\n",
      "\u001b[90m 5\u001b[39m NIFTY 50 2019-08-16 BAJAJFINSV FINANCIAL SERVICES      0.969\n",
      "\u001b[90m 6\u001b[39m NIFTY 50 2019-08-16 BAJFINANCE FINANCIAL SERVICES      1.72 \n",
      "\u001b[90m 7\u001b[39m NIFTY 50 2019-08-16 BHARTIARTL TELECOM                 1.45 \n",
      "\u001b[90m 8\u001b[39m NIFTY 50 2019-08-16 BPCL       ENERGY                  0.610\n",
      "\u001b[90m 9\u001b[39m NIFTY 50 2019-08-16 BRITANNIA  CONSUMER GOODS          0.683\n",
      "\u001b[90m10\u001b[39m NIFTY 50 2019-08-16 CIPLA      PHARMA                  0.579\n",
      "\u001b[90m# … with more rows\u001b[39m\n"
     ]
    }
   ],
   "source": [
    "maxDt <- (indices$NseConstituents() %>%\n",
    "          filter(NAME == \"NIFTY 50\") %>%\n",
    "          summarize(MAX_TS = max(TIME_STAMP)) %>% \n",
    "          collect())$MAX_TS[1]\n",
    "\n",
    "indices$NseConstituents() %>%\n",
    "     filter(TIME_STAMP == maxDt & NAME == \"NIFTY 50\") %>%\n",
    "     print(n = 10)"
   ]
  },
  {
   "cell_type": "code",
   "execution_count": 3,
   "metadata": {},
   "outputs": [
    {
     "name": "stdout",
     "output_type": "stream",
     "text": [
      "\u001b[90m# Source:   lazy query [?? x 5]\u001b[39m\n",
      "\u001b[90m# Database: Microsoft SQL Server 13.00.4259[ro1@NORWAY/StockViz]\u001b[39m\n",
      "   NAME     TIME_STAMP SYMBOL     INDUSTRY           CAP_WEIGHT\n",
      "   \u001b[3m\u001b[90m<chr>\u001b[39m\u001b[23m    \u001b[3m\u001b[90m<date>\u001b[39m\u001b[23m     \u001b[3m\u001b[90m<chr>\u001b[39m\u001b[23m      \u001b[3m\u001b[90m<chr>\u001b[39m\u001b[23m                   \u001b[3m\u001b[90m<dbl>\u001b[39m\u001b[23m\n",
      "\u001b[90m 1\u001b[39m NIFTY 50 2019-08-16 ADANIPORTS SERVICES                0.665\n",
      "\u001b[90m 2\u001b[39m NIFTY 50 2019-08-16 ASIANPAINT CONSUMER GOODS          1.47 \n",
      "\u001b[90m 3\u001b[39m NIFTY 50 2019-08-16 AXISBANK   FINANCIAL SERVICES      3.15 \n",
      "\u001b[90m 4\u001b[39m NIFTY 50 2019-08-16 BAJAJ-AUTO AUTOMOBILE              0.745\n",
      "\u001b[90m 5\u001b[39m NIFTY 50 2019-08-16 BAJAJFINSV FINANCIAL SERVICES      0.969\n",
      "\u001b[90m 6\u001b[39m NIFTY 50 2019-08-16 BAJFINANCE FINANCIAL SERVICES      1.72 \n",
      "\u001b[90m 7\u001b[39m NIFTY 50 2019-08-16 BHARTIARTL TELECOM                 1.45 \n",
      "\u001b[90m 8\u001b[39m NIFTY 50 2019-08-16 BPCL       ENERGY                  0.610\n",
      "\u001b[90m 9\u001b[39m NIFTY 50 2019-08-16 BRITANNIA  CONSUMER GOODS          0.683\n",
      "\u001b[90m10\u001b[39m NIFTY 50 2019-08-16 CIPLA      PHARMA                  0.579\n",
      "\u001b[90m# … with more rows\u001b[39m\n"
     ]
    }
   ],
   "source": [
    "maxDt <- (indices$NseConstituents() %>%\n",
    "          filter(NAME == \"NIFTY 50\") %>%\n",
    "          summarize(MAX_TS = max(TIME_STAMP)) %>% \n",
    "          collect())$MAX_TS[1]\n",
    "\n",
    "indices$NseConstituents() %>%\n",
    "     filter(TIME_STAMP == maxDt & NAME == \"NIFTY 50\") %>%\n",
    "     print(n = 10)"
   ]
  },
  {
   "cell_type": "code",
   "execution_count": 4,
   "metadata": {},
   "outputs": [
    {
     "name": "stdout",
     "output_type": "stream",
     "text": [
      "\u001b[90m# Source:   lazy query [?? x 1]\u001b[39m\n",
      "\u001b[90m# Database: Microsoft SQL Server 13.00.4259[ro1@NORWAY/StockViz]\u001b[39m\n",
      "\u001b[90m# Groups:   NAME\u001b[39m\n",
      "   NAME                     \n",
      "   \u001b[3m\u001b[90m<chr>\u001b[39m\u001b[23m                    \n",
      "\u001b[90m 1\u001b[39m NIFTY 100                \n",
      "\u001b[90m 2\u001b[39m NIFTY 100 TR             \n",
      "\u001b[90m 3\u001b[39m Nifty 1D Rate Index      \n",
      "\u001b[90m 4\u001b[39m NIFTY 200                \n",
      "\u001b[90m 5\u001b[39m NIFTY 200 TR             \n",
      "\u001b[90m 6\u001b[39m NIFTY 50                 \n",
      "\u001b[90m 7\u001b[39m NIFTY 50 ARBITRAGE       \n",
      "\u001b[90m 8\u001b[39m NIFTY 50 FUTURES INDEX   \n",
      "\u001b[90m 9\u001b[39m NIFTY 50 FUTURES TR INDEX\n",
      "\u001b[90m10\u001b[39m NIFTY 50 TR              \n",
      "\u001b[90m# … with more rows\u001b[39m\n"
     ]
    }
   ],
   "source": [
    "maxDtBse <- (indices$NseTimeSeries() %>% summarize(MAX_TS = max(TIME_STAMP)) %>% collect())$MAX_TS[1]\n",
    "indices$NseTimeSeries() %>%\n",
    "     group_by(NAME) %>%\n",
    "     filter(TIME_STAMP == maxDtBse) %>%\n",
    "     select(NAME) %>%\n",
    "     print(n=10)"
   ]
  },
  {
   "cell_type": "code",
   "execution_count": 5,
   "metadata": {},
   "outputs": [
    {
     "data": {
      "text/html": [
       "'Date'"
      ],
      "text/latex": [
       "'Date'"
      ],
      "text/markdown": [
       "'Date'"
      ],
      "text/plain": [
       "[1] \"Date\""
      ]
     },
     "metadata": {},
     "output_type": "display_data"
    }
   ],
   "source": [
    "class(maxDtBse)"
   ]
  },
  {
   "cell_type": "code",
   "execution_count": 6,
   "metadata": {},
   "outputs": [
    {
     "data": {
      "text/html": [
       "'Indices'"
      ],
      "text/latex": [
       "'Indices'"
      ],
      "text/markdown": [
       "'Indices'"
      ],
      "text/plain": [
       "[1] \"Indices\"\n",
       "attr(,\"package\")\n",
       "[1] \"plutoR\""
      ]
     },
     "metadata": {},
     "output_type": "display_data"
    }
   ],
   "source": [
    "class(indices)"
   ]
  },
  {
   "cell_type": "code",
   "execution_count": 7,
   "metadata": {},
   "outputs": [
    {
     "name": "stdout",
     "output_type": "stream",
     "text": [
      "\u001b[90m# Source:   lazy query [?? x 1]\u001b[39m\n",
      "\u001b[90m# Database: Microsoft SQL Server 13.00.4259[ro1@NORWAY/StockViz]\u001b[39m\n",
      "\u001b[90m# Groups:   NAME\u001b[39m\n",
      "  NAME               \n",
      "  \u001b[3m\u001b[90m<chr>\u001b[39m\u001b[23m              \n",
      "\u001b[90m1\u001b[39m NIFTY 100          \n",
      "\u001b[90m2\u001b[39m NIFTY 100 TR       \n",
      "\u001b[90m3\u001b[39m Nifty 1D Rate Index\n",
      "\u001b[90m4\u001b[39m NIFTY 200          \n",
      "\u001b[90m5\u001b[39m NIFTY 200 TR       \n",
      "\u001b[90m# … with more rows\u001b[39m\n"
     ]
    }
   ],
   "source": [
    "maxDtBse <- (indices$NseTimeSeries() %>% summarize(MAX_TS = max(TIME_STAMP)) %>% collect())$MAX_TS[1]\n",
    "indices$NseTimeSeries() %>%\n",
    "     group_by(NAME) %>%\n",
    "     filter(TIME_STAMP == maxDtBse) %>%\n",
    "     select(NAME) %>%\n",
    "     print(n=5)"
   ]
  },
  {
   "cell_type": "code",
   "execution_count": 8,
   "metadata": {},
   "outputs": [
    {
     "name": "stdout",
     "output_type": "stream",
     "text": [
      "\u001b[90m# Source:   lazy query [?? x 1]\u001b[39m\n",
      "\u001b[90m# Database: Microsoft SQL Server 13.00.4259[ro1@NORWAY/StockViz]\u001b[39m\n",
      "\u001b[90m# Groups:   NAME\u001b[39m\n",
      "   NAME                                          \n",
      "   \u001b[3m\u001b[90m<chr>\u001b[39m\u001b[23m                                         \n",
      "\u001b[90m 1\u001b[39m NIFTY 100                                     \n",
      "\u001b[90m 2\u001b[39m NIFTY 100 TR                                  \n",
      "\u001b[90m 3\u001b[39m Nifty 1D Rate Index                           \n",
      "\u001b[90m 4\u001b[39m NIFTY 200                                     \n",
      "\u001b[90m 5\u001b[39m NIFTY 200 TR                                  \n",
      "\u001b[90m 6\u001b[39m NIFTY 50                                      \n",
      "\u001b[90m 7\u001b[39m NIFTY 50 ARBITRAGE                            \n",
      "\u001b[90m 8\u001b[39m NIFTY 50 FUTURES INDEX                        \n",
      "\u001b[90m 9\u001b[39m NIFTY 50 FUTURES TR INDEX                     \n",
      "\u001b[90m10\u001b[39m NIFTY 50 TR                                   \n",
      "\u001b[90m11\u001b[39m NIFTY 500                                     \n",
      "\u001b[90m12\u001b[39m NIFTY 500 TR                                  \n",
      "\u001b[90m13\u001b[39m NIFTY ADITYA BIRLA GROUP                      \n",
      "\u001b[90m14\u001b[39m NIFTY ADITYA BIRLA GROUP TR                   \n",
      "\u001b[90m15\u001b[39m NIFTY ALPHA 50                                \n",
      "\u001b[90m16\u001b[39m NIFTY ALPHA 50 TR                             \n",
      "\u001b[90m17\u001b[39m NIFTY ALPHA LOW-VOLATILITY 30                 \n",
      "\u001b[90m18\u001b[39m NIFTY ALPHA LOW-VOLATILITY 30 TR              \n",
      "\u001b[90m19\u001b[39m NIFTY ALPHA QUALITY LOW-VOLATILITY 30         \n",
      "\u001b[90m20\u001b[39m NIFTY ALPHA QUALITY LOW-VOLATILITY 30 TR      \n",
      "\u001b[90m21\u001b[39m NIFTY ALPHA QUALITY VALUE LOW-VOLATILITY 30   \n",
      "\u001b[90m22\u001b[39m NIFTY ALPHA QUALITY VALUE LOW-VOLATILITY 30 TR\n",
      "\u001b[90m23\u001b[39m NIFTY AUTO                                    \n",
      "\u001b[90m24\u001b[39m NIFTY AUTO TR                                 \n",
      "\u001b[90m25\u001b[39m NIFTY BANK                                    \n",
      "\u001b[90m26\u001b[39m NIFTY BANK TR                                 \n",
      "\u001b[90m27\u001b[39m NIFTY COMMODITIES                             \n",
      "\u001b[90m28\u001b[39m NIFTY COMMODITIES TR                          \n",
      "\u001b[90m29\u001b[39m NIFTY CONSUMPTION                             \n",
      "\u001b[90m30\u001b[39m NIFTY CPSE                                    \n",
      "\u001b[90m31\u001b[39m NIFTY CPSE TR                                 \n",
      "\u001b[90m32\u001b[39m NIFTY DIV OPPS 50                             \n",
      "\u001b[90m33\u001b[39m NIFTY DIVIDEND OPPORTUNITIES 50 TR            \n",
      "\u001b[90m34\u001b[39m NIFTY ENERGY                                  \n",
      "\u001b[90m35\u001b[39m NIFTY ENERGY TR                               \n",
      "\u001b[90m36\u001b[39m NIFTY FIN SERVICE                             \n",
      "\u001b[90m37\u001b[39m NIFTY FINANCIAL SERVICES TR                   \n",
      "\u001b[90m38\u001b[39m NIFTY FMCG                                    \n",
      "\u001b[90m39\u001b[39m NIFTY FMCG TR                                 \n",
      "\u001b[90m40\u001b[39m NIFTY GROWSECT 15                             \n",
      "\u001b[90m41\u001b[39m NIFTY GROWTH SECTORS 15 TR                    \n",
      "\u001b[90m42\u001b[39m NIFTY GS 10YR                                 \n",
      "\u001b[90m43\u001b[39m NIFTY GS 10YR CLN                             \n",
      "\u001b[90m44\u001b[39m NIFTY GS 11 15YR                              \n",
      "\u001b[90m45\u001b[39m NIFTY GS 15YRPLUS                             \n",
      "\u001b[90m46\u001b[39m NIFTY GS 4 8YR                                \n",
      "\u001b[90m47\u001b[39m NIFTY GS 8 13YR                               \n",
      "\u001b[90m48\u001b[39m NIFTY GS COMPSITE                             \n",
      "\u001b[90m49\u001b[39m NIFTY HIGH BETA 50                            \n",
      "\u001b[90m50\u001b[39m NIFTY HIGH BETA 50 TR                         \n",
      "\u001b[90m# … with more rows\u001b[39m\n"
     ]
    }
   ],
   "source": [
    "maxDtBse <- (indices$NseTimeSeries() %>% summarize(MAX_TS = max(TIME_STAMP)) %>% collect())$MAX_TS[1]\n",
    "indices$NseTimeSeries() %>%\n",
    "     group_by(NAME) %>%\n",
    "     filter(TIME_STAMP == maxDtBse) %>%\n",
    "     select(NAME) %>%\n",
    "     print(n=50)"
   ]
  },
  {
   "cell_type": "code",
   "execution_count": 9,
   "metadata": {},
   "outputs": [
    {
     "name": "stdout",
     "output_type": "stream",
     "text": [
      "\u001b[90m# Source:   lazy query [?? x 1]\u001b[39m\n",
      "\u001b[90m# Database: Microsoft SQL Server 13.00.4259[ro1@NORWAY/StockViz]\u001b[39m\n",
      "\u001b[90m# Groups:   NAME\u001b[39m\n",
      "   NAME                                    \n",
      "   \u001b[3m\u001b[90m<chr>\u001b[39m\u001b[23m                                   \n",
      "\u001b[90m 1\u001b[39m NIFTY 100                               \n",
      "\u001b[90m 2\u001b[39m NIFTY 100 TR                            \n",
      "\u001b[90m 3\u001b[39m Nifty 1D Rate Index                     \n",
      "\u001b[90m 4\u001b[39m NIFTY 200                               \n",
      "\u001b[90m 5\u001b[39m NIFTY 200 TR                            \n",
      "\u001b[90m 6\u001b[39m NIFTY 50                                \n",
      "\u001b[90m 7\u001b[39m NIFTY 50 ARBITRAGE                      \n",
      "\u001b[90m 8\u001b[39m NIFTY 50 FUTURES INDEX                  \n",
      "\u001b[90m 9\u001b[39m NIFTY 50 FUTURES TR INDEX               \n",
      "\u001b[90m10\u001b[39m NIFTY 50 TR                             \n",
      "\u001b[90m11\u001b[39m NIFTY 500                               \n",
      "\u001b[90m12\u001b[39m NIFTY 500 TR                            \n",
      "\u001b[90m13\u001b[39m NIFTY ADITYA BIRLA GROUP                \n",
      "\u001b[90m14\u001b[39m NIFTY ADITYA BIRLA GROUP TR             \n",
      "\u001b[90m15\u001b[39m NIFTY ALPHA 50                          \n",
      "\u001b[90m16\u001b[39m NIFTY ALPHA 50 TR                       \n",
      "\u001b[90m17\u001b[39m NIFTY ALPHA LOW-VOLATILITY 30           \n",
      "\u001b[90m18\u001b[39m NIFTY ALPHA LOW-VOLATILITY 30 TR        \n",
      "\u001b[90m19\u001b[39m NIFTY ALPHA QUALITY LOW-VOLATILITY 30   \n",
      "\u001b[90m20\u001b[39m NIFTY ALPHA QUALITY LOW-VOLATILITY 30 TR\n",
      "\u001b[90m# … with more rows\u001b[39m\n"
     ]
    }
   ],
   "source": [
    "maxDtBse <- (indices$NseTimeSeries() %>% summarize(MAX_TS = max(TIME_STAMP)) %>% collect())$MAX_TS[1]\n",
    "indices$NseTimeSeries() %>%\n",
    "     group_by(NAME) %>%\n",
    "     filter(TIME_STAMP == maxDtBse) %>%\n",
    "     select(NAME) %>%\n",
    "     print(n=20)"
   ]
  },
  {
   "cell_type": "code",
   "execution_count": 10,
   "metadata": {},
   "outputs": [
    {
     "name": "stdout",
     "output_type": "stream",
     "text": [
      "\u001b[90m# Source:   lazy query [?? x 1]\u001b[39m\n",
      "\u001b[90m# Database: Microsoft SQL Server 13.00.4259[ro1@NORWAY/StockViz]\u001b[39m\n",
      "\u001b[90m# Groups:   NAME\u001b[39m\n",
      "   NAME                                    \n",
      "   \u001b[3m\u001b[90m<chr>\u001b[39m\u001b[23m                                   \n",
      "\u001b[90m 1\u001b[39m NIFTY 100                               \n",
      "\u001b[90m 2\u001b[39m NIFTY 100 TR                            \n",
      "\u001b[90m 3\u001b[39m Nifty 1D Rate Index                     \n",
      "\u001b[90m 4\u001b[39m NIFTY 200                               \n",
      "\u001b[90m 5\u001b[39m NIFTY 200 TR                            \n",
      "\u001b[90m 6\u001b[39m NIFTY 50                                \n",
      "\u001b[90m 7\u001b[39m NIFTY 50 ARBITRAGE                      \n",
      "\u001b[90m 8\u001b[39m NIFTY 50 FUTURES INDEX                  \n",
      "\u001b[90m 9\u001b[39m NIFTY 50 FUTURES TR INDEX               \n",
      "\u001b[90m10\u001b[39m NIFTY 50 TR                             \n",
      "\u001b[90m11\u001b[39m NIFTY 500                               \n",
      "\u001b[90m12\u001b[39m NIFTY 500 TR                            \n",
      "\u001b[90m13\u001b[39m NIFTY ADITYA BIRLA GROUP                \n",
      "\u001b[90m14\u001b[39m NIFTY ADITYA BIRLA GROUP TR             \n",
      "\u001b[90m15\u001b[39m NIFTY ALPHA 50                          \n",
      "\u001b[90m16\u001b[39m NIFTY ALPHA 50 TR                       \n",
      "\u001b[90m17\u001b[39m NIFTY ALPHA LOW-VOLATILITY 30           \n",
      "\u001b[90m18\u001b[39m NIFTY ALPHA LOW-VOLATILITY 30 TR        \n",
      "\u001b[90m19\u001b[39m NIFTY ALPHA QUALITY LOW-VOLATILITY 30   \n",
      "\u001b[90m20\u001b[39m NIFTY ALPHA QUALITY LOW-VOLATILITY 30 TR\n",
      "\u001b[90m# … with more rows\u001b[39m\n"
     ]
    }
   ],
   "source": [
    "maxDtBse <- (indices$NseTimeSeries() %>% summarize(MAX_TS = max(TIME_STAMP)) %>% collect())$MAX_TS[1]\n",
    "\n",
    "nifty_indices <- indices$NseTimeSeries() %>%\n",
    "                 group_by(NAME) %>%\n",
    "                 filter(TIME_STAMP == maxDtBse) %>%\n",
    "                 select(NAME) %>%\n",
    "                 print(n=20)"
   ]
  },
  {
   "cell_type": "markdown",
   "metadata": {},
   "source": [
    "This notebook was created using [pluto](http://pluto.studio). Learn more [here](https://github.com/shyams80/pluto)"
   ]
  }
 ],
 "metadata": {
  "kernelspec": {
   "display_name": "R",
   "language": "R",
   "name": "ir"
  },
  "language_info": {
   "codemirror_mode": "r",
   "file_extension": ".r",
   "mimetype": "text/x-r-source",
   "name": "R",
   "pygments_lexer": "r",
   "version": "3.6.1"
  }
 },
 "nbformat": 4,
 "nbformat_minor": 2
}
