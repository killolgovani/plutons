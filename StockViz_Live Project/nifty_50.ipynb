{
 "cells": [
  {
   "cell_type": "code",
   "execution_count": 1,
   "metadata": {},
   "outputs": [
    {
     "name": "stderr",
     "output_type": "stream",
     "text": [
      "── \u001b[1mAttaching packages\u001b[22m ─────────────────────────────────────── tidyverse 1.2.1 ──\n",
      "\u001b[32m✔\u001b[39m \u001b[34mggplot2\u001b[39m 3.2.1     \u001b[32m✔\u001b[39m \u001b[34mpurrr  \u001b[39m 0.3.2\n",
      "\u001b[32m✔\u001b[39m \u001b[34mtibble \u001b[39m 2.1.3     \u001b[32m✔\u001b[39m \u001b[34mdplyr  \u001b[39m 0.8.3\n",
      "\u001b[32m✔\u001b[39m \u001b[34mtidyr  \u001b[39m 0.8.3     \u001b[32m✔\u001b[39m \u001b[34mstringr\u001b[39m 1.4.0\n",
      "\u001b[32m✔\u001b[39m \u001b[34mreadr  \u001b[39m 1.3.1     \u001b[32m✔\u001b[39m \u001b[34mforcats\u001b[39m 0.4.0\n",
      "── \u001b[1mConflicts\u001b[22m ────────────────────────────────────────── tidyverse_conflicts() ──\n",
      "\u001b[31m✖\u001b[39m \u001b[34mdplyr\u001b[39m::\u001b[32mfilter()\u001b[39m masks \u001b[34mstats\u001b[39m::filter()\n",
      "\u001b[31m✖\u001b[39m \u001b[34mdplyr\u001b[39m::\u001b[32mlag()\u001b[39m    masks \u001b[34mstats\u001b[39m::lag()\n",
      "Loading required package: xts\n",
      "Loading required package: zoo\n",
      "\n",
      "Attaching package: ‘zoo’\n",
      "\n",
      "The following objects are masked from ‘package:base’:\n",
      "\n",
      "    as.Date, as.Date.numeric\n",
      "\n",
      "Registered S3 method overwritten by 'xts':\n",
      "  method     from\n",
      "  as.zoo.xts zoo \n",
      "\n",
      "Attaching package: ‘xts’\n",
      "\n",
      "The following objects are masked from ‘package:dplyr’:\n",
      "\n",
      "    first, last\n",
      "\n",
      "Loading required package: TTR\n",
      "Registered S3 method overwritten by 'quantmod':\n",
      "  method            from\n",
      "  as.zoo.data.frame zoo \n",
      "Version 0.4-0 included new data defaults. See ?getSymbols.\n",
      "\n",
      "Attaching package: ‘PerformanceAnalytics’\n",
      "\n",
      "The following object is masked from ‘package:graphics’:\n",
      "\n",
      "    legend\n",
      "\n",
      "\n",
      "Attaching package: ‘lubridate’\n",
      "\n",
      "The following object is masked from ‘package:base’:\n",
      "\n",
      "    date\n",
      "\n",
      "Registering fonts with R\n"
     ]
    }
   ],
   "source": [
    "library(tidyverse)\n",
    "library(ggthemes)\n",
    "library(odbc)\n",
    "library(plutoR)\n",
    "library(quantmod)\n",
    "library(PerformanceAnalytics)\n",
    "library(ggrepel)\n",
    "library(lubridate)\n",
    "\n",
    "options(\"scipen\"=999)\n",
    "options(stringsAsFactors = FALSE)\n",
    "options(repr.plot.width=16, repr.plot.height=8)\n",
    "\n",
    "source(\"config.R\")\n",
    "source(\"goofy/plot.common.R\")\n",
    "\n",
    "\n",
    "indices<-Indices()"
   ]
  },
  {
   "cell_type": "code",
   "execution_count": 2,
   "metadata": {},
   "outputs": [
    {
     "name": "stdout",
     "output_type": "stream",
     "text": [
      "\u001b[90m# Source:     lazy query [?? x 7]\u001b[39m\n",
      "\u001b[90m# Database:   Microsoft SQL Server 13.00.4259[ro1@NORWAY/StockViz]\u001b[39m\n",
      "\u001b[90m# Ordered by: desc(TIME_STAMP)\u001b[39m\n",
      "  NAME     TIME_STAMP   HIGH    LOW   OPEN  CLOSE    VOLUME\n",
      "  \u001b[3m\u001b[90m<chr>\u001b[39m\u001b[23m    \u001b[3m\u001b[90m<date>\u001b[39m\u001b[23m      \u001b[3m\u001b[90m<dbl>\u001b[39m\u001b[23m  \u001b[3m\u001b[90m<dbl>\u001b[39m\u001b[23m  \u001b[3m\u001b[90m<dbl>\u001b[39m\u001b[23m  \u001b[3m\u001b[90m<dbl>\u001b[39m\u001b[23m     \u001b[3m\u001b[90m<dbl>\u001b[39m\u001b[23m\n",
      "\u001b[90m1\u001b[39m NIFTY 50 2019-09-03 \u001b[4m1\u001b[24m\u001b[4m0\u001b[24m968. \u001b[4m1\u001b[24m\u001b[4m0\u001b[24m773. \u001b[4m1\u001b[24m\u001b[4m0\u001b[24m961. \u001b[4m1\u001b[24m\u001b[4m0\u001b[24m798. 483\u001b[4m0\u001b[24m\u001b[4m3\u001b[24m\u001b[4m8\u001b[24m985\n",
      "\u001b[90m2\u001b[39m NIFTY 50 2019-08-30 \u001b[4m1\u001b[24m\u001b[4m1\u001b[24m043. \u001b[4m1\u001b[24m\u001b[4m0\u001b[24m875. \u001b[4m1\u001b[24m\u001b[4m0\u001b[24m988. \u001b[4m1\u001b[24m\u001b[4m1\u001b[24m023. 628\u001b[4m1\u001b[24m\u001b[4m5\u001b[24m\u001b[4m4\u001b[24m431\n",
      "\u001b[90m3\u001b[39m NIFTY 50 2019-08-29 \u001b[4m1\u001b[24m\u001b[4m1\u001b[24m021. \u001b[4m1\u001b[24m\u001b[4m0\u001b[24m922. \u001b[4m1\u001b[24m\u001b[4m0\u001b[24m996. \u001b[4m1\u001b[24m\u001b[4m0\u001b[24m948. 649\u001b[4m8\u001b[24m\u001b[4m7\u001b[24m\u001b[4m6\u001b[24m160\n",
      "\u001b[90m4\u001b[39m NIFTY 50 2019-08-28 \u001b[4m1\u001b[24m\u001b[4m1\u001b[24m130. \u001b[4m1\u001b[24m\u001b[4m0\u001b[24m988. \u001b[4m1\u001b[24m\u001b[4m1\u001b[24m101. \u001b[4m1\u001b[24m\u001b[4m1\u001b[24m046. 549\u001b[4m9\u001b[24m\u001b[4m5\u001b[24m\u001b[4m4\u001b[24m696\n",
      "\u001b[90m# … with more rows\u001b[39m\n"
     ]
    }
   ],
   "source": [
    "nifty_50 <- indices$NseTimeSeries() %>%\n",
    "                 filter(NAME == \"NIFTY 50\") %>%  \n",
    "                 arrange(desc(TIME_STAMP)) %>%\n",
    "                 print(n=4)"
   ]
  },
  {
   "cell_type": "code",
   "execution_count": 3,
   "metadata": {},
   "outputs": [],
   "source": [
    "nifty <- as.data.frame(nifty_50)"
   ]
  },
  {
   "cell_type": "code",
   "execution_count": 4,
   "metadata": {},
   "outputs": [],
   "source": [
    "abs_returns <- (c(diff(nifty$CLOSE,lag=1)*(-1),0)) \n",
    "\n",
    "nifty <- data.frame(nifty, abs_returns)\n",
    "\n",
    "n<-1\n",
    "per_returns=rep(0,7055)\n",
    "while(n<=(length(nifty$abs_returns)-1)){\n",
    "    per_returns[n] = ((nifty$abs_returns[n])/(nifty$CLOSE[n+1]))*100\n",
    "    n = n+1\n",
    "}"
   ]
  },
  {
   "cell_type": "code",
   "execution_count": 5,
   "metadata": {},
   "outputs": [
    {
     "data": {
      "text/html": [
       "7056"
      ],
      "text/latex": [
       "7056"
      ],
      "text/markdown": [
       "7056"
      ],
      "text/plain": [
       "[1] 7056"
      ]
     },
     "metadata": {},
     "output_type": "display_data"
    }
   ],
   "source": [
    "length(abs_returns)"
   ]
  },
  {
   "cell_type": "code",
   "execution_count": 6,
   "metadata": {},
   "outputs": [
    {
     "data": {
      "text/html": [
       "<table>\n",
       "<caption>A data.frame: 6 × 8</caption>\n",
       "<thead>\n",
       "\t<tr><th></th><th scope=col>NAME</th><th scope=col>TIME_STAMP</th><th scope=col>HIGH</th><th scope=col>LOW</th><th scope=col>OPEN</th><th scope=col>CLOSE</th><th scope=col>VOLUME</th><th scope=col>abs_returns</th></tr>\n",
       "\t<tr><th></th><th scope=col>&lt;chr&gt;</th><th scope=col>&lt;date&gt;</th><th scope=col>&lt;dbl&gt;</th><th scope=col>&lt;dbl&gt;</th><th scope=col>&lt;dbl&gt;</th><th scope=col>&lt;dbl&gt;</th><th scope=col>&lt;dbl&gt;</th><th scope=col>&lt;dbl&gt;</th></tr>\n",
       "</thead>\n",
       "<tbody>\n",
       "\t<tr><th scope=row>7051</th><td>NIFTY 50</td><td>1990-07-11</td><td>0</td><td>0</td><td>0</td><td>293.30</td><td>0</td><td> 4.61</td></tr>\n",
       "\t<tr><th scope=row>7052</th><td>NIFTY 50</td><td>1990-07-10</td><td>0</td><td>0</td><td>0</td><td>288.69</td><td>0</td><td>-1.00</td></tr>\n",
       "\t<tr><th scope=row>7053</th><td>NIFTY 50</td><td>1990-07-09</td><td>0</td><td>0</td><td>0</td><td>289.69</td><td>0</td><td> 0.65</td></tr>\n",
       "\t<tr><th scope=row>7054</th><td>NIFTY 50</td><td>1990-07-06</td><td>0</td><td>0</td><td>0</td><td>289.04</td><td>0</td><td> 5.00</td></tr>\n",
       "\t<tr><th scope=row>7055</th><td>NIFTY 50</td><td>1990-07-05</td><td>0</td><td>0</td><td>0</td><td>284.04</td><td>0</td><td> 5.02</td></tr>\n",
       "\t<tr><th scope=row>7056</th><td>NIFTY 50</td><td>1990-07-03</td><td>0</td><td>0</td><td>0</td><td>279.02</td><td>0</td><td> 0.00</td></tr>\n",
       "</tbody>\n",
       "</table>\n"
      ],
      "text/latex": [
       "A data.frame: 6 × 8\n",
       "\\begin{tabular}{r|llllllll}\n",
       "  & NAME & TIME\\_STAMP & HIGH & LOW & OPEN & CLOSE & VOLUME & abs\\_returns\\\\\n",
       "  & <chr> & <date> & <dbl> & <dbl> & <dbl> & <dbl> & <dbl> & <dbl>\\\\\n",
       "\\hline\n",
       "\t7051 & NIFTY 50 & 1990-07-11 & 0 & 0 & 0 & 293.30 & 0 &  4.61\\\\\n",
       "\t7052 & NIFTY 50 & 1990-07-10 & 0 & 0 & 0 & 288.69 & 0 & -1.00\\\\\n",
       "\t7053 & NIFTY 50 & 1990-07-09 & 0 & 0 & 0 & 289.69 & 0 &  0.65\\\\\n",
       "\t7054 & NIFTY 50 & 1990-07-06 & 0 & 0 & 0 & 289.04 & 0 &  5.00\\\\\n",
       "\t7055 & NIFTY 50 & 1990-07-05 & 0 & 0 & 0 & 284.04 & 0 &  5.02\\\\\n",
       "\t7056 & NIFTY 50 & 1990-07-03 & 0 & 0 & 0 & 279.02 & 0 &  0.00\\\\\n",
       "\\end{tabular}\n"
      ],
      "text/markdown": [
       "\n",
       "A data.frame: 6 × 8\n",
       "\n",
       "| <!--/--> | NAME &lt;chr&gt; | TIME_STAMP &lt;date&gt; | HIGH &lt;dbl&gt; | LOW &lt;dbl&gt; | OPEN &lt;dbl&gt; | CLOSE &lt;dbl&gt; | VOLUME &lt;dbl&gt; | abs_returns &lt;dbl&gt; |\n",
       "|---|---|---|---|---|---|---|---|---|\n",
       "| 7051 | NIFTY 50 | 1990-07-11 | 0 | 0 | 0 | 293.30 | 0 |  4.61 |\n",
       "| 7052 | NIFTY 50 | 1990-07-10 | 0 | 0 | 0 | 288.69 | 0 | -1.00 |\n",
       "| 7053 | NIFTY 50 | 1990-07-09 | 0 | 0 | 0 | 289.69 | 0 |  0.65 |\n",
       "| 7054 | NIFTY 50 | 1990-07-06 | 0 | 0 | 0 | 289.04 | 0 |  5.00 |\n",
       "| 7055 | NIFTY 50 | 1990-07-05 | 0 | 0 | 0 | 284.04 | 0 |  5.02 |\n",
       "| 7056 | NIFTY 50 | 1990-07-03 | 0 | 0 | 0 | 279.02 | 0 |  0.00 |\n",
       "\n"
      ],
      "text/plain": [
       "     NAME     TIME_STAMP HIGH LOW OPEN CLOSE  VOLUME abs_returns\n",
       "7051 NIFTY 50 1990-07-11 0    0   0    293.30 0       4.61      \n",
       "7052 NIFTY 50 1990-07-10 0    0   0    288.69 0      -1.00      \n",
       "7053 NIFTY 50 1990-07-09 0    0   0    289.69 0       0.65      \n",
       "7054 NIFTY 50 1990-07-06 0    0   0    289.04 0       5.00      \n",
       "7055 NIFTY 50 1990-07-05 0    0   0    284.04 0       5.02      \n",
       "7056 NIFTY 50 1990-07-03 0    0   0    279.02 0       0.00      "
      ]
     },
     "metadata": {},
     "output_type": "display_data"
    }
   ],
   "source": [
    "dim(nifty)"
   ]
  },
  {
   "cell_type": "markdown",
   "metadata": {},
   "source": [
    "This notebook was created using [pluto](http://pluto.studio). Learn more [here](https://github.com/shyams80/pluto)"
   ]
  }
 ],
 "metadata": {
  "kernelspec": {
   "display_name": "R",
   "language": "R",
   "name": "ir"
  },
  "language_info": {
   "codemirror_mode": "r",
   "file_extension": ".r",
   "mimetype": "text/x-r-source",
   "name": "R",
   "pygments_lexer": "r",
   "version": "3.4.4"
  }
 },
 "nbformat": 4,
 "nbformat_minor": 2
}
