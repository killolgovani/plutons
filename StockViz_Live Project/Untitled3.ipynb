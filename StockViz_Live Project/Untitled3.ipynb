{
 "cells": [
  {
   "cell_type": "code",
   "execution_count": null,
   "metadata": {},
   "outputs": [],
   "source": [
    "library(dbplyr)\n",
    "library(dplyr)\n",
    "library(odbc)\n",
    "library(plutoR)\n",
    "options(\"scipen\"=999)\n",
    "source(\"config.R\")\n",
    "\n",
    "indices<-Indices()"
   ]
  },
  {
   "cell_type": "code",
   "execution_count": null,
   "metadata": {},
   "outputs": [],
   "source": [
    "indices$NseTimeSeries() %>%\n",
    "     group_by(NAME) %>%\n",
    "     filter(NAME %like% '% TR%') %>%\n",
    "     summarize(ST=min(TIME_STAMP), ET=max(TIME_STAMP)) %>%\n",
    "     print(n = Inf) "
   ]
  },
  {
   "cell_type": "code",
   "execution_count": null,
   "metadata": {},
   "outputs": [],
   "source": [
    "indices$NseTimeSeries() %>%\n",
    "     group_by(NAME) %>%\n",
    "     filter(!(NAME %like% '% TR%')) %>%\n",
    "     summarize(ST=min(TIME_STAMP), ET=max(TIME_STAMP)) %>%\n",
    "     print(n = Inf) "
   ]
  }
 ],
 "metadata": {
  "kernelspec": {
   "display_name": "R",
   "language": "R",
   "name": "ir"
  },
  "language_info": {
   "codemirror_mode": "r",
   "file_extension": ".r",
   "mimetype": "text/x-r-source",
   "name": "R",
   "pygments_lexer": "r",
   "version": "3.4.4"
  }
 },
 "nbformat": 4,
 "nbformat_minor": 2
}
