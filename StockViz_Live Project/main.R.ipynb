{
 "cells": [
  {
   "cell_type": "markdown",
   "metadata": {},
   "source": [
    "Our project topic:\n",
    "Back-test a rotation strategy based on aggregate valuations of the NIFTY non-financial sector indices (AUTO, COMMODITIES, FMCG, etc...)\n",
    "\n",
    "How we have planned to go about it:\n",
    "\n",
    "1. Taking 5-6 non-financial sector indices like Auto, commodities, metal, fmcg,pharma.\n",
    "\n",
    "2. Determine seasonality and cyclicity in the each of these chosen indices. \n",
    "\n",
    "3. Based on this information, determine the frequency and the factors to be considered for rotation. \n",
    "\n",
    "4. Performing 5 different rotation strategies like:\n",
    "Fixed ratio\n",
    "Beta based\n",
    "Variable ratio\n",
    "Constant rupee plan\n",
    "Constant ratio plan\n",
    "This will help us understand the timing of entry and exit and the composition of the portfolio yielding maximum returns. \n",
    "\n",
    "5. Comparing the returns form each of these five types of strategies with that of a portfolio without any rotation IE, an untouched portfolio. "
   ]
  },
  {
   "cell_type": "code",
   "execution_count": 1,
   "metadata": {},
   "outputs": [
    {
     "name": "stderr",
     "output_type": "stream",
     "text": [
      "── \u001b[1mAttaching packages\u001b[22m ─────────────────────────────────────── tidyverse 1.2.1 ──\n",
      "\u001b[32m✔\u001b[39m \u001b[34mggplot2\u001b[39m 3.2.1     \u001b[32m✔\u001b[39m \u001b[34mpurrr  \u001b[39m 0.3.2\n",
      "\u001b[32m✔\u001b[39m \u001b[34mtibble \u001b[39m 2.1.3     \u001b[32m✔\u001b[39m \u001b[34mdplyr  \u001b[39m 0.8.3\n",
      "\u001b[32m✔\u001b[39m \u001b[34mtidyr  \u001b[39m 0.8.3     \u001b[32m✔\u001b[39m \u001b[34mstringr\u001b[39m 1.4.0\n",
      "\u001b[32m✔\u001b[39m \u001b[34mreadr  \u001b[39m 1.3.1     \u001b[32m✔\u001b[39m \u001b[34mforcats\u001b[39m 0.4.0\n",
      "── \u001b[1mConflicts\u001b[22m ────────────────────────────────────────── tidyverse_conflicts() ──\n",
      "\u001b[31m✖\u001b[39m \u001b[34mdplyr\u001b[39m::\u001b[32mfilter()\u001b[39m masks \u001b[34mstats\u001b[39m::filter()\n",
      "\u001b[31m✖\u001b[39m \u001b[34mdplyr\u001b[39m::\u001b[32mlag()\u001b[39m    masks \u001b[34mstats\u001b[39m::lag()\n",
      "Loading required package: xts\n",
      "Loading required package: zoo\n",
      "\n",
      "Attaching package: ‘zoo’\n",
      "\n",
      "The following objects are masked from ‘package:base’:\n",
      "\n",
      "    as.Date, as.Date.numeric\n",
      "\n",
      "Registered S3 method overwritten by 'xts':\n",
      "  method     from\n",
      "  as.zoo.xts zoo \n",
      "\n",
      "Attaching package: ‘xts’\n",
      "\n",
      "The following objects are masked from ‘package:dplyr’:\n",
      "\n",
      "    first, last\n",
      "\n",
      "Loading required package: TTR\n",
      "Registered S3 method overwritten by 'quantmod':\n",
      "  method            from\n",
      "  as.zoo.data.frame zoo \n",
      "Version 0.4-0 included new data defaults. See ?getSymbols.\n",
      "\n",
      "Attaching package: ‘PerformanceAnalytics’\n",
      "\n",
      "The following object is masked from ‘package:graphics’:\n",
      "\n",
      "    legend\n",
      "\n",
      "\n",
      "Attaching package: ‘lubridate’\n",
      "\n",
      "The following object is masked from ‘package:base’:\n",
      "\n",
      "    date\n",
      "\n",
      "Registering fonts with R\n"
     ]
    }
   ],
   "source": [
    "library(tidyverse)\n",
    "library(ggthemes)\n",
    "library(odbc)\n",
    "library(plutoR)\n",
    "library(quantmod)\n",
    "library(PerformanceAnalytics)\n",
    "library(ggrepel)\n",
    "library(lubridate)\n",
    "\n",
    "options(\"scipen\"=999)\n",
    "options(stringsAsFactors = FALSE)\n",
    "options(repr.plot.width=16, repr.plot.height=8)\n",
    "\n",
    "source(\"config.R\")\n",
    "source(\"goofy/plot.common.R\")\n",
    "\n",
    "\n",
    "indices<-Indices()"
   ]
  },
  {
   "cell_type": "code",
   "execution_count": 2,
   "metadata": {},
   "outputs": [
    {
     "name": "stdout",
     "output_type": "stream",
     "text": [
      "\u001b[90m# Source:     lazy query [?? x 7]\u001b[39m\n",
      "\u001b[90m# Database:   Microsoft SQL Server 13.00.4259[ro1@NORWAY/StockViz]\u001b[39m\n",
      "\u001b[90m# Ordered by: desc(TIME_STAMP)\u001b[39m\n",
      "   NAME                      TIME_STAMP    HIGH     LOW    OPEN   CLOSE   VOLUME\n",
      "   \u001b[3m\u001b[90m<chr>\u001b[39m\u001b[23m                     \u001b[3m\u001b[90m<date>\u001b[39m\u001b[23m       \u001b[3m\u001b[90m<dbl>\u001b[39m\u001b[23m   \u001b[3m\u001b[90m<dbl>\u001b[39m\u001b[23m   \u001b[3m\u001b[90m<dbl>\u001b[39m\u001b[23m   \u001b[3m\u001b[90m<dbl>\u001b[39m\u001b[23m    \u001b[3m\u001b[90m<dbl>\u001b[39m\u001b[23m\n",
      "\u001b[90m 1\u001b[39m NIFTY500 VALUE 50 TR      2019-08-30    \u001b[31mNA\u001b[39m      \u001b[31mNA\u001b[39m      \u001b[31mNA\u001b[39m    \u001b[4m5\u001b[24m142.   \u001b[31mNA\u001b[39m   \u001b[90m \u001b[39m \n",
      "\u001b[90m 2\u001b[39m NIFTY500 VALUE 50         2019-08-30    \u001b[31mNA\u001b[39m      \u001b[31mNA\u001b[39m      \u001b[31mNA\u001b[39m    \u001b[4m3\u001b[24m460.    3.63\u001b[90me\u001b[39m8\n",
      "\u001b[90m 3\u001b[39m NIFTY500 SHARIAH TR       2019-08-30    \u001b[31mNA\u001b[39m      \u001b[31mNA\u001b[39m      \u001b[31mNA\u001b[39m    \u001b[4m3\u001b[24m354.   \u001b[31mNA\u001b[39m   \u001b[90m \u001b[39m \n",
      "\u001b[90m 4\u001b[39m NIFTY500 SHARIAH          2019-08-30    \u001b[31mNA\u001b[39m      \u001b[31mNA\u001b[39m      \u001b[31mNA\u001b[39m    \u001b[4m2\u001b[24m858.    2.32\u001b[90me\u001b[39m8\n",
      "\u001b[90m 5\u001b[39m NIFTY50 VALUE 20 TR       2019-08-30    \u001b[31mNA\u001b[39m      \u001b[31mNA\u001b[39m      \u001b[31mNA\u001b[39m    \u001b[4m6\u001b[24m376.   \u001b[31mNA\u001b[39m   \u001b[90m \u001b[39m \n",
      "\u001b[90m 6\u001b[39m NIFTY50 VALUE 20          2019-08-30  \u001b[4m5\u001b[24m245.   \u001b[4m5\u001b[24m146.   \u001b[4m5\u001b[24m211.   \u001b[4m5\u001b[24m230.    3.87\u001b[90me\u001b[39m8\n",
      "\u001b[90m 7\u001b[39m NIFTY50 TR 2X LEV         2019-08-30  \u001b[4m5\u001b[24m774.   \u001b[4m5\u001b[24m601.   \u001b[4m5\u001b[24m718.   \u001b[4m5\u001b[24m754.   \u001b[31mNA\u001b[39m   \u001b[90m \u001b[39m \n",
      "\u001b[90m 8\u001b[39m NIFTY50 TR 1X INV         2019-08-30   375.    369.    371.    370.   \u001b[31mNA\u001b[39m   \u001b[90m \u001b[39m \n",
      "\u001b[90m 9\u001b[39m NIFTY50 SHARIAH TR        2019-08-30    \u001b[31mNA\u001b[39m      \u001b[31mNA\u001b[39m      \u001b[31mNA\u001b[39m    \u001b[4m2\u001b[24m934    \u001b[31mNA\u001b[39m   \u001b[90m \u001b[39m \n",
      "\u001b[90m10\u001b[39m NIFTY50 SHARIAH           2019-08-30    \u001b[31mNA\u001b[39m      \u001b[31mNA\u001b[39m      \u001b[31mNA\u001b[39m    \u001b[4m2\u001b[24m463.    8.00\u001b[90me\u001b[39m7\n",
      "\u001b[90m11\u001b[39m NIFTY50 PR 2X LEV         2019-08-30  \u001b[4m4\u001b[24m459.   \u001b[4m4\u001b[24m324.   \u001b[4m4\u001b[24m415.   \u001b[4m4\u001b[24m443.   \u001b[31mNA\u001b[39m   \u001b[90m \u001b[39m \n",
      "\u001b[90m12\u001b[39m NIFTY50 PR 1X INV         2019-08-30   426.    420.    422.    421.   \u001b[31mNA\u001b[39m   \u001b[90m \u001b[39m \n",
      "\u001b[90m13\u001b[39m NIFTY50 EQUAL WEIGHT TR   2019-08-30    \u001b[31mNA\u001b[39m      \u001b[31mNA\u001b[39m      \u001b[31mNA\u001b[39m   \u001b[4m1\u001b[24m\u001b[4m7\u001b[24m977.   \u001b[31mNA\u001b[39m   \u001b[90m \u001b[39m \n",
      "\u001b[90m14\u001b[39m NIFTY50 EQL WGT           2019-08-30 \u001b[4m1\u001b[24m\u001b[4m1\u001b[24m381.  \u001b[4m1\u001b[24m\u001b[4m1\u001b[24m162.  \u001b[4m1\u001b[24m\u001b[4m1\u001b[24m319.  \u001b[4m1\u001b[24m\u001b[4m1\u001b[24m354.    6.28\u001b[90me\u001b[39m8\n",
      "\u001b[90m15\u001b[39m NIFTY50 DIV POINT         2019-08-30    96.2    96.2    96.2    96.2  \u001b[31mNA\u001b[39m   \u001b[90m \u001b[39m \n",
      "\u001b[90m16\u001b[39m NIFTY200 QUALITY 30 TR    2019-08-30    \u001b[31mNA\u001b[39m      \u001b[31mNA\u001b[39m      \u001b[31mNA\u001b[39m   \u001b[4m1\u001b[24m\u001b[4m2\u001b[24m014.   \u001b[31mNA\u001b[39m   \u001b[90m \u001b[39m \n",
      "\u001b[90m17\u001b[39m NIFTY200 QUALITY 30       2019-08-30    \u001b[31mNA\u001b[39m      \u001b[31mNA\u001b[39m      \u001b[31mNA\u001b[39m    \u001b[4m9\u001b[24m322.   \u001b[31mNA\u001b[39m   \u001b[90m \u001b[39m \n",
      "\u001b[90m18\u001b[39m NIFTY100 QUALITY 30 TR    2019-08-30    \u001b[31mNA\u001b[39m      \u001b[31mNA\u001b[39m      \u001b[31mNA\u001b[39m    \u001b[4m3\u001b[24m018.   \u001b[31mNA\u001b[39m   \u001b[90m \u001b[39m \n",
      "\u001b[90m19\u001b[39m NIFTY100 LOWVOL30         2019-08-30  \u001b[4m8\u001b[24m532.   \u001b[4m8\u001b[24m395.   \u001b[4m8\u001b[24m481.   \u001b[4m8\u001b[24m519.    1.19\u001b[90me\u001b[39m8\n",
      "\u001b[90m20\u001b[39m NIFTY100 LOW VOLATILITY … 2019-08-30    \u001b[31mNA\u001b[39m      \u001b[31mNA\u001b[39m      \u001b[31mNA\u001b[39m   \u001b[4m1\u001b[24m\u001b[4m0\u001b[24m820.   \u001b[31mNA\u001b[39m   \u001b[90m \u001b[39m \n",
      "\u001b[90m# … with more rows\u001b[39m\n"
     ]
    }
   ],
   "source": [
    "today <- Sys.Date()\n",
    "startDt <- today - 100\n",
    "\n",
    "indices_data <-indices$NseTimeSeries() %>%\n",
    "                  filter(TIME_STAMP >= startDt) %>%\n",
    "                  arrange(desc(TIME_STAMP)) %>%\n",
    "                  print(n=20)"
   ]
  },
  {
   "cell_type": "code",
   "execution_count": 3,
   "metadata": {},
   "outputs": [
    {
     "name": "stdout",
     "output_type": "stream",
     "text": [
      "\u001b[90m# Source:     lazy query [?? x 5]\u001b[39m\n",
      "\u001b[90m# Database:   Microsoft SQL Server 13.00.4259[ro1@NORWAY/StockViz]\u001b[39m\n",
      "\u001b[90m# Ordered by: desc(TIME_STAMP)\u001b[39m\n",
      "  TIME_STAMP  HIGH   LOW  OPEN CLOSE\n",
      "  \u001b[3m\u001b[90m<date>\u001b[39m\u001b[23m     \u001b[3m\u001b[90m<dbl>\u001b[39m\u001b[23m \u001b[3m\u001b[90m<dbl>\u001b[39m\u001b[23m \u001b[3m\u001b[90m<dbl>\u001b[39m\u001b[23m \u001b[3m\u001b[90m<dbl>\u001b[39m\u001b[23m\n",
      "\u001b[90m1\u001b[39m 2019-08-30  17.4  15.2  16.4  16.3\n",
      "\u001b[90m2\u001b[39m 2019-08-29  17.4  13.9  16.8  16.4\n",
      "\u001b[90m3\u001b[39m 2019-08-28  17.4  14.1  16.0  16.8\n",
      "\u001b[90m4\u001b[39m 2019-08-27  16.8  14.4  16.7  16.0\n",
      "\u001b[90m5\u001b[39m 2019-08-26  19.1  13.7  17.3  16.7\n",
      "\u001b[90m6\u001b[39m 2019-08-23  18.3  13.7  17.9  17.3\n"
     ]
    }
   ],
   "source": [
    "today <- Sys.Date()\n",
    "startDt <- today - 10\n",
    "\n",
    "indices$IndiaVixTimeSeries() %>%\n",
    "  filter(TIME_STAMP >= startDt) %>%\n",
    "  arrange(desc(TIME_STAMP)) %>%\n",
    "  print()"
   ]
  },
  {
   "cell_type": "code",
   "execution_count": 4,
   "metadata": {},
   "outputs": [
    {
     "data": {
      "text/html": [
       "<ol class=list-inline>\n",
       "\t<li>'tbl_Microsoft SQL Server'</li>\n",
       "\t<li>'tbl_dbi'</li>\n",
       "\t<li>'tbl_sql'</li>\n",
       "\t<li>'tbl_lazy'</li>\n",
       "\t<li>'tbl'</li>\n",
       "</ol>\n"
      ],
      "text/latex": [
       "\\begin{enumerate*}\n",
       "\\item 'tbl\\_Microsoft SQL Server'\n",
       "\\item 'tbl\\_dbi'\n",
       "\\item 'tbl\\_sql'\n",
       "\\item 'tbl\\_lazy'\n",
       "\\item 'tbl'\n",
       "\\end{enumerate*}\n"
      ],
      "text/markdown": [
       "1. 'tbl_Microsoft SQL Server'\n",
       "2. 'tbl_dbi'\n",
       "3. 'tbl_sql'\n",
       "4. 'tbl_lazy'\n",
       "5. 'tbl'\n",
       "\n",
       "\n"
      ],
      "text/plain": [
       "[1] \"tbl_Microsoft SQL Server\" \"tbl_dbi\"                 \n",
       "[3] \"tbl_sql\"                  \"tbl_lazy\"                \n",
       "[5] \"tbl\"                     "
      ]
     },
     "metadata": {},
     "output_type": "display_data"
    }
   ],
   "source": [
    "class(indices_data)"
   ]
  },
  {
   "cell_type": "markdown",
   "metadata": {},
   "source": [
    "This notebook was created using [pluto](http://pluto.studio). Learn more [here](https://github.com/shyams80/pluto)"
   ]
  }
 ],
 "metadata": {
  "kernelspec": {
   "display_name": "R",
   "language": "R",
   "name": "ir"
  },
  "language_info": {
   "codemirror_mode": "r",
   "file_extension": ".r",
   "mimetype": "text/x-r-source",
   "name": "R",
   "pygments_lexer": "r",
   "version": "3.6.1"
  }
 },
 "nbformat": 4,
 "nbformat_minor": 2
}
