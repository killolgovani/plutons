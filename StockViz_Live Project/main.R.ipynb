{
 "cells": [
  {
   "cell_type": "markdown",
   "metadata": {},
   "source": [
    "Our project topic:\n",
    "Back-test a rotation strategy based on aggregate valuations of the NIFTY non-financial sector indices (AUTO, COMMODITIES, FMCG, etc...)\n",
    "\n",
    "How we have planned to go about it:\n",
    "\n",
    "1. Taking 5-6 non-financial sector indices like Auto, commodities, metal, fmcg,pharma.\n",
    "\n",
    "2. Determine seasonality and cyclicity in the each of these chosen indices. \n",
    "\n",
    "3. Based on this information, determine the frequency and the factors to be considered for rotation. \n",
    "\n",
    "4. Performing 5 different rotation strategies like:\n",
    "Fixed ratio\n",
    "Beta based\n",
    "Variable ratio\n",
    "Constant rupee plan\n",
    "Constant ratio plan\n",
    "This will help us understand the timing of entry and exit and the composition of the portfolio yielding maximum returns. \n",
    "\n",
    "5. Comparing the returns form each of these five types of strategies with that of a portfolio without any rotation IE, an untouched portfolio. "
   ]
  },
  {
   "cell_type": "code",
   "execution_count": 1,
   "metadata": {},
   "outputs": [
    {
     "name": "stderr",
     "output_type": "stream",
     "text": [
      "── \u001b[1mAttaching packages\u001b[22m ─────────────────────────────────────── tidyverse 1.2.1 ──\n",
      "\u001b[32m✔\u001b[39m \u001b[34mggplot2\u001b[39m 3.2.1     \u001b[32m✔\u001b[39m \u001b[34mpurrr  \u001b[39m 0.3.2\n",
      "\u001b[32m✔\u001b[39m \u001b[34mtibble \u001b[39m 2.1.3     \u001b[32m✔\u001b[39m \u001b[34mdplyr  \u001b[39m 0.8.3\n",
      "\u001b[32m✔\u001b[39m \u001b[34mtidyr  \u001b[39m 0.8.3     \u001b[32m✔\u001b[39m \u001b[34mstringr\u001b[39m 1.4.0\n",
      "\u001b[32m✔\u001b[39m \u001b[34mreadr  \u001b[39m 1.3.1     \u001b[32m✔\u001b[39m \u001b[34mforcats\u001b[39m 0.4.0\n",
      "── \u001b[1mConflicts\u001b[22m ────────────────────────────────────────── tidyverse_conflicts() ──\n",
      "\u001b[31m✖\u001b[39m \u001b[34mdplyr\u001b[39m::\u001b[32mfilter()\u001b[39m masks \u001b[34mstats\u001b[39m::filter()\n",
      "\u001b[31m✖\u001b[39m \u001b[34mdplyr\u001b[39m::\u001b[32mlag()\u001b[39m    masks \u001b[34mstats\u001b[39m::lag()\n",
      "Loading required package: xts\n",
      "Loading required package: zoo\n",
      "\n",
      "Attaching package: ‘zoo’\n",
      "\n",
      "The following objects are masked from ‘package:base’:\n",
      "\n",
      "    as.Date, as.Date.numeric\n",
      "\n",
      "Registered S3 method overwritten by 'xts':\n",
      "  method     from\n",
      "  as.zoo.xts zoo \n",
      "\n",
      "Attaching package: ‘xts’\n",
      "\n",
      "The following objects are masked from ‘package:dplyr’:\n",
      "\n",
      "    first, last\n",
      "\n",
      "Loading required package: TTR\n",
      "Registered S3 method overwritten by 'quantmod':\n",
      "  method            from\n",
      "  as.zoo.data.frame zoo \n",
      "Version 0.4-0 included new data defaults. See ?getSymbols.\n",
      "\n",
      "Attaching package: ‘PerformanceAnalytics’\n",
      "\n",
      "The following object is masked from ‘package:graphics’:\n",
      "\n",
      "    legend\n",
      "\n",
      "\n",
      "Attaching package: ‘lubridate’\n",
      "\n",
      "The following object is masked from ‘package:base’:\n",
      "\n",
      "    date\n",
      "\n",
      "Registering fonts with R\n"
     ]
    }
   ],
   "source": [
    "library(tidyverse)\n",
    "library(ggthemes)\n",
    "library(odbc)\n",
    "library(plutoR)\n",
    "library(quantmod)\n",
    "library(PerformanceAnalytics)\n",
    "library(ggrepel)\n",
    "library(lubridate)\n",
    "\n",
    "options(\"scipen\"=999)\n",
    "options(stringsAsFactors = FALSE)\n",
    "options(repr.plot.width=16, repr.plot.height=8)\n",
    "\n",
    "source(\"config.R\")\n",
    "source(\"goofy/plot.common.R\")\n",
    "\n",
    "\n",
    "indices<-Indices()"
   ]
  },
  {
   "cell_type": "code",
   "execution_count": 2,
   "metadata": {},
   "outputs": [
    {
     "name": "stdout",
     "output_type": "stream",
     "text": [
      "\u001b[90m# Source:     lazy query [?? x 5]\u001b[39m\n",
      "\u001b[90m# Database:   Microsoft SQL Server 13.00.4259[ro1@NORWAY/StockViz]\u001b[39m\n",
      "\u001b[90m# Ordered by: desc(TIME_STAMP)\u001b[39m\n",
      "   TIME_STAMP  HIGH   LOW  OPEN CLOSE\n",
      "   \u001b[3m\u001b[90m<date>\u001b[39m\u001b[23m     \u001b[3m\u001b[90m<dbl>\u001b[39m\u001b[23m \u001b[3m\u001b[90m<dbl>\u001b[39m\u001b[23m \u001b[3m\u001b[90m<dbl>\u001b[39m\u001b[23m \u001b[3m\u001b[90m<dbl>\u001b[39m\u001b[23m\n",
      "\u001b[90m 1\u001b[39m 2019-08-13  18.0 15.1   15.8  17.8\n",
      "\u001b[90m 2\u001b[39m 2019-08-09  16.2 15.0   16.1  15.8\n",
      "\u001b[90m 3\u001b[39m 2019-08-08  16.7 15.5   16.7  16.1\n",
      "\u001b[90m 4\u001b[39m 2019-08-07  16.9 15.7   16.1  16.7\n",
      "\u001b[90m 5\u001b[39m 2019-08-06  16.8 15.6   16.6  16.1\n",
      "\u001b[90m 6\u001b[39m 2019-08-05  17.8 15.2   15.2  16.6\n",
      "\u001b[90m 7\u001b[39m 2019-08-02  16.2 14.4   14.6  15.2\n",
      "\u001b[90m 8\u001b[39m 2019-08-01  15.3 13.3   13.6  14.6\n",
      "\u001b[90m 9\u001b[39m 2019-07-30  13.9 12.5   13.1  13.6\n",
      "\u001b[90m10\u001b[39m 2019-07-29  13.5 12.0   12.1  13.1\n",
      "\u001b[90m11\u001b[39m 2019-07-26  13.3 11.9   12.6  12.1\n",
      "\u001b[90m12\u001b[39m 2019-07-25  13.6 12.0   12.8  12.6\n",
      "\u001b[90m13\u001b[39m 2019-07-24  14.5 11.8   13.4  12.8\n",
      "\u001b[90m14\u001b[39m 2019-07-23  13.8 11.6   13.0  13.4\n",
      "\u001b[90m15\u001b[39m 2019-07-22  13.4 11.6   12.5  13.0\n",
      "\u001b[90m16\u001b[39m 2019-07-19  12.7 10.6   11.8  12.5\n",
      "\u001b[90m17\u001b[39m 2019-07-18  12.0  9.22  11.8  11.8\n",
      "\u001b[90m18\u001b[39m 2019-07-17  11.9  9.16  11.6  11.8\n",
      "\u001b[90m19\u001b[39m 2019-07-16  12.0 11.1   12.0  11.6\n",
      "\u001b[90m20\u001b[39m 2019-07-15  12.5 10.6   12.0  12.0\n",
      "\u001b[90m21\u001b[39m 2019-07-12  12.6 11.6   12.5  12.0\n",
      "\u001b[90m22\u001b[39m 2019-07-11  13.6 12.2   13.6  12.5\n",
      "\u001b[90m23\u001b[39m 2019-07-10  14.0 12.4   13.7  13.6\n",
      "\u001b[90m24\u001b[39m 2019-07-09  14.2 13.4   13.9  13.7\n",
      "\u001b[90m25\u001b[39m 2019-07-08  14.0 12.1   13.1  13.9\n",
      "\u001b[90m26\u001b[39m 2019-07-05  14.0 12.7   13.5  13.1\n",
      "\u001b[90m27\u001b[39m 2019-07-04  13.7 13.0   13.7  13.5\n",
      "\u001b[90m28\u001b[39m 2019-07-03  14.3 13.5   14.2  13.7\n",
      "\u001b[90m29\u001b[39m 2019-07-02  14.8 14.0   14.6  14.2\n",
      "\u001b[90m30\u001b[39m 2019-07-01  15.0 14.5   15.0  14.6\n",
      "\u001b[90m31\u001b[39m 2019-06-28  15.1 14.0   14.6  15.0\n",
      "\u001b[90m32\u001b[39m 2019-06-27  14.9 13.6   14.8  14.6\n",
      "\u001b[90m33\u001b[39m 2019-06-26  15.2 14.4   15.0  14.8\n",
      "\u001b[90m34\u001b[39m 2019-06-25  15.6 14.9   15.2  15.0\n"
     ]
    }
   ],
   "source": [
    "today <- Sys.Date()\n",
    "startDt <- today - 50\n",
    "\n",
    "indices$IndiaVixTimeSeries() %>%\n",
    "  filter(TIME_STAMP >= startDt) %>%\n",
    "  arrange(desc(TIME_STAMP)) %>%\n",
    "  print(n=Inf)"
   ]
  },
  {
   "cell_type": "code",
   "execution_count": 3,
   "metadata": {},
   "outputs": [
    {
     "data": {
      "text/plain": [
       "NULL"
      ]
     },
     "metadata": {},
     "output_type": "display_data"
    }
   ],
   "source": [
    "colnames(indices)"
   ]
  },
  {
   "cell_type": "markdown",
   "metadata": {},
   "source": [
    "This notebook was created using [pluto](http://pluto.studio). Learn more [here](https://github.com/shyams80/pluto)"
   ]
  }
 ],
 "metadata": {
  "kernelspec": {
   "display_name": "R",
   "language": "R",
   "name": "ir"
  },
  "language_info": {
   "codemirror_mode": "r",
   "file_extension": ".r",
   "mimetype": "text/x-r-source",
   "name": "R",
   "pygments_lexer": "r",
   "version": "3.6.1"
  }
 },
 "nbformat": 4,
 "nbformat_minor": 2
}
