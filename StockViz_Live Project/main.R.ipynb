{
 "cells": [
  {
   "cell_type": "markdown",
   "metadata": {},
   "source": [
    "Our project topic:\n",
    "Back-test a rotation strategy based on aggregate valuations of the NIFTY non-financial sector indices (AUTO, COMMODITIES, FMCG, etc...)\n",
    "\n",
    "How we have planned to go about it:\n",
    "\n",
    "1. Taking 5-6 non-financial sector indices like Auto, commodities, metal, fmcg,pharma.\n",
    "\n",
    "2. Determine seasonality and cyclicity in the each of these chosen indices. \n",
    "\n",
    "3. Based on this information, determine the frequency and the factors to be considered for rotation. \n",
    "\n",
    "4. Performing 5 different rotation strategies like:\n",
    "Fixed ratio\n",
    "Beta based\n",
    "Variable ratio\n",
    "Constant rupee plan\n",
    "Constant ratio plan\n",
    "This will help us understand the timing of entry and exit and the composition of the portfolio yielding maximum returns. \n",
    "\n",
    "5. Comparing the returns form each of these five types of strategies with that of a portfolio without any rotation IE, an untouched portfolio. "
   ]
  },
  {
   "cell_type": "code",
   "execution_count": 1,
   "metadata": {},
   "outputs": [
    {
     "name": "stderr",
     "output_type": "stream",
     "text": [
      "\n",
      "Attaching package: ‘dplyr’\n",
      "\n",
      "The following objects are masked from ‘package:dbplyr’:\n",
      "\n",
      "    ident, sql\n",
      "\n",
      "The following objects are masked from ‘package:stats’:\n",
      "\n",
      "    filter, lag\n",
      "\n",
      "The following objects are masked from ‘package:base’:\n",
      "\n",
      "    intersect, setdiff, setequal, union\n",
      "\n",
      "Warning message in file(filename, \"r\", encoding = encoding):\n",
      "“cannot open file '../R/config.R': No such file or directory”"
     ]
    },
    {
     "ename": "ERROR",
     "evalue": "Error in file(filename, \"r\", encoding = encoding): cannot open the connection\n",
     "output_type": "error",
     "traceback": [
      "Error in file(filename, \"r\", encoding = encoding): cannot open the connection\nTraceback:\n",
      "1. source(\"../R/config.R\")",
      "2. file(filename, \"r\", encoding = encoding)"
     ]
    }
   ],
   "source": [
    "library(dbplyr)\n",
    "library(dplyr)\n",
    "library(odbc)\n",
    "library(plutoR)\n",
    "options(\"scipen\"=999)\n",
    "source(\"../R/config.R\")\n",
    "\n",
    "indices<-Indices()"
   ]
  },
  {
   "cell_type": "code",
   "execution_count": 2,
   "metadata": {},
   "outputs": [
    {
     "ename": "ERROR",
     "evalue": "Error in eval(lhs, parent, parent): object 'indices' not found\n",
     "output_type": "error",
     "traceback": [
      "Error in eval(lhs, parent, parent): object 'indices' not found\nTraceback:\n",
      "1. indices$IndiaVixTimeSeries() %>% top_n(10, wt = TIME_STAMP) %>% \n .     print(n = Inf)",
      "2. eval(lhs, parent, parent)",
      "3. eval(lhs, parent, parent)"
     ]
    }
   ],
   "source": [
    "indices$IndiaVixTimeSeries() %>%\n",
    "  top_n(10, wt=TIME_STAMP) %>%\n",
    "  print(n=Inf)"
   ]
  },
  {
   "cell_type": "code",
   "execution_count": null,
   "metadata": {},
   "outputs": [],
   "source": [
    "print(\"hello world\")"
   ]
  },
  {
   "cell_type": "markdown",
   "metadata": {},
   "source": [
    "This notebook was created using [pluto](http://pluto.studio). Learn more [here](https://github.com/shyams80/pluto)"
   ]
  }
 ],
 "metadata": {
  "kernelspec": {
   "display_name": "R",
   "language": "R",
   "name": "ir"
  },
  "language_info": {
   "codemirror_mode": "r",
   "file_extension": ".r",
   "mimetype": "text/x-r-source",
   "name": "R",
   "pygments_lexer": "r",
   "version": "3.4.4"
  }
 },
 "nbformat": 4,
 "nbformat_minor": 2
}
