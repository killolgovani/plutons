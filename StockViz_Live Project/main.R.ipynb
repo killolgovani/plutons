{
 "cells": [
  {
   "cell_type": "markdown",
   "metadata": {},
   "source": [
    "Our project topic:\n",
    "Back-test a rotation strategy based on aggregate valuations of the NIFTY non-financial sector indices (AUTO, COMMODITIES, FMCG, etc...)\n",
    "\n",
    "How we have planned to go about it:\n",
    "\n",
    "1. Taking 5-6 non-financial sector indices like Auto, commodities, metal, fmcg,pharma.\n",
    "\n",
    "2. Determine seasonality and cyclicity in the each of these chosen indices. \n",
    "\n",
    "3. Based on this information, determine the frequency and the factors to be considered for rotation. \n",
    "\n",
    "4. Performing 5 different rotation strategies like:\n",
    "Fixed ratio\n",
    "Beta based\n",
    "Variable ratio\n",
    "Constant rupee plan\n",
    "Constant ratio plan\n",
    "This will help us understand the timing of entry and exit and the composition of the portfolio yielding maximum returns. \n",
    "\n",
    "5. Comparing the returns form each of these five types of strategies with that of a portfolio without any rotation IE, an untouched portfolio. "
   ]
  },
  {
   "cell_type": "code",
   "execution_count": 1,
   "metadata": {},
   "outputs": [
    {
     "name": "stderr",
     "output_type": "stream",
     "text": [
      "\n",
      "Attaching package: ‘dplyr’\n",
      "\n",
      "The following objects are masked from ‘package:dbplyr’:\n",
      "\n",
      "    ident, sql\n",
      "\n",
      "The following objects are masked from ‘package:stats’:\n",
      "\n",
      "    filter, lag\n",
      "\n",
      "The following objects are masked from ‘package:base’:\n",
      "\n",
      "    intersect, setdiff, setequal, union\n",
      "\n"
     ]
    }
   ],
   "source": [
    "library(dbplyr)\n",
    "library(dplyr)\n",
    "library(odbc)\n",
    "library(plutoR)\n",
    "options(\"scipen\"=999)\n",
    "source(\"config.R\")\n",
    "\n",
    "indices<-Indices()"
   ]
  },
  {
   "cell_type": "code",
   "execution_count": 2,
   "metadata": {},
   "outputs": [
    {
     "ename": "ERROR",
     "evalue": "Error: <SQL> 'SELECT *\nFROM (SELECT TOP 100 PERCENT \"TIME_STAMP\", \"PX_HIGH\" AS \"HIGH\", \"PX_LOW\" AS \"LOW\", \"PX_OPEN\" AS \"OPEN\", \"PX_CLOSE\" AS \"CLOSE\"\nFROM \"VIX_HISTORY\") \"dbplyr_001\"\nWHERE (top_n_rank(10.0, \"TIME_STAMP\"))'\n  nanodbc/nanodbc.cpp:1587: 42000: [Microsoft][ODBC Driver 17 for SQL Server][SQL Server]'top_n_rank' is not a recognized built-in function name. \n",
     "output_type": "error",
     "traceback": [
      "Error: <SQL> 'SELECT *\nFROM (SELECT TOP 100 PERCENT \"TIME_STAMP\", \"PX_HIGH\" AS \"HIGH\", \"PX_LOW\" AS \"LOW\", \"PX_OPEN\" AS \"OPEN\", \"PX_CLOSE\" AS \"CLOSE\"\nFROM \"VIX_HISTORY\") \"dbplyr_001\"\nWHERE (top_n_rank(10.0, \"TIME_STAMP\"))'\n  nanodbc/nanodbc.cpp:1587: 42000: [Microsoft][ODBC Driver 17 for SQL Server][SQL Server]'top_n_rank' is not a recognized built-in function name. \nTraceback:\n",
      "1. indices$IndiaVixTimeSeries() %>% top_n(10, wt = TIME_STAMP) %>% \n .     print(n = Inf)",
      "2. withVisible(eval(quote(`_fseq`(`_lhs`)), env, env))",
      "3. eval(quote(`_fseq`(`_lhs`)), env, env)",
      "4. eval(quote(`_fseq`(`_lhs`)), env, env)",
      "5. `_fseq`(`_lhs`)",
      "6. freduce(value, `_function_list`)",
      "7. withVisible(function_list[[k]](value))",
      "8. function_list[[k]](value)",
      "9. print(., n = Inf)",
      "10. print.tbl_sql(., n = Inf)",
      "11. cat_line(format(x, ..., n = n, width = width, n_extra = n_extra))",
      "12. cat(paste0(..., \"\\n\"), sep = \"\")",
      "13. paste0(..., \"\\n\")",
      "14. format(x, ..., n = n, width = width, n_extra = n_extra)",
      "15. format.tbl(x, ..., n = n, width = width, n_extra = n_extra)",
      "16. trunc_mat(x, n = n, width = width, n_extra = n_extra)",
      "17. as.data.frame(head(x, n + 1))",
      "18. as.data.frame.tbl_sql(head(x, n + 1))",
      "19. as.data.frame(collect(x, n = n))",
      "20. collect(x, n = n)",
      "21. collect.tbl_sql(x, n = n)",
      "22. db_collect(x$src$con, sql, n = n, warn_incomplete = warn_incomplete)",
      "23. db_collect.DBIConnection(x$src$con, sql, n = n, warn_incomplete = warn_incomplete)",
      "24. dbSendQuery(con, sql)",
      "25. dbSendQuery(con, sql)",
      "26. OdbcResult(connection = conn, statement = statement)",
      "27. new_result(connection@ptr, statement)"
     ]
    }
   ],
   "source": [
    "indices$IndiaVixTimeSeries() %>%\n",
    "  top_n(10, wt=TIME_STAMP) %>%\n",
    "  print(n=Inf)"
   ]
  },
  {
   "cell_type": "code",
   "execution_count": 3,
   "metadata": {},
   "outputs": [
    {
     "ename": "ERROR",
     "evalue": "Error: <SQL> 'SELECT *\nFROM (SELECT TOP 100 PERCENT \"TIME_STAMP\", \"PX_HIGH\" AS \"HIGH\", \"PX_LOW\" AS \"LOW\", \"PX_OPEN\" AS \"OPEN\", \"PX_CLOSE\" AS \"CLOSE\"\nFROM \"VIX_HISTORY\") \"dbplyr_002\"\nWHERE (top_n_rank(10.0, \"TIME_STAMP\"))'\n  nanodbc/nanodbc.cpp:1587: 42000: [Microsoft][ODBC Driver 17 for SQL Server][SQL Server]'top_n_rank' is not a recognized built-in function name. \n",
     "output_type": "error",
     "traceback": [
      "Error: <SQL> 'SELECT *\nFROM (SELECT TOP 100 PERCENT \"TIME_STAMP\", \"PX_HIGH\" AS \"HIGH\", \"PX_LOW\" AS \"LOW\", \"PX_OPEN\" AS \"OPEN\", \"PX_CLOSE\" AS \"CLOSE\"\nFROM \"VIX_HISTORY\") \"dbplyr_002\"\nWHERE (top_n_rank(10.0, \"TIME_STAMP\"))'\n  nanodbc/nanodbc.cpp:1587: 42000: [Microsoft][ODBC Driver 17 for SQL Server][SQL Server]'top_n_rank' is not a recognized built-in function name. \nTraceback:\n",
      "1. indices$IndiaVixTimeSeries() %>% top_n(10, wt = TIME_STAMP) %>% \n .     print(n = Inf)",
      "2. withVisible(eval(quote(`_fseq`(`_lhs`)), env, env))",
      "3. eval(quote(`_fseq`(`_lhs`)), env, env)",
      "4. eval(quote(`_fseq`(`_lhs`)), env, env)",
      "5. `_fseq`(`_lhs`)",
      "6. freduce(value, `_function_list`)",
      "7. withVisible(function_list[[k]](value))",
      "8. function_list[[k]](value)",
      "9. print(., n = Inf)",
      "10. print.tbl_sql(., n = Inf)",
      "11. cat_line(format(x, ..., n = n, width = width, n_extra = n_extra))",
      "12. cat(paste0(..., \"\\n\"), sep = \"\")",
      "13. paste0(..., \"\\n\")",
      "14. format(x, ..., n = n, width = width, n_extra = n_extra)",
      "15. format.tbl(x, ..., n = n, width = width, n_extra = n_extra)",
      "16. trunc_mat(x, n = n, width = width, n_extra = n_extra)",
      "17. as.data.frame(head(x, n + 1))",
      "18. as.data.frame.tbl_sql(head(x, n + 1))",
      "19. as.data.frame(collect(x, n = n))",
      "20. collect(x, n = n)",
      "21. collect.tbl_sql(x, n = n)",
      "22. db_collect(x$src$con, sql, n = n, warn_incomplete = warn_incomplete)",
      "23. db_collect.DBIConnection(x$src$con, sql, n = n, warn_incomplete = warn_incomplete)",
      "24. dbSendQuery(con, sql)",
      "25. dbSendQuery(con, sql)",
      "26. OdbcResult(connection = conn, statement = statement)",
      "27. new_result(connection@ptr, statement)"
     ]
    }
   ],
   "source": [
    "indices$IndiaVixTimeSeries() %>%\n",
    "  top_n(10, wt=TIME_STAMP) %>%\n",
    "  print(n=Inf)"
   ]
  },
  {
   "cell_type": "markdown",
   "metadata": {},
   "source": [
    "This notebook was created using [pluto](http://pluto.studio). Learn more [here](https://github.com/shyams80/pluto)"
   ]
  }
 ],
 "metadata": {
  "kernelspec": {
   "display_name": "R",
   "language": "R",
   "name": "ir"
  },
  "language_info": {
   "codemirror_mode": "r",
   "file_extension": ".r",
   "mimetype": "text/x-r-source",
   "name": "R",
   "pygments_lexer": "r",
   "version": "3.4.4"
  }
 },
 "nbformat": 4,
 "nbformat_minor": 2
}
