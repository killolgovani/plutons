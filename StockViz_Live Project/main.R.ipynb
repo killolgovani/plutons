{
 "cells": [
  {
   "cell_type": "markdown",
   "metadata": {},
   "source": [
    "Our project topic:\n",
    "Back-test a rotation strategy based on aggregate valuations of the NIFTY non-financial sector indices (AUTO, COMMODITIES, FMCG, etc...)\n",
    "\n",
    "How we have planned to go about it:\n",
    "\n",
    "1. Taking 5-6 non-financial sector indices like Auto, commodities, metal, fmcg,pharma.\n",
    "\n",
    "2. Determine seasonality and cyclicity in the each of these chosen indices. \n",
    "\n",
    "3. Based on this information, determine the frequency and the factors to be considered for rotation. \n",
    "\n",
    "4. Performing 5 different rotation strategies like:\n",
    "Fixed ratio\n",
    "Beta based\n",
    "Variable ratio\n",
    "Constant rupee plan\n",
    "Constant ratio plan\n",
    "This will help us understand the timing of entry and exit and the composition of the portfolio yielding maximum returns. \n",
    "\n",
    "5. Comparing the returns form each of these five types of strategies with that of a portfolio without any rotation IE, an untouched portfolio. "
   ]
  },
  {
   "cell_type": "code",
   "execution_count": 1,
   "metadata": {},
   "outputs": [
    {
     "name": "stderr",
     "output_type": "stream",
     "text": [
      "── \u001b[1mAttaching packages\u001b[22m ─────────────────────────────────────── tidyverse 1.2.1 ──\n",
      "\u001b[32m✔\u001b[39m \u001b[34mggplot2\u001b[39m 3.2.1     \u001b[32m✔\u001b[39m \u001b[34mpurrr  \u001b[39m 0.3.2\n",
      "\u001b[32m✔\u001b[39m \u001b[34mtibble \u001b[39m 2.1.3     \u001b[32m✔\u001b[39m \u001b[34mdplyr  \u001b[39m 0.8.3\n",
      "\u001b[32m✔\u001b[39m \u001b[34mtidyr  \u001b[39m 0.8.3     \u001b[32m✔\u001b[39m \u001b[34mstringr\u001b[39m 1.4.0\n",
      "\u001b[32m✔\u001b[39m \u001b[34mreadr  \u001b[39m 1.3.1     \u001b[32m✔\u001b[39m \u001b[34mforcats\u001b[39m 0.4.0\n",
      "── \u001b[1mConflicts\u001b[22m ────────────────────────────────────────── tidyverse_conflicts() ──\n",
      "\u001b[31m✖\u001b[39m \u001b[34mdplyr\u001b[39m::\u001b[32mfilter()\u001b[39m masks \u001b[34mstats\u001b[39m::filter()\n",
      "\u001b[31m✖\u001b[39m \u001b[34mdplyr\u001b[39m::\u001b[32mlag()\u001b[39m    masks \u001b[34mstats\u001b[39m::lag()\n",
      "Loading required package: xts\n",
      "Loading required package: zoo\n",
      "\n",
      "Attaching package: ‘zoo’\n",
      "\n",
      "The following objects are masked from ‘package:base’:\n",
      "\n",
      "    as.Date, as.Date.numeric\n",
      "\n",
      "Registered S3 method overwritten by 'xts':\n",
      "  method     from\n",
      "  as.zoo.xts zoo \n",
      "\n",
      "Attaching package: ‘xts’\n",
      "\n",
      "The following objects are masked from ‘package:dplyr’:\n",
      "\n",
      "    first, last\n",
      "\n",
      "Loading required package: TTR\n",
      "Registered S3 method overwritten by 'quantmod':\n",
      "  method            from\n",
      "  as.zoo.data.frame zoo \n",
      "Version 0.4-0 included new data defaults. See ?getSymbols.\n",
      "\n",
      "Attaching package: ‘PerformanceAnalytics’\n",
      "\n",
      "The following object is masked from ‘package:graphics’:\n",
      "\n",
      "    legend\n",
      "\n",
      "\n",
      "Attaching package: ‘lubridate’\n",
      "\n",
      "The following object is masked from ‘package:base’:\n",
      "\n",
      "    date\n",
      "\n",
      "Registering fonts with R\n"
     ]
    }
   ],
   "source": [
    "library(tidyverse)\n",
    "library(ggthemes)\n",
    "library(odbc)\n",
    "library(plutoR)\n",
    "library(quantmod)\n",
    "library(PerformanceAnalytics)\n",
    "library(ggrepel)\n",
    "library(lubridate)\n",
    "\n",
    "options(\"scipen\"=999)\n",
    "options(stringsAsFactors = FALSE)\n",
    "options(repr.plot.width=16, repr.plot.height=8)\n",
    "\n",
    "source(\"config.R\")\n",
    "source(\"goofy/plot.common.R\")\n",
    "\n",
    "\n",
    "indices<-Indices()"
   ]
  },
  {
   "cell_type": "code",
   "execution_count": 2,
   "metadata": {},
   "outputs": [
    {
     "name": "stdout",
     "output_type": "stream",
     "text": [
      "\u001b[90m# Source:     lazy query [?? x 7]\u001b[39m\n",
      "\u001b[90m# Database:   Microsoft SQL Server 13.00.4259[ro1@NORWAY/StockViz]\u001b[39m\n",
      "\u001b[90m# Ordered by: desc(TIME_STAMP)\u001b[39m\n",
      "   NAME                 TIME_STAMP  HIGH   LOW  OPEN CLOSE    VOLUME\n",
      "   \u001b[3m\u001b[90m<chr>\u001b[39m\u001b[23m                \u001b[3m\u001b[90m<date>\u001b[39m\u001b[23m     \u001b[3m\u001b[90m<dbl>\u001b[39m\u001b[23m \u001b[3m\u001b[90m<dbl>\u001b[39m\u001b[23m \u001b[3m\u001b[90m<dbl>\u001b[39m\u001b[23m \u001b[3m\u001b[90m<dbl>\u001b[39m\u001b[23m     \u001b[3m\u001b[90m<dbl>\u001b[39m\u001b[23m\n",
      "\u001b[90m 1\u001b[39m NIFTY500 VALUE 50 TR 2019-08-16   \u001b[31mNA\u001b[39m    \u001b[31mNA\u001b[39m    \u001b[31mNA\u001b[39m  \u001b[4m5\u001b[24m299.        \u001b[31mNA\u001b[39m\n",
      "\u001b[90m 2\u001b[39m NIFTY500 VALUE 50    2019-08-16   \u001b[31mNA\u001b[39m    \u001b[31mNA\u001b[39m    \u001b[31mNA\u001b[39m  \u001b[4m3\u001b[24m577. 319\u001b[4m9\u001b[24m\u001b[4m5\u001b[24m\u001b[4m5\u001b[24m857\n",
      "\u001b[90m 3\u001b[39m NIFTY500 SHARIAH TR  2019-08-16   \u001b[31mNA\u001b[39m    \u001b[31mNA\u001b[39m    \u001b[31mNA\u001b[39m  \u001b[4m3\u001b[24m280.        \u001b[31mNA\u001b[39m\n",
      "\u001b[90m 4\u001b[39m NIFTY500 SHARIAH     2019-08-16   \u001b[31mNA\u001b[39m    \u001b[31mNA\u001b[39m    \u001b[31mNA\u001b[39m  \u001b[4m2\u001b[24m797. 204\u001b[4m2\u001b[24m\u001b[4m8\u001b[24m\u001b[4m8\u001b[24m892\n",
      "\u001b[90m 5\u001b[39m NIFTY50 VALUE 20 TR  2019-08-16   \u001b[31mNA\u001b[39m    \u001b[31mNA\u001b[39m    \u001b[31mNA\u001b[39m  \u001b[4m6\u001b[24m321.        \u001b[31mNA\u001b[39m\n",
      "\u001b[90m 6\u001b[39m NIFTY50 VALUE 20     2019-08-16 \u001b[4m5\u001b[24m224. \u001b[4m5\u001b[24m151. \u001b[4m5\u001b[24m223  \u001b[4m5\u001b[24m192. 272\u001b[4m0\u001b[24m\u001b[4m5\u001b[24m\u001b[4m2\u001b[24m526\n",
      "\u001b[90m 7\u001b[39m NIFTY50 TR 2X LEV    2019-08-16 \u001b[4m5\u001b[24m812. \u001b[4m5\u001b[24m661  \u001b[4m5\u001b[24m786. \u001b[4m5\u001b[24m790         \u001b[31mNA\u001b[39m\n",
      "\u001b[90m 8\u001b[39m NIFTY50 TR 1X INV    2019-08-16  373.  368.  369.  369.        \u001b[31mNA\u001b[39m\n",
      "\u001b[90m 9\u001b[39m NIFTY50 SHARIAH TR   2019-08-16   \u001b[31mNA\u001b[39m    \u001b[31mNA\u001b[39m    \u001b[31mNA\u001b[39m  \u001b[4m2\u001b[24m849.        \u001b[31mNA\u001b[39m\n",
      "\u001b[90m10\u001b[39m NIFTY50 SHARIAH      2019-08-16   \u001b[31mNA\u001b[39m    \u001b[31mNA\u001b[39m    \u001b[31mNA\u001b[39m  \u001b[4m2\u001b[24m395.  78\u001b[4m7\u001b[24m\u001b[4m6\u001b[24m\u001b[4m5\u001b[24m470\n",
      "\u001b[90m# … with more rows\u001b[39m\n"
     ]
    }
   ],
   "source": [
    "today <- Sys.Date()\n",
    "startDt <- today - 10\n",
    "\n",
    "indices$NseTimeSeries() %>%\n",
    "  filter(TIME_STAMP >= startDt) %>%\n",
    "  arrange(desc(TIME_STAMP)) %>%\n",
    "  print()"
   ]
  },
  {
   "cell_type": "code",
   "execution_count": null,
   "metadata": {},
   "outputs": [],
   "source": [
    "today <- Sys.Date()\n",
    "startDt <- today - 100\n",
    "\n",
    "indices$NseTimeSeries() %>%\n",
    "  filter(TIME_STAMP >= startDt) %>%\n",
    "  arrange(desc(TIME_STAMP)) %>%\n",
    "  print(n=20)"
   ]
  },
  {
   "cell_type": "markdown",
   "metadata": {},
   "source": [
    "This notebook was created using [pluto](http://pluto.studio). Learn more [here](https://github.com/shyams80/pluto)"
   ]
  }
 ],
 "metadata": {
  "kernelspec": {
   "display_name": "R",
   "language": "R",
   "name": "ir"
  },
  "language_info": {
   "codemirror_mode": "r",
   "file_extension": ".r",
   "mimetype": "text/x-r-source",
   "name": "R",
   "pygments_lexer": "r",
   "version": "3.4.4"
  }
 },
 "nbformat": 4,
 "nbformat_minor": 2
}
