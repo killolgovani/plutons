{
 "cells": [
  {
   "cell_type": "markdown",
   "metadata": {},
   "source": [
    "Our project topic:\n",
    "Back-test a rotation strategy based on aggregate valuations of the NIFTY non-financial sector indices (AUTO, COMMODITIES, FMCG, etc...)\n",
    "\n",
    "How we have planned to go about it:\n",
    "\n",
    "1. Taking 5-6 non-financial sector indices like Auto, commodities, metal, fmcg,pharma.\n",
    "\n",
    "2. Determine seasonality and cyclicity in the each of these chosen indices. \n",
    "\n",
    "3. Based on this information, determine the frequency and the factors to be considered for rotation. \n",
    "\n",
    "4. Performing 5 different rotation strategies like:\n",
    "Fixed ratio\n",
    "Beta based\n",
    "Variable ratio\n",
    "Constant rupee plan\n",
    "Constant ratio plan\n",
    "This will help us understand the timing of entry and exit and the composition of the portfolio yielding maximum returns. \n",
    "\n",
    "5. Comparing the returns form each of these five types of strategies with that of a portfolio without any rotation IE, an untouched portfolio. "
   ]
  },
  {
   "cell_type": "code",
   "execution_count": 1,
   "metadata": {},
   "outputs": [
    {
     "name": "stderr",
     "output_type": "stream",
     "text": [
      "── \u001b[1mAttaching packages\u001b[22m ─────────────────────────────────────── tidyverse 1.2.1 ──\n",
      "\u001b[32m✔\u001b[39m \u001b[34mggplot2\u001b[39m 3.2.1     \u001b[32m✔\u001b[39m \u001b[34mpurrr  \u001b[39m 0.3.2\n",
      "\u001b[32m✔\u001b[39m \u001b[34mtibble \u001b[39m 2.1.3     \u001b[32m✔\u001b[39m \u001b[34mdplyr  \u001b[39m 0.8.3\n",
      "\u001b[32m✔\u001b[39m \u001b[34mtidyr  \u001b[39m 0.8.3     \u001b[32m✔\u001b[39m \u001b[34mstringr\u001b[39m 1.4.0\n",
      "\u001b[32m✔\u001b[39m \u001b[34mreadr  \u001b[39m 1.3.1     \u001b[32m✔\u001b[39m \u001b[34mforcats\u001b[39m 0.4.0\n",
      "── \u001b[1mConflicts\u001b[22m ────────────────────────────────────────── tidyverse_conflicts() ──\n",
      "\u001b[31m✖\u001b[39m \u001b[34mdplyr\u001b[39m::\u001b[32mfilter()\u001b[39m masks \u001b[34mstats\u001b[39m::filter()\n",
      "\u001b[31m✖\u001b[39m \u001b[34mdplyr\u001b[39m::\u001b[32mlag()\u001b[39m    masks \u001b[34mstats\u001b[39m::lag()\n",
      "Loading required package: xts\n",
      "Loading required package: zoo\n",
      "\n",
      "Attaching package: ‘zoo’\n",
      "\n",
      "The following objects are masked from ‘package:base’:\n",
      "\n",
      "    as.Date, as.Date.numeric\n",
      "\n",
      "Registered S3 method overwritten by 'xts':\n",
      "  method     from\n",
      "  as.zoo.xts zoo \n",
      "\n",
      "Attaching package: ‘xts’\n",
      "\n",
      "The following objects are masked from ‘package:dplyr’:\n",
      "\n",
      "    first, last\n",
      "\n",
      "Loading required package: TTR\n",
      "Registered S3 method overwritten by 'quantmod':\n",
      "  method            from\n",
      "  as.zoo.data.frame zoo \n",
      "Version 0.4-0 included new data defaults. See ?getSymbols.\n",
      "\n",
      "Attaching package: ‘PerformanceAnalytics’\n",
      "\n",
      "The following object is masked from ‘package:graphics’:\n",
      "\n",
      "    legend\n",
      "\n",
      "\n",
      "Attaching package: ‘lubridate’\n",
      "\n",
      "The following object is masked from ‘package:base’:\n",
      "\n",
      "    date\n",
      "\n",
      "Registering fonts with R\n"
     ]
    }
   ],
   "source": [
    "library(tidyverse)\n",
    "library(ggthemes)\n",
    "library(odbc)\n",
    "library(plutoR)\n",
    "library(quantmod)\n",
    "library(PerformanceAnalytics)\n",
    "library(ggrepel)\n",
    "library(lubridate)\n",
    "\n",
    "options(\"scipen\"=999)\n",
    "options(stringsAsFactors = FALSE)\n",
    "options(repr.plot.width=16, repr.plot.height=8)\n",
    "\n",
    "source(\"config.R\")\n",
    "source(\"goofy/plot.common.R\")\n",
    "\n",
    "\n",
    "indices<-Indices()"
   ]
  },
  {
   "cell_type": "code",
   "execution_count": 2,
   "metadata": {},
   "outputs": [
    {
     "name": "stdout",
     "output_type": "stream",
     "text": [
      "\u001b[90m# Source:     lazy query [?? x 7]\u001b[39m\n",
      "\u001b[90m# Database:   Microsoft SQL Server 13.00.4259[ro1@NORWAY/StockViz]\u001b[39m\n",
      "\u001b[90m# Ordered by: desc(TIME_STAMP)\u001b[39m\n",
      "   NAME                 TIME_STAMP  HIGH   LOW  OPEN CLOSE    VOLUME\n",
      "   \u001b[3m\u001b[90m<chr>\u001b[39m\u001b[23m                \u001b[3m\u001b[90m<date>\u001b[39m\u001b[23m     \u001b[3m\u001b[90m<dbl>\u001b[39m\u001b[23m \u001b[3m\u001b[90m<dbl>\u001b[39m\u001b[23m \u001b[3m\u001b[90m<dbl>\u001b[39m\u001b[23m \u001b[3m\u001b[90m<dbl>\u001b[39m\u001b[23m     \u001b[3m\u001b[90m<dbl>\u001b[39m\u001b[23m\n",
      "\u001b[90m 1\u001b[39m NIFTY500 VALUE 50 TR 2019-08-30   \u001b[31mNA\u001b[39m    \u001b[31mNA\u001b[39m    \u001b[31mNA\u001b[39m  \u001b[4m5\u001b[24m142.        \u001b[31mNA\u001b[39m\n",
      "\u001b[90m 2\u001b[39m NIFTY500 VALUE 50    2019-08-30   \u001b[31mNA\u001b[39m    \u001b[31mNA\u001b[39m    \u001b[31mNA\u001b[39m  \u001b[4m3\u001b[24m460. 362\u001b[4m5\u001b[24m\u001b[4m7\u001b[24m\u001b[4m3\u001b[24m360\n",
      "\u001b[90m 3\u001b[39m NIFTY500 SHARIAH TR  2019-08-30   \u001b[31mNA\u001b[39m    \u001b[31mNA\u001b[39m    \u001b[31mNA\u001b[39m  \u001b[4m3\u001b[24m354.        \u001b[31mNA\u001b[39m\n",
      "\u001b[90m 4\u001b[39m NIFTY500 SHARIAH     2019-08-30   \u001b[31mNA\u001b[39m    \u001b[31mNA\u001b[39m    \u001b[31mNA\u001b[39m  \u001b[4m2\u001b[24m858. 231\u001b[4m5\u001b[24m\u001b[4m6\u001b[24m\u001b[4m5\u001b[24m326\n",
      "\u001b[90m 5\u001b[39m NIFTY50 VALUE 20 TR  2019-08-30   \u001b[31mNA\u001b[39m    \u001b[31mNA\u001b[39m    \u001b[31mNA\u001b[39m  \u001b[4m6\u001b[24m376.        \u001b[31mNA\u001b[39m\n",
      "\u001b[90m 6\u001b[39m NIFTY50 VALUE 20     2019-08-30 \u001b[4m5\u001b[24m245. \u001b[4m5\u001b[24m146. \u001b[4m5\u001b[24m211. \u001b[4m5\u001b[24m230. 387\u001b[4m1\u001b[24m\u001b[4m4\u001b[24m\u001b[4m5\u001b[24m562\n",
      "\u001b[90m 7\u001b[39m NIFTY50 TR 2X LEV    2019-08-30 \u001b[4m5\u001b[24m774. \u001b[4m5\u001b[24m601. \u001b[4m5\u001b[24m718. \u001b[4m5\u001b[24m754.        \u001b[31mNA\u001b[39m\n",
      "\u001b[90m 8\u001b[39m NIFTY50 TR 1X INV    2019-08-30  375.  369.  371.  370.        \u001b[31mNA\u001b[39m\n",
      "\u001b[90m 9\u001b[39m NIFTY50 SHARIAH TR   2019-08-30   \u001b[31mNA\u001b[39m    \u001b[31mNA\u001b[39m    \u001b[31mNA\u001b[39m  \u001b[4m2\u001b[24m934         \u001b[31mNA\u001b[39m\n",
      "\u001b[90m10\u001b[39m NIFTY50 SHARIAH      2019-08-30   \u001b[31mNA\u001b[39m    \u001b[31mNA\u001b[39m    \u001b[31mNA\u001b[39m  \u001b[4m2\u001b[24m463.  79\u001b[4m9\u001b[24m\u001b[4m9\u001b[24m\u001b[4m1\u001b[24m802\n",
      "\u001b[90m# … with more rows\u001b[39m\n"
     ]
    }
   ],
   "source": [
    "today <- Sys.Date()\n",
    "startDt <- today - 3\n",
    "\n",
    "indices_data <-indices$NseTimeSeries() %>%\n",
    "                  filter(TIME_STAMP >= startDt) %>%\n",
    "                  arrange(desc(TIME_STAMP)) %>%\n",
    "                  print(n=10)"
   ]
  },
  {
   "cell_type": "code",
   "execution_count": 3,
   "metadata": {},
   "outputs": [],
   "source": [
    "id <- as.data.frame(indices_data)"
   ]
  },
  {
   "cell_type": "code",
   "execution_count": 4,
   "metadata": {},
   "outputs": [
    {
     "data": {
      "text/html": [
       "'data.frame'"
      ],
      "text/latex": [
       "'data.frame'"
      ],
      "text/markdown": [
       "'data.frame'"
      ],
      "text/plain": [
       "[1] \"data.frame\""
      ]
     },
     "metadata": {},
     "output_type": "display_data"
    }
   ],
   "source": [
    "class(id)"
   ]
  },
  {
   "cell_type": "code",
   "execution_count": 5,
   "metadata": {},
   "outputs": [
    {
     "data": {
      "text/html": [
       "<table>\n",
       "<caption>A data.frame: 6 × 7</caption>\n",
       "<thead>\n",
       "\t<tr><th></th><th scope=col>NAME</th><th scope=col>TIME_STAMP</th><th scope=col>HIGH</th><th scope=col>LOW</th><th scope=col>OPEN</th><th scope=col>CLOSE</th><th scope=col>VOLUME</th></tr>\n",
       "\t<tr><th></th><th scope=col>&lt;chr&gt;</th><th scope=col>&lt;date&gt;</th><th scope=col>&lt;dbl&gt;</th><th scope=col>&lt;dbl&gt;</th><th scope=col>&lt;dbl&gt;</th><th scope=col>&lt;dbl&gt;</th><th scope=col>&lt;dbl&gt;</th></tr>\n",
       "</thead>\n",
       "<tbody>\n",
       "\t<tr><th scope=row>131</th><td>NIFTY 50           </td><td>2019-08-30</td><td>11042.60</td><td>10874.80</td><td>10987.8</td><td>11023.25</td><td> 628154431</td></tr>\n",
       "\t<tr><th scope=row>132</th><td>NIFTY 200 TR       </td><td>2019-08-30</td><td>      NA</td><td>      NA</td><td>     NA</td><td> 7115.27</td><td>        NA</td></tr>\n",
       "\t<tr><th scope=row>133</th><td>NIFTY 200          </td><td>2019-08-30</td><td> 5700.85</td><td> 5614.45</td><td> 5667.5</td><td> 5691.55</td><td>1352753327</td></tr>\n",
       "\t<tr><th scope=row>134</th><td>Nifty 1D Rate Index</td><td>2019-08-30</td><td>      NA</td><td>      NA</td><td>     NA</td><td> 1830.07</td><td>        NA</td></tr>\n",
       "\t<tr><th scope=row>135</th><td>NIFTY 100 TR       </td><td>2019-08-30</td><td>      NA</td><td>      NA</td><td>     NA</td><td>14323.94</td><td>        NA</td></tr>\n",
       "\t<tr><th scope=row>136</th><td>NIFTY 100          </td><td>2019-08-30</td><td>11174.35</td><td>11002.20</td><td>11110.1</td><td>11155.10</td><td> 971311298</td></tr>\n",
       "</tbody>\n",
       "</table>\n"
      ],
      "text/latex": [
       "A data.frame: 6 × 7\n",
       "\\begin{tabular}{r|lllllll}\n",
       "  & NAME & TIME\\_STAMP & HIGH & LOW & OPEN & CLOSE & VOLUME\\\\\n",
       "  & <chr> & <date> & <dbl> & <dbl> & <dbl> & <dbl> & <dbl>\\\\\n",
       "\\hline\n",
       "\t131 & NIFTY 50            & 2019-08-30 & 11042.60 & 10874.80 & 10987.8 & 11023.25 &  628154431\\\\\n",
       "\t132 & NIFTY 200 TR        & 2019-08-30 &       NA &       NA &      NA &  7115.27 &         NA\\\\\n",
       "\t133 & NIFTY 200           & 2019-08-30 &  5700.85 &  5614.45 &  5667.5 &  5691.55 & 1352753327\\\\\n",
       "\t134 & Nifty 1D Rate Index & 2019-08-30 &       NA &       NA &      NA &  1830.07 &         NA\\\\\n",
       "\t135 & NIFTY 100 TR        & 2019-08-30 &       NA &       NA &      NA & 14323.94 &         NA\\\\\n",
       "\t136 & NIFTY 100           & 2019-08-30 & 11174.35 & 11002.20 & 11110.1 & 11155.10 &  971311298\\\\\n",
       "\\end{tabular}\n"
      ],
      "text/markdown": [
       "\n",
       "A data.frame: 6 × 7\n",
       "\n",
       "| <!--/--> | NAME &lt;chr&gt; | TIME_STAMP &lt;date&gt; | HIGH &lt;dbl&gt; | LOW &lt;dbl&gt; | OPEN &lt;dbl&gt; | CLOSE &lt;dbl&gt; | VOLUME &lt;dbl&gt; |\n",
       "|---|---|---|---|---|---|---|---|\n",
       "| 131 | NIFTY 50            | 2019-08-30 | 11042.60 | 10874.80 | 10987.8 | 11023.25 |  628154431 |\n",
       "| 132 | NIFTY 200 TR        | 2019-08-30 |       NA |       NA |      NA |  7115.27 |         NA |\n",
       "| 133 | NIFTY 200           | 2019-08-30 |  5700.85 |  5614.45 |  5667.5 |  5691.55 | 1352753327 |\n",
       "| 134 | Nifty 1D Rate Index | 2019-08-30 |       NA |       NA |      NA |  1830.07 |         NA |\n",
       "| 135 | NIFTY 100 TR        | 2019-08-30 |       NA |       NA |      NA | 14323.94 |         NA |\n",
       "| 136 | NIFTY 100           | 2019-08-30 | 11174.35 | 11002.20 | 11110.1 | 11155.10 |  971311298 |\n",
       "\n"
      ],
      "text/plain": [
       "    NAME                TIME_STAMP HIGH     LOW      OPEN    CLOSE   \n",
       "131 NIFTY 50            2019-08-30 11042.60 10874.80 10987.8 11023.25\n",
       "132 NIFTY 200 TR        2019-08-30       NA       NA      NA  7115.27\n",
       "133 NIFTY 200           2019-08-30  5700.85  5614.45  5667.5  5691.55\n",
       "134 Nifty 1D Rate Index 2019-08-30       NA       NA      NA  1830.07\n",
       "135 NIFTY 100 TR        2019-08-30       NA       NA      NA 14323.94\n",
       "136 NIFTY 100           2019-08-30 11174.35 11002.20 11110.1 11155.10\n",
       "    VOLUME    \n",
       "131  628154431\n",
       "132         NA\n",
       "133 1352753327\n",
       "134         NA\n",
       "135         NA\n",
       "136  971311298"
      ]
     },
     "metadata": {},
     "output_type": "display_data"
    }
   ],
   "source": [
    "tail(id)"
   ]
  },
  {
   "cell_type": "markdown",
   "metadata": {},
   "source": [
    "This notebook was created using [pluto](http://pluto.studio). Learn more [here](https://github.com/shyams80/pluto)"
   ]
  }
 ],
 "metadata": {
  "kernelspec": {
   "display_name": "R",
   "language": "R",
   "name": "ir"
  },
  "language_info": {
   "codemirror_mode": "r",
   "file_extension": ".r",
   "mimetype": "text/x-r-source",
   "name": "R",
   "pygments_lexer": "r",
   "version": "3.6.1"
  }
 },
 "nbformat": 4,
 "nbformat_minor": 2
}
