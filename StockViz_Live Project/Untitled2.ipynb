{
 "cells": [
  {
   "cell_type": "code",
   "execution_count": 1,
   "metadata": {},
   "outputs": [
    {
     "name": "stderr",
     "output_type": "stream",
     "text": [
      "── \u001b[1mAttaching packages\u001b[22m ─────────────────────────────────────── tidyverse 1.2.1 ──\n",
      "\u001b[32m✔\u001b[39m \u001b[34mggplot2\u001b[39m 3.2.1     \u001b[32m✔\u001b[39m \u001b[34mpurrr  \u001b[39m 0.3.2\n",
      "\u001b[32m✔\u001b[39m \u001b[34mtibble \u001b[39m 2.1.3     \u001b[32m✔\u001b[39m \u001b[34mdplyr  \u001b[39m 0.8.3\n",
      "\u001b[32m✔\u001b[39m \u001b[34mtidyr  \u001b[39m 0.8.3     \u001b[32m✔\u001b[39m \u001b[34mstringr\u001b[39m 1.4.0\n",
      "\u001b[32m✔\u001b[39m \u001b[34mreadr  \u001b[39m 1.3.1     \u001b[32m✔\u001b[39m \u001b[34mforcats\u001b[39m 0.4.0\n",
      "── \u001b[1mConflicts\u001b[22m ────────────────────────────────────────── tidyverse_conflicts() ──\n",
      "\u001b[31m✖\u001b[39m \u001b[34mdplyr\u001b[39m::\u001b[32mfilter()\u001b[39m masks \u001b[34mstats\u001b[39m::filter()\n",
      "\u001b[31m✖\u001b[39m \u001b[34mdplyr\u001b[39m::\u001b[32mlag()\u001b[39m    masks \u001b[34mstats\u001b[39m::lag()\n",
      "Loading required package: xts\n",
      "Loading required package: zoo\n",
      "\n",
      "Attaching package: ‘zoo’\n",
      "\n",
      "The following objects are masked from ‘package:base’:\n",
      "\n",
      "    as.Date, as.Date.numeric\n",
      "\n",
      "Registered S3 method overwritten by 'xts':\n",
      "  method     from\n",
      "  as.zoo.xts zoo \n",
      "\n",
      "Attaching package: ‘xts’\n",
      "\n",
      "The following objects are masked from ‘package:dplyr’:\n",
      "\n",
      "    first, last\n",
      "\n",
      "Loading required package: TTR\n",
      "Registered S3 method overwritten by 'quantmod':\n",
      "  method            from\n",
      "  as.zoo.data.frame zoo \n",
      "Version 0.4-0 included new data defaults. See ?getSymbols.\n",
      "\n",
      "Attaching package: ‘PerformanceAnalytics’\n",
      "\n",
      "The following object is masked from ‘package:graphics’:\n",
      "\n",
      "    legend\n",
      "\n",
      "\n",
      "Attaching package: ‘lubridate’\n",
      "\n",
      "The following object is masked from ‘package:base’:\n",
      "\n",
      "    date\n",
      "\n",
      "Registering fonts with R\n"
     ]
    }
   ],
   "source": [
    "library(tidyverse)\n",
    "library(ggthemes)\n",
    "library(odbc)\n",
    "library(plutoR)\n",
    "library(quantmod)\n",
    "library(PerformanceAnalytics)\n",
    "library(ggrepel)\n",
    "library(lubridate)\n",
    "\n",
    "options(\"scipen\"=999)\n",
    "options(stringsAsFactors = FALSE)\n",
    "options(repr.plot.width=16, repr.plot.height=8)\n",
    "\n",
    "source(\"config.R\")\n",
    "source(\"goofy/plot.common.R\")\n",
    "\n",
    "\n",
    "indices<-Indices()"
   ]
  },
  {
   "cell_type": "code",
   "execution_count": 2,
   "metadata": {},
   "outputs": [
    {
     "data": {
      "text/plain": [
       "Reference class object of class \"Indices\"\n",
       "Field \"conn\":\n",
       "<OdbcConnection> ro1@NORWAY\n",
       "  Database: StockViz\n",
       "  Microsoft SQL Server Version: 13.00.4259\n",
       "Field \"connUs2\":\n",
       "<OdbcConnection> ro1@NORWAY\n",
       "  Database: StockVizUs2\n",
       "  Microsoft SQL Server Version: 13.00.4259"
      ]
     },
     "metadata": {},
     "output_type": "display_data"
    }
   ],
   "source": [
    "indices"
   ]
  },
  {
   "cell_type": "code",
   "execution_count": 3,
   "metadata": {},
   "outputs": [
    {
     "name": "stderr",
     "output_type": "stream",
     "text": [
      "Warning message:\n",
      "“Missing values are always removed in SQL.\n",
      "Use `MAX(x, na.rm = TRUE)` to silence this warning\n",
      "This warning is displayed only once per session.”"
     ]
    },
    {
     "name": "stdout",
     "output_type": "stream",
     "text": [
      "\u001b[90m# Source:   lazy query [?? x 2]\u001b[39m\n",
      "\u001b[90m# Database: Microsoft SQL Server 13.00.4259[ro1@NORWAY/StockViz]\u001b[39m\n",
      "\u001b[90m# Groups:   NAME\u001b[39m\n",
      "   NAME                       CLOSE\n",
      "   \u001b[3m\u001b[90m<chr>\u001b[39m\u001b[23m                      \u001b[3m\u001b[90m<dbl>\u001b[39m\u001b[23m\n",
      "\u001b[90m 1\u001b[39m NIFTY 100                 \u001b[4m1\u001b[24m\u001b[4m1\u001b[24m155.\n",
      "\u001b[90m 2\u001b[39m NIFTY 100 TR              \u001b[4m1\u001b[24m\u001b[4m4\u001b[24m313.\n",
      "\u001b[90m 3\u001b[39m Nifty 1D Rate Index        \u001b[4m1\u001b[24m826.\n",
      "\u001b[90m 4\u001b[39m NIFTY 200                  \u001b[4m5\u001b[24m698.\n",
      "\u001b[90m 5\u001b[39m NIFTY 200 TR               \u001b[4m7\u001b[24m118.\n",
      "\u001b[90m 6\u001b[39m NIFTY 50                  \u001b[4m1\u001b[24m\u001b[4m1\u001b[24m048.\n",
      "\u001b[90m 7\u001b[39m NIFTY 50 ARBITRAGE         \u001b[4m1\u001b[24m844.\n",
      "\u001b[90m 8\u001b[39m NIFTY 50 FUTURES INDEX     \u001b[4m3\u001b[24m788.\n",
      "\u001b[90m 9\u001b[39m NIFTY 50 FUTURES TR INDEX \u001b[4m1\u001b[24m\u001b[4m1\u001b[24m114.\n",
      "\u001b[90m10\u001b[39m NIFTY 50 TR               \u001b[4m1\u001b[24m\u001b[4m5\u001b[24m465.\n",
      "\u001b[90m# … with more rows\u001b[39m\n"
     ]
    }
   ],
   "source": [
    "maxDtNse <- (indices$NseTimeSeries() %>% summarize(MAX_TS = max(TIME_STAMP)) %>% collect())$MAX_TS[1]\n",
    "\n",
    "today <- Sys.Date()\n",
    "startDt <- today - 2\n",
    "\n",
    "indices$NseTimeSeries() %>%\n",
    "     group_by(NAME) %>%\n",
    "     filter(TIME_STAMP == maxDtNse) %>%\n",
    "     select(NAME, CLOSE) %>%\n",
    "     print(n=10) "
   ]
  },
  {
   "cell_type": "code",
   "execution_count": 4,
   "metadata": {},
   "outputs": [
    {
     "name": "stdout",
     "output_type": "stream",
     "text": [
      "\u001b[90m# Source:   lazy query [?? x 2]\u001b[39m\n",
      "\u001b[90m# Database: Microsoft SQL Server 13.00.4259[ro1@NORWAY/StockViz]\u001b[39m\n",
      "\u001b[90m# Groups:   NAME\u001b[39m\n",
      "   NAME                         CLOSE\n",
      "   \u001b[3m\u001b[90m<chr>\u001b[39m\u001b[23m                        \u001b[3m\u001b[90m<dbl>\u001b[39m\u001b[23m\n",
      "\u001b[90m 1\u001b[39m NIFTY 100                   \u001b[4m1\u001b[24m\u001b[4m1\u001b[24m155.\n",
      "\u001b[90m 2\u001b[39m NIFTY 100 TR                \u001b[4m1\u001b[24m\u001b[4m4\u001b[24m313.\n",
      "\u001b[90m 3\u001b[39m Nifty 1D Rate Index          \u001b[4m1\u001b[24m826.\n",
      "\u001b[90m 4\u001b[39m NIFTY 200                    \u001b[4m5\u001b[24m698.\n",
      "\u001b[90m 5\u001b[39m NIFTY 200 TR                 \u001b[4m7\u001b[24m118.\n",
      "\u001b[90m 6\u001b[39m NIFTY 50                    \u001b[4m1\u001b[24m\u001b[4m1\u001b[24m048.\n",
      "\u001b[90m 7\u001b[39m NIFTY 50 ARBITRAGE           \u001b[4m1\u001b[24m844.\n",
      "\u001b[90m 8\u001b[39m NIFTY 50 FUTURES INDEX       \u001b[4m3\u001b[24m788.\n",
      "\u001b[90m 9\u001b[39m NIFTY 50 FUTURES TR INDEX   \u001b[4m1\u001b[24m\u001b[4m1\u001b[24m114.\n",
      "\u001b[90m10\u001b[39m NIFTY 50 TR                 \u001b[4m1\u001b[24m\u001b[4m5\u001b[24m465.\n",
      "\u001b[90m11\u001b[39m NIFTY 500                    \u001b[4m8\u001b[24m989.\n",
      "\u001b[90m12\u001b[39m NIFTY 500 TR                \u001b[4m1\u001b[24m\u001b[4m3\u001b[24m457.\n",
      "\u001b[90m13\u001b[39m NIFTY ADITYA BIRLA GROUP     \u001b[4m2\u001b[24m882.\n",
      "\u001b[90m14\u001b[39m NIFTY ADITYA BIRLA GROUP TR  \u001b[4m3\u001b[24m159.\n",
      "\u001b[90m15\u001b[39m NIFTY ALPHA 50              \u001b[4m1\u001b[24m\u001b[4m1\u001b[24m844.\n",
      "\u001b[90m# … with more rows\u001b[39m\n"
     ]
    }
   ],
   "source": [
    "maxDtNse <- (indices$NseTimeSeries() %>% summarize(MAX_TS = max(TIME_STAMP)) %>% collect())$MAX_TS[1]\n",
    "\n",
    "today <- Sys.Date()\n",
    "startDt <- today - 2\n",
    "\n",
    "indices$NseTimeSeries() %>%\n",
    "     group_by(NAME) %>%\n",
    "     filter(TIME_STAMP == maxDtNse) %>%\n",
    "     select(NAME, CLOSE) %>%\n",
    "     print(n=15) "
   ]
  },
  {
   "cell_type": "code",
   "execution_count": 5,
   "metadata": {},
   "outputs": [
    {
     "name": "stdout",
     "output_type": "stream",
     "text": [
      "\u001b[90m# Source:   lazy query [?? x 2]\u001b[39m\n",
      "\u001b[90m# Database: Microsoft SQL Server 13.00.4259[ro1@NORWAY/StockViz]\u001b[39m\n",
      "\u001b[90m# Groups:   NAME\u001b[39m\n",
      "   NAME                                   CLOSE\n",
      "   \u001b[3m\u001b[90m<chr>\u001b[39m\u001b[23m                                  \u001b[3m\u001b[90m<dbl>\u001b[39m\u001b[23m\n",
      "\u001b[90m 1\u001b[39m NIFTY 10 YEAR SDL INDEX                \u001b[4m4\u001b[24m669.\n",
      "\u001b[90m 2\u001b[39m NIFTY 100                             \u001b[4m1\u001b[24m\u001b[4m1\u001b[24m144.\n",
      "\u001b[90m 3\u001b[39m NIFTY 100 TR                          \u001b[4m1\u001b[24m\u001b[4m4\u001b[24m292.\n",
      "\u001b[90m 4\u001b[39m Nifty 1D Rate Index                    \u001b[4m1\u001b[24m824.\n",
      "\u001b[90m 5\u001b[39m NIFTY 200                              \u001b[4m5\u001b[24m692.\n",
      "\u001b[90m 6\u001b[39m NIFTY 200 TR                           \u001b[4m7\u001b[24m107.\n",
      "\u001b[90m 7\u001b[39m NIFTY 50                              \u001b[4m1\u001b[24m\u001b[4m1\u001b[24m032.\n",
      "\u001b[90m 8\u001b[39m NIFTY 50 ARBITRAGE                     \u001b[4m1\u001b[24m841.\n",
      "\u001b[90m 9\u001b[39m NIFTY 50 FUTURES INDEX                 \u001b[4m3\u001b[24m787.\n",
      "\u001b[90m10\u001b[39m NIFTY 50 FUTURES TR INDEX             \u001b[4m1\u001b[24m\u001b[4m1\u001b[24m099.\n",
      "\u001b[90m11\u001b[39m NIFTY 50 TR                           \u001b[4m1\u001b[24m\u001b[4m5\u001b[24m435.\n",
      "\u001b[90m12\u001b[39m NIFTY 500                              \u001b[4m8\u001b[24m980.\n",
      "\u001b[90m13\u001b[39m NIFTY 500 TR                          \u001b[4m1\u001b[24m\u001b[4m3\u001b[24m436.\n",
      "\u001b[90m14\u001b[39m NIFTY ADITYA BIRLA GROUP               \u001b[4m2\u001b[24m872.\n",
      "\u001b[90m15\u001b[39m NIFTY ADITYA BIRLA GROUP TR            \u001b[4m3\u001b[24m145.\n",
      "\u001b[90m16\u001b[39m NIFTY ALPHA 50                        \u001b[4m1\u001b[24m\u001b[4m1\u001b[24m882.\n",
      "\u001b[90m17\u001b[39m NIFTY ALPHA 50 TR                     \u001b[4m1\u001b[24m\u001b[4m3\u001b[24m893.\n",
      "\u001b[90m18\u001b[39m NIFTY ALPHA LOW-VOLATILITY 30         \u001b[4m1\u001b[24m\u001b[4m1\u001b[24m330.\n",
      "\u001b[90m19\u001b[39m NIFTY ALPHA LOW-VOLATILITY 30 TR      \u001b[4m1\u001b[24m\u001b[4m3\u001b[24m804.\n",
      "\u001b[90m20\u001b[39m NIFTY ALPHA QUALITY LOW-VOLATILITY 30  \u001b[4m8\u001b[24m986.\n",
      "\u001b[90m# … with more rows\u001b[39m\n"
     ]
    }
   ],
   "source": [
    "maxDtNse <- (indices$NseTimeSeries() %>% summarize(MAX_TS = max(TIME_STAMP)) %>% collect())$MAX_TS[1]\n",
    "\n",
    "today <- Sys.Date()\n",
    "startDt <- today - 10\n",
    "\n",
    "indices$NseTimeSeries() %>%\n",
    "     group_by(NAME) %>%\n",
    "     filter(TIME_STAMP == startDt) %>%\n",
    "     select(NAME, CLOSE) %>%\n",
    "     print(n=20) "
   ]
  },
  {
   "cell_type": "code",
   "execution_count": 6,
   "metadata": {},
   "outputs": [
    {
     "name": "stdout",
     "output_type": "stream",
     "text": [
      "\u001b[90m# Source:   lazy query [?? x 2]\u001b[39m\n",
      "\u001b[90m# Database: Microsoft SQL Server 13.00.4259[ro1@NORWAY/StockViz]\u001b[39m\n",
      "\u001b[90m# Groups:   NAME\u001b[39m\n",
      "   NAME                       CLOSE\n",
      "   \u001b[3m\u001b[90m<chr>\u001b[39m\u001b[23m                      \u001b[3m\u001b[90m<dbl>\u001b[39m\u001b[23m\n",
      "\u001b[90m 1\u001b[39m NIFTY 10 YEAR SDL INDEX    \u001b[4m4\u001b[24m669.\n",
      "\u001b[90m 2\u001b[39m NIFTY 100                 \u001b[4m1\u001b[24m\u001b[4m1\u001b[24m144.\n",
      "\u001b[90m 3\u001b[39m NIFTY 100 TR              \u001b[4m1\u001b[24m\u001b[4m4\u001b[24m292.\n",
      "\u001b[90m 4\u001b[39m Nifty 1D Rate Index        \u001b[4m1\u001b[24m824.\n",
      "\u001b[90m 5\u001b[39m NIFTY 200                  \u001b[4m5\u001b[24m692.\n",
      "\u001b[90m 6\u001b[39m NIFTY 200 TR               \u001b[4m7\u001b[24m107.\n",
      "\u001b[90m 7\u001b[39m NIFTY 50                  \u001b[4m1\u001b[24m\u001b[4m1\u001b[24m032.\n",
      "\u001b[90m 8\u001b[39m NIFTY 50 ARBITRAGE         \u001b[4m1\u001b[24m841.\n",
      "\u001b[90m 9\u001b[39m NIFTY 50 FUTURES INDEX     \u001b[4m3\u001b[24m787.\n",
      "\u001b[90m10\u001b[39m NIFTY 50 FUTURES TR INDEX \u001b[4m1\u001b[24m\u001b[4m1\u001b[24m099.\n",
      "\u001b[90m# … with more rows\u001b[39m\n"
     ]
    }
   ],
   "source": [
    "maxDtNse <- (indices$NseTimeSeries() %>% summarize(MAX_TS = max(TIME_STAMP)) %>% collect())$MAX_TS[1]\n",
    "\n",
    "today <- Sys.Date()\n",
    "startDt <- today - 10\n",
    "\n",
    "indices$NseTimeSeries() %>%\n",
    "     group_by(NAME) %>%\n",
    "     filter(TIME_STAMP == startDt) %>%\n",
    "     select(NAME, CLOSE) %>%\n",
    "     print(n=10)"
   ]
  },
  {
   "cell_type": "code",
   "execution_count": 7,
   "metadata": {},
   "outputs": [
    {
     "name": "stdout",
     "output_type": "stream",
     "text": [
      "\u001b[90m# Source:   lazy query [?? x 2]\u001b[39m\n",
      "\u001b[90m# Database: Microsoft SQL Server 13.00.4259[ro1@NORWAY/StockViz]\u001b[39m\n",
      "  NAME      CLOSE\n",
      "  \u001b[3m\u001b[90m<chr>\u001b[39m\u001b[23m     \u001b[3m\u001b[90m<dbl>\u001b[39m\u001b[23m\n",
      "\u001b[90m1\u001b[39m NIFTY 50 \u001b[4m1\u001b[24m\u001b[4m1\u001b[24m032.\n"
     ]
    }
   ],
   "source": [
    "maxDtNse <- (indices$NseTimeSeries() %>% summarize(MAX_TS = max(TIME_STAMP)) %>% collect())$MAX_TS[1]\n",
    "\n",
    "today <- Sys.Date()\n",
    "startDt <- today - 10\n",
    "\n",
    "indices$NseTimeSeries() %>%\n",
    "     filter(NAME == \"NIFTY 50\", TIME_STAMP == startDt) %>%\n",
    "     select(NAME, CLOSE) %>%\n",
    "     print(n=10)"
   ]
  },
  {
   "cell_type": "code",
   "execution_count": 8,
   "metadata": {},
   "outputs": [
    {
     "name": "stdout",
     "output_type": "stream",
     "text": [
      "\u001b[90m# Source:     lazy query [?? x 3]\u001b[39m\n",
      "\u001b[90m# Database:   Microsoft SQL Server 13.00.4259[ro1@NORWAY/StockViz]\u001b[39m\n",
      "\u001b[90m# Ordered by: desc(TIME_STAMP)\u001b[39m\n",
      "  NAME     TIME_STAMP  CLOSE\n",
      "  \u001b[3m\u001b[90m<chr>\u001b[39m\u001b[23m    \u001b[3m\u001b[90m<date>\u001b[39m\u001b[23m      \u001b[3m\u001b[90m<dbl>\u001b[39m\u001b[23m\n",
      "\u001b[90m1\u001b[39m NIFTY 50 2019-08-16 \u001b[4m1\u001b[24m\u001b[4m1\u001b[24m048.\n",
      "\u001b[90m2\u001b[39m NIFTY 50 2019-08-14 \u001b[4m1\u001b[24m\u001b[4m1\u001b[24m029.\n",
      "\u001b[90m3\u001b[39m NIFTY 50 2019-08-13 \u001b[4m1\u001b[24m\u001b[4m0\u001b[24m926.\n",
      "\u001b[90m4\u001b[39m NIFTY 50 2019-08-09 \u001b[4m1\u001b[24m\u001b[4m1\u001b[24m110.\n",
      "\u001b[90m5\u001b[39m NIFTY 50 2019-08-08 \u001b[4m1\u001b[24m\u001b[4m1\u001b[24m032.\n"
     ]
    }
   ],
   "source": [
    "today <- Sys.Date()\n",
    "startDt <- today - 10\n",
    "\n",
    "indices$NseTimeSeries() %>%\n",
    "     filter(NAME == \"NIFTY 50\", TIME_STAMP >= startDt) %>%\n",
    "     select(NAME, TIME_STAMP, CLOSE) %>%\n",
    "     arrange(desc(TIME_STAMP)) %>%\n",
    "     print(n=10)"
   ]
  },
  {
   "cell_type": "markdown",
   "metadata": {},
   "source": [
    "This notebook was created using [pluto](http://pluto.studio). Learn more [here](https://github.com/shyams80/pluto)"
   ]
  }
 ],
 "metadata": {
  "kernelspec": {
   "display_name": "R",
   "language": "R",
   "name": "ir"
  },
  "language_info": {
   "codemirror_mode": "r",
   "file_extension": ".r",
   "mimetype": "text/x-r-source",
   "name": "R",
   "pygments_lexer": "r",
   "version": "3.6.1"
  }
 },
 "nbformat": 4,
 "nbformat_minor": 2
}
