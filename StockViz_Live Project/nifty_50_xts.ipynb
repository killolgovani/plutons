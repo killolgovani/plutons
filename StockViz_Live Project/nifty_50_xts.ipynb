{
 "cells": [
  {
   "cell_type": "code",
   "execution_count": null,
   "metadata": {},
   "outputs": [],
   "source": [
    "library(tidyverse)\n",
    "library(ggthemes)\n",
    "library(odbc)\n",
    "library(RPostgres) \n",
    "library(plutoR)\n",
    "library(quantmod)\n",
    "library(PerformanceAnalytics)\n",
    "library(ggrepel)\n",
    "library(reshape2)\n",
    "library(lubridate)\n",
    "library(rmgarch)\n",
    "\n",
    "options(\"scipen\"=999)\n",
    "options(stringsAsFactors = FALSE)\n",
    "options(repr.plot.width=16, repr.plot.height=8)\n",
    "\n",
    "source(\"config.R\")\n",
    "source(\"goofy/plot.common.R\")\n",
    "\n",
    "\n",
    "indices<-Indices()"
   ]
  },
  {
   "cell_type": "code",
   "execution_count": null,
   "metadata": {},
   "outputs": [],
   "source": [
    "nifty_50 <- indices$NseTimeSeries() %>%\n",
    "                 filter(NAME == \"NIFTY 50\") %>%  \n",
    "                 arrange(TIME_STAMP) %>%\n",
    "                 collect() \n",
    "\n",
    "nifty_auto <- indices$NseTimeSeries() %>%\n",
    "                 filter(NAME == \"NIFTY AUTO\") %>%  \n",
    "                 arrange(TIME_STAMP) %>%\n",
    "                 collect()\n",
    "\n",
    "nifty_bank <- indices$NseTimeSeries() %>%\n",
    "                 filter(NAME == \"NIFTY BANK\") %>%  \n",
    "                 arrange(TIME_STAMP) %>%\n",
    "                 collect()"
   ]
  },
  {
   "cell_type": "code",
   "execution_count": null,
   "metadata": {},
   "outputs": [],
   "source": [
    "xts1 <- xts(nifty_50$CLOSE, nifty_50$TIME_STAMP)\n",
    "xts2 <- xts(nifty_auto$CLOSE, nifty_auto$TIME_STAMP)\n",
    "xts3 <- xts(nifty_bank$CLOSE, nifty_bank$TIME_STAMP) "
   ]
  },
  {
   "cell_type": "code",
   "execution_count": null,
   "metadata": {},
   "outputs": [],
   "source": [
    "monthly_prices <- to.monthly(xts1, indexAt=\"last\", OHLC = FALSE)\n",
    "monthly_prices_auto <- to.monthly(xts2, indexAt=\"last\", OHLC = FALSE)\n",
    "monthly_prices_bank <- to.monthly(xts3, indexAt=\"last\", OHLC = FALSE)  "
   ]
  },
  {
   "cell_type": "code",
   "execution_count": null,
   "metadata": {},
   "outputs": [],
   "source": [
    "monthly_returns <- na.omit(Return.calculate(monthly_prices, method = \"log\"))\n",
    "monthly_returns_auto <- na.omit(Return.calculate(monthly_prices_auto, method = \"log\"))\n",
    "monthly_returns_bank <- na.omit(Return.calculate(monthly_prices_bank, method = \"log\"))\n",
    "\n",
    "monthly <- na.omit(merge(monthly_returns, monthly_returns_auto, monthly_returns_bank))\n",
    "head(monthly)    "
   ]
  },
  {
   "cell_type": "code",
   "execution_count": null,
   "metadata": {},
   "outputs": [],
   "source": [
    "plot(x=monthly, xlab=\"Time\", ylab=\"Prices\") "
   ]
  },
  {
   "cell_type": "markdown",
   "metadata": {},
   "source": [
    "This notebook was created using [pluto](http://pluto.studio). Learn more [here](https://github.com/shyams80/pluto)"
   ]
  }
 ],
 "metadata": {
  "kernelspec": {
   "display_name": "R",
   "language": "R",
   "name": "ir"
  },
  "language_info": {
   "codemirror_mode": "r",
   "file_extension": ".r",
   "mimetype": "text/x-r-source",
   "name": "R",
   "pygments_lexer": "r",
   "version": "3.4.4"
  }
 },
 "nbformat": 4,
 "nbformat_minor": 2
}
