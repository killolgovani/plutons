{
 "cells": [
  {
   "cell_type": "code",
   "execution_count": 1,
   "metadata": {},
   "outputs": [
    {
     "name": "stderr",
     "output_type": "stream",
     "text": [
      "── \u001b[1mAttaching packages\u001b[22m ─────────────────────────────────────── tidyverse 1.2.1 ──\n",
      "\u001b[32m✔\u001b[39m \u001b[34mggplot2\u001b[39m 3.2.1     \u001b[32m✔\u001b[39m \u001b[34mpurrr  \u001b[39m 0.3.2\n",
      "\u001b[32m✔\u001b[39m \u001b[34mtibble \u001b[39m 2.1.3     \u001b[32m✔\u001b[39m \u001b[34mdplyr  \u001b[39m 0.8.3\n",
      "\u001b[32m✔\u001b[39m \u001b[34mtidyr  \u001b[39m 0.8.3     \u001b[32m✔\u001b[39m \u001b[34mstringr\u001b[39m 1.4.0\n",
      "\u001b[32m✔\u001b[39m \u001b[34mreadr  \u001b[39m 1.3.1     \u001b[32m✔\u001b[39m \u001b[34mforcats\u001b[39m 0.4.0\n",
      "── \u001b[1mConflicts\u001b[22m ────────────────────────────────────────── tidyverse_conflicts() ──\n",
      "\u001b[31m✖\u001b[39m \u001b[34mdplyr\u001b[39m::\u001b[32mfilter()\u001b[39m masks \u001b[34mstats\u001b[39m::filter()\n",
      "\u001b[31m✖\u001b[39m \u001b[34mdplyr\u001b[39m::\u001b[32mlag()\u001b[39m    masks \u001b[34mstats\u001b[39m::lag()\n",
      "Loading required package: xts\n",
      "Loading required package: zoo\n",
      "\n",
      "Attaching package: ‘zoo’\n",
      "\n",
      "The following objects are masked from ‘package:base’:\n",
      "\n",
      "    as.Date, as.Date.numeric\n",
      "\n",
      "Registered S3 method overwritten by 'xts':\n",
      "  method     from\n",
      "  as.zoo.xts zoo \n",
      "\n",
      "Attaching package: ‘xts’\n",
      "\n",
      "The following objects are masked from ‘package:dplyr’:\n",
      "\n",
      "    first, last\n",
      "\n",
      "Loading required package: TTR\n",
      "Registered S3 method overwritten by 'quantmod':\n",
      "  method            from\n",
      "  as.zoo.data.frame zoo \n",
      "Version 0.4-0 included new data defaults. See ?getSymbols.\n",
      "\n",
      "Attaching package: ‘PerformanceAnalytics’\n",
      "\n",
      "The following object is masked from ‘package:graphics’:\n",
      "\n",
      "    legend\n",
      "\n",
      "\n",
      "Attaching package: ‘reshape2’\n",
      "\n",
      "The following object is masked from ‘package:tidyr’:\n",
      "\n",
      "    smiths\n",
      "\n",
      "\n",
      "Attaching package: ‘lubridate’\n",
      "\n",
      "The following object is masked from ‘package:base’:\n",
      "\n",
      "    date\n",
      "\n",
      "Registering fonts with R\n"
     ]
    }
   ],
   "source": [
    "library(tidyverse)\n",
    "library(ggthemes)\n",
    "library(odbc)\n",
    "library(RPostgres) \n",
    "library(plutoR)\n",
    "library(quantmod)\n",
    "library(PerformanceAnalytics)\n",
    "library(ggrepel)\n",
    "library(reshape2)\n",
    "library(lubridate)\n",
    "\n",
    "options(\"scipen\"=999)\n",
    "options(stringsAsFactors = FALSE)\n",
    "options(repr.plot.width=16, repr.plot.height=8)\n",
    "\n",
    "source(\"config.R\")\n",
    "source(\"goofy/plot.common.R\")\n",
    "\n",
    "\n",
    "indices<-Indices()"
   ]
  },
  {
   "cell_type": "code",
   "execution_count": 2,
   "metadata": {},
   "outputs": [
    {
     "data": {
      "text/html": [
       "<table>\n",
       "<caption>A tibble: 6 × 7</caption>\n",
       "<thead>\n",
       "\t<tr><th scope=col>NAME</th><th scope=col>TIME_STAMP</th><th scope=col>HIGH</th><th scope=col>LOW</th><th scope=col>OPEN</th><th scope=col>CLOSE</th><th scope=col>VOLUME</th></tr>\n",
       "\t<tr><th scope=col>&lt;chr&gt;</th><th scope=col>&lt;date&gt;</th><th scope=col>&lt;dbl&gt;</th><th scope=col>&lt;dbl&gt;</th><th scope=col>&lt;dbl&gt;</th><th scope=col>&lt;dbl&gt;</th><th scope=col>&lt;dbl&gt;</th></tr>\n",
       "</thead>\n",
       "<tbody>\n",
       "\t<tr><td>NIFTY 50</td><td>2019-08-27</td><td>11141.75</td><td>11049.50</td><td>11106.55</td><td>11105.35</td><td>685551267</td></tr>\n",
       "\t<tr><td>NIFTY 50</td><td>2019-08-28</td><td>11129.65</td><td>10987.65</td><td>11101.30</td><td>11046.10</td><td>549954696</td></tr>\n",
       "\t<tr><td>NIFTY 50</td><td>2019-08-29</td><td>11021.10</td><td>10922.40</td><td>10996.05</td><td>10948.30</td><td>649876160</td></tr>\n",
       "\t<tr><td>NIFTY 50</td><td>2019-08-30</td><td>11042.60</td><td>10874.80</td><td>10987.80</td><td>11023.25</td><td>628154431</td></tr>\n",
       "\t<tr><td>NIFTY 50</td><td>2019-09-03</td><td>10967.50</td><td>10772.70</td><td>10960.95</td><td>10797.90</td><td>483038985</td></tr>\n",
       "\t<tr><td>NIFTY 50</td><td>2019-09-04</td><td>10858.75</td><td>10746.35</td><td>10790.40</td><td>10844.65</td><td>508784352</td></tr>\n",
       "</tbody>\n",
       "</table>\n"
      ],
      "text/latex": [
       "A tibble: 6 × 7\n",
       "\\begin{tabular}{r|lllllll}\n",
       " NAME & TIME\\_STAMP & HIGH & LOW & OPEN & CLOSE & VOLUME\\\\\n",
       " <chr> & <date> & <dbl> & <dbl> & <dbl> & <dbl> & <dbl>\\\\\n",
       "\\hline\n",
       "\t NIFTY 50 & 2019-08-27 & 11141.75 & 11049.50 & 11106.55 & 11105.35 & 685551267\\\\\n",
       "\t NIFTY 50 & 2019-08-28 & 11129.65 & 10987.65 & 11101.30 & 11046.10 & 549954696\\\\\n",
       "\t NIFTY 50 & 2019-08-29 & 11021.10 & 10922.40 & 10996.05 & 10948.30 & 649876160\\\\\n",
       "\t NIFTY 50 & 2019-08-30 & 11042.60 & 10874.80 & 10987.80 & 11023.25 & 628154431\\\\\n",
       "\t NIFTY 50 & 2019-09-03 & 10967.50 & 10772.70 & 10960.95 & 10797.90 & 483038985\\\\\n",
       "\t NIFTY 50 & 2019-09-04 & 10858.75 & 10746.35 & 10790.40 & 10844.65 & 508784352\\\\\n",
       "\\end{tabular}\n"
      ],
      "text/markdown": [
       "\n",
       "A tibble: 6 × 7\n",
       "\n",
       "| NAME &lt;chr&gt; | TIME_STAMP &lt;date&gt; | HIGH &lt;dbl&gt; | LOW &lt;dbl&gt; | OPEN &lt;dbl&gt; | CLOSE &lt;dbl&gt; | VOLUME &lt;dbl&gt; |\n",
       "|---|---|---|---|---|---|---|\n",
       "| NIFTY 50 | 2019-08-27 | 11141.75 | 11049.50 | 11106.55 | 11105.35 | 685551267 |\n",
       "| NIFTY 50 | 2019-08-28 | 11129.65 | 10987.65 | 11101.30 | 11046.10 | 549954696 |\n",
       "| NIFTY 50 | 2019-08-29 | 11021.10 | 10922.40 | 10996.05 | 10948.30 | 649876160 |\n",
       "| NIFTY 50 | 2019-08-30 | 11042.60 | 10874.80 | 10987.80 | 11023.25 | 628154431 |\n",
       "| NIFTY 50 | 2019-09-03 | 10967.50 | 10772.70 | 10960.95 | 10797.90 | 483038985 |\n",
       "| NIFTY 50 | 2019-09-04 | 10858.75 | 10746.35 | 10790.40 | 10844.65 | 508784352 |\n",
       "\n"
      ],
      "text/plain": [
       "  NAME     TIME_STAMP HIGH     LOW      OPEN     CLOSE    VOLUME   \n",
       "1 NIFTY 50 2019-08-27 11141.75 11049.50 11106.55 11105.35 685551267\n",
       "2 NIFTY 50 2019-08-28 11129.65 10987.65 11101.30 11046.10 549954696\n",
       "3 NIFTY 50 2019-08-29 11021.10 10922.40 10996.05 10948.30 649876160\n",
       "4 NIFTY 50 2019-08-30 11042.60 10874.80 10987.80 11023.25 628154431\n",
       "5 NIFTY 50 2019-09-03 10967.50 10772.70 10960.95 10797.90 483038985\n",
       "6 NIFTY 50 2019-09-04 10858.75 10746.35 10790.40 10844.65 508784352"
      ]
     },
     "metadata": {},
     "output_type": "display_data"
    }
   ],
   "source": [
    "nifty_50 <- indices$NseTimeSeries() %>%\n",
    "                 filter(NAME == \"NIFTY 50\") %>%  \n",
    "                 arrange(TIME_STAMP) %>%\n",
    "                 collect() \n",
    "\n",
    "tail(nifty_50)"
   ]
  },
  {
   "cell_type": "code",
   "execution_count": 3,
   "metadata": {},
   "outputs": [
    {
     "data": {
      "text/plain": [
       "Daily periodicity from 1990-07-03 to 2019-09-04 "
      ]
     },
     "metadata": {},
     "output_type": "display_data"
    }
   ],
   "source": [
    "xts1 <- xts(nifty_50$CLOSE, nifty_50$TIME_STAMP) \n",
    "\n",
    "periodicity(xts1)"
   ]
  },
  {
   "cell_type": "code",
   "execution_count": 4,
   "metadata": {},
   "outputs": [
    {
     "data": {
      "text/plain": [
       "Monthly periodicity from 1990-07-30 to 2019-09-04 "
      ]
     },
     "metadata": {},
     "output_type": "display_data"
    }
   ],
   "source": [
    "monthly_prices <- to.monthly(xts1, indexAt=\"last\", OHLC = FALSE)\n",
    "\n",
    "periodicity(monthly_prices)"
   ]
  },
  {
   "cell_type": "code",
   "execution_count": 5,
   "metadata": {},
   "outputs": [
    {
     "data": {
      "text/plain": [
       "                   [,1]\n",
       "2019-04-30  0.010632458\n",
       "2019-05-31  0.014756752\n",
       "2019-06-28 -0.011298364\n",
       "2019-07-31 -0.058588753\n",
       "2019-08-30 -0.008558738\n",
       "2019-09-04 -0.016334808"
      ]
     },
     "metadata": {},
     "output_type": "display_data"
    }
   ],
   "source": [
    "monthly_returns <- na.omit(Return.calculate(monthly_prices, method = \"log\")) \n",
    "length(monthly_returns)"
   ]
  },
  {
   "cell_type": "markdown",
   "metadata": {},
   "source": [
    "This notebook was created using [pluto](http://pluto.studio). Learn more [here](https://github.com/shyams80/pluto)"
   ]
  }
 ],
 "metadata": {
  "kernelspec": {
   "display_name": "R",
   "language": "R",
   "name": "ir"
  },
  "language_info": {
   "codemirror_mode": "r",
   "file_extension": ".r",
   "mimetype": "text/x-r-source",
   "name": "R",
   "pygments_lexer": "r",
   "version": "3.4.4"
  }
 },
 "nbformat": 4,
 "nbformat_minor": 2
}
