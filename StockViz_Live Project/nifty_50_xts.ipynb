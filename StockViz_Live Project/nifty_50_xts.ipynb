{
 "cells": [
  {
   "cell_type": "code",
   "execution_count": 1,
   "metadata": {},
   "outputs": [
    {
     "name": "stderr",
     "output_type": "stream",
     "text": [
      "── \u001b[1mAttaching packages\u001b[22m ─────────────────────────────────────── tidyverse 1.2.1 ──\n",
      "\u001b[32m✔\u001b[39m \u001b[34mggplot2\u001b[39m 3.2.1     \u001b[32m✔\u001b[39m \u001b[34mpurrr  \u001b[39m 0.3.2\n",
      "\u001b[32m✔\u001b[39m \u001b[34mtibble \u001b[39m 2.1.3     \u001b[32m✔\u001b[39m \u001b[34mdplyr  \u001b[39m 0.8.3\n",
      "\u001b[32m✔\u001b[39m \u001b[34mtidyr  \u001b[39m 0.8.3     \u001b[32m✔\u001b[39m \u001b[34mstringr\u001b[39m 1.4.0\n",
      "\u001b[32m✔\u001b[39m \u001b[34mreadr  \u001b[39m 1.3.1     \u001b[32m✔\u001b[39m \u001b[34mforcats\u001b[39m 0.4.0\n",
      "── \u001b[1mConflicts\u001b[22m ────────────────────────────────────────── tidyverse_conflicts() ──\n",
      "\u001b[31m✖\u001b[39m \u001b[34mdplyr\u001b[39m::\u001b[32mfilter()\u001b[39m masks \u001b[34mstats\u001b[39m::filter()\n",
      "\u001b[31m✖\u001b[39m \u001b[34mdplyr\u001b[39m::\u001b[32mlag()\u001b[39m    masks \u001b[34mstats\u001b[39m::lag()\n",
      "Loading required package: xts\n",
      "Loading required package: zoo\n",
      "\n",
      "Attaching package: ‘zoo’\n",
      "\n",
      "The following objects are masked from ‘package:base’:\n",
      "\n",
      "    as.Date, as.Date.numeric\n",
      "\n",
      "Registered S3 method overwritten by 'xts':\n",
      "  method     from\n",
      "  as.zoo.xts zoo \n",
      "\n",
      "Attaching package: ‘xts’\n",
      "\n",
      "The following objects are masked from ‘package:dplyr’:\n",
      "\n",
      "    first, last\n",
      "\n",
      "Loading required package: TTR\n",
      "Registered S3 method overwritten by 'quantmod':\n",
      "  method            from\n",
      "  as.zoo.data.frame zoo \n",
      "Version 0.4-0 included new data defaults. See ?getSymbols.\n",
      "\n",
      "Attaching package: ‘PerformanceAnalytics’\n",
      "\n",
      "The following object is masked from ‘package:graphics’:\n",
      "\n",
      "    legend\n",
      "\n",
      "\n",
      "Attaching package: ‘reshape2’\n",
      "\n",
      "The following object is masked from ‘package:tidyr’:\n",
      "\n",
      "    smiths\n",
      "\n",
      "\n",
      "Attaching package: ‘lubridate’\n",
      "\n",
      "The following object is masked from ‘package:base’:\n",
      "\n",
      "    date\n",
      "\n"
     ]
    },
    {
     "ename": "ERROR",
     "evalue": "Error in library(rugarch): there is no package called ‘rugarch’\n",
     "output_type": "error",
     "traceback": [
      "Error in library(rugarch): there is no package called ‘rugarch’\nTraceback:\n",
      "1. library(rugarch)"
     ]
    }
   ],
   "source": [
    "library(tidyverse)\n",
    "library(ggthemes)\n",
    "library(odbc)\n",
    "library(RPostgres) \n",
    "library(plutoR)\n",
    "library(quantmod)\n",
    "library(PerformanceAnalytics)\n",
    "library(ggrepel)\n",
    "library(reshape2)\n",
    "library(lubridate)\n",
    "library(rugarch)\n",
    "\n",
    "options(\"scipen\"=999)\n",
    "options(stringsAsFactors = FALSE)\n",
    "options(repr.plot.width=16, repr.plot.height=8)\n",
    "\n",
    "source(\"config.R\")\n",
    "source(\"goofy/plot.common.R\")\n",
    "\n",
    "\n",
    "indices<-Indices()"
   ]
  },
  {
   "cell_type": "code",
   "execution_count": 2,
   "metadata": {},
   "outputs": [
    {
     "ename": "ERROR",
     "evalue": "Error in eval(lhs, parent, parent): object 'indices' not found\n",
     "output_type": "error",
     "traceback": [
      "Error in eval(lhs, parent, parent): object 'indices' not found\nTraceback:\n",
      "1. indices$NseTimeSeries() %>% filter(NAME == \"NIFTY 50\") %>% arrange(TIME_STAMP) %>% \n .     collect()",
      "2. eval(lhs, parent, parent)",
      "3. eval(lhs, parent, parent)"
     ]
    }
   ],
   "source": [
    "nifty_50 <- indices$NseTimeSeries() %>%\n",
    "                 filter(NAME == \"NIFTY 50\") %>%  \n",
    "                 arrange(TIME_STAMP) %>%\n",
    "                 collect() \n",
    "\n",
    "nifty_auto <- indices$NseTimeSeries() %>%\n",
    "                 filter(NAME == \"NIFTY AUTO\") %>%  \n",
    "                 arrange(TIME_STAMP) %>%\n",
    "                 collect()\n",
    "\n",
    "nifty_bank <- indices$NseTimeSeries() %>%\n",
    "                 filter(NAME == \"NIFTY BANK\") %>%  \n",
    "                 arrange(TIME_STAMP) %>%\n",
    "                 collect()"
   ]
  },
  {
   "cell_type": "code",
   "execution_count": 3,
   "metadata": {},
   "outputs": [
    {
     "ename": "ERROR",
     "evalue": "Error in xts(nifty_50$CLOSE, nifty_50$TIME_STAMP): object 'nifty_50' not found\n",
     "output_type": "error",
     "traceback": [
      "Error in xts(nifty_50$CLOSE, nifty_50$TIME_STAMP): object 'nifty_50' not found\nTraceback:\n",
      "1. xts(nifty_50$CLOSE, nifty_50$TIME_STAMP)"
     ]
    }
   ],
   "source": [
    "xts1 <- xts(nifty_50$CLOSE, nifty_50$TIME_STAMP)\n",
    "xts2 <- xts(nifty_auto$CLOSE, nifty_auto$TIME_STAMP)\n",
    "xts3 <- xts(nifty_bank$CLOSE, nifty_bank$TIME_STAMP) "
   ]
  },
  {
   "cell_type": "code",
   "execution_count": 4,
   "metadata": {},
   "outputs": [
    {
     "ename": "ERROR",
     "evalue": "Error in to.period(x, \"months\", indexAt = indexAt, name = name, ...): object 'xts1' not found\n",
     "output_type": "error",
     "traceback": [
      "Error in to.period(x, \"months\", indexAt = indexAt, name = name, ...): object 'xts1' not found\nTraceback:\n",
      "1. to.monthly(xts1, indexAt = \"last\", OHLC = FALSE)",
      "2. to.period(x, \"months\", indexAt = indexAt, name = name, ...)"
     ]
    }
   ],
   "source": [
    "monthly_prices <- to.monthly(xts1, indexAt=\"last\", OHLC = FALSE)\n",
    "monthly_prices_auto <- to.monthly(xts2, indexAt=\"last\", OHLC = FALSE)\n",
    "monthly_prices_bank <- to.monthly(xts3, indexAt=\"last\", OHLC = FALSE)  "
   ]
  },
  {
   "cell_type": "code",
   "execution_count": 5,
   "metadata": {},
   "outputs": [
    {
     "ename": "ERROR",
     "evalue": "Error in is.xts(x): object 'monthly_prices' not found\n",
     "output_type": "error",
     "traceback": [
      "Error in is.xts(x): object 'monthly_prices' not found\nTraceback:\n",
      "1. na.omit(Return.calculate(monthly_prices, method = \"log\"))",
      "2. Return.calculate(monthly_prices, method = \"log\")",
      "3. checkData(prices, method = \"xts\")",
      "4. is.xts(x)"
     ]
    }
   ],
   "source": [
    "monthly_returns <- na.omit(Return.calculate(monthly_prices, method = \"log\"))\n",
    "monthly_returns_auto <- na.omit(Return.calculate(monthly_prices_auto, method = \"log\"))\n",
    "monthly_returns_bank <- na.omit(Return.calculate(monthly_prices_bank, method = \"log\"))\n",
    "\n",
    "monthly <- na.omit(merge(monthly_returns, monthly_returns_auto, monthly_returns_bank))\n",
    "head(monthly)    "
   ]
  },
  {
   "cell_type": "code",
   "execution_count": 6,
   "metadata": {},
   "outputs": [
    {
     "ename": "ERROR",
     "evalue": "Error in plot(x = monthly, xlab = \"Time\", ylab = \"Prices\"): object 'monthly' not found\n",
     "output_type": "error",
     "traceback": [
      "Error in plot(x = monthly, xlab = \"Time\", ylab = \"Prices\"): object 'monthly' not found\nTraceback:\n",
      "1. plot(x = monthly, xlab = \"Time\", ylab = \"Prices\")"
     ]
    }
   ],
   "source": [
    "plot(x=monthly, xlab=\"Time\", ylab=\"Prices\") "
   ]
  },
  {
   "cell_type": "markdown",
   "metadata": {},
   "source": [
    "This notebook was created using [pluto](http://pluto.studio). Learn more [here](https://github.com/shyams80/pluto)"
   ]
  }
 ],
 "metadata": {
  "kernelspec": {
   "display_name": "R",
   "language": "R",
   "name": "ir"
  },
  "language_info": {
   "codemirror_mode": "r",
   "file_extension": ".r",
   "mimetype": "text/x-r-source",
   "name": "R",
   "pygments_lexer": "r",
   "version": "3.6.1"
  }
 },
 "nbformat": 4,
 "nbformat_minor": 2
}
