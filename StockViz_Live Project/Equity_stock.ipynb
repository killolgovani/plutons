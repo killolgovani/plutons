{
 "cells": [
  {
   "cell_type": "code",
   "execution_count": 1,
   "metadata": {},
   "outputs": [
    {
     "name": "stderr",
     "output_type": "stream",
     "text": [
      "\n",
      "Attaching package: ‘dplyr’\n",
      "\n",
      "The following objects are masked from ‘package:dbplyr’:\n",
      "\n",
      "    ident, sql\n",
      "\n",
      "The following objects are masked from ‘package:stats’:\n",
      "\n",
      "    filter, lag\n",
      "\n",
      "The following objects are masked from ‘package:base’:\n",
      "\n",
      "    intersect, setdiff, setequal, union\n",
      "\n"
     ]
    }
   ],
   "source": [
    "library(dbplyr)\n",
    "library(dplyr)\n",
    "library(odbc)\n",
    "library(RPostgres)\n",
    "library(plutoR)\n",
    "options(\"scipen\"=999)\n",
    "source(\"config.R\")\n",
    "\n",
    "equitiesIndiaNse <- EquitiesIndiaNse()\n",
    "indices<-Indices()"
   ]
  },
  {
   "cell_type": "code",
   "execution_count": 2,
   "metadata": {},
   "outputs": [
    {
     "name": "stderr",
     "output_type": "stream",
     "text": [
      "Warning message:\n",
      "“Missing values are always removed in SQL.\n",
      "Use `MAX(x, na.rm = TRUE)` to silence this warning\n",
      "This warning is displayed only once per session.”"
     ]
    },
    {
     "name": "stdout",
     "output_type": "stream",
     "text": [
      "[1] \"latest end-of-day prices for RELIANCE:\"\n",
      "\u001b[90m# Source:   lazy query [?? x 9]\u001b[39m\n",
      "\u001b[90m# Database: Microsoft SQL Server 13.00.4259[ro1@NORWAY/StockViz]\u001b[39m\n",
      "  SYMBOL   SERIES TIME_STAMP  HIGH   LOW  OPEN CLOSE  LAST   VOLUME\n",
      "  \u001b[3m\u001b[90m<chr>\u001b[39m\u001b[23m    \u001b[3m\u001b[90m<chr>\u001b[39m\u001b[23m  \u001b[3m\u001b[90m<date>\u001b[39m\u001b[23m     \u001b[3m\u001b[90m<dbl>\u001b[39m\u001b[23m \u001b[3m\u001b[90m<dbl>\u001b[39m\u001b[23m \u001b[3m\u001b[90m<dbl>\u001b[39m\u001b[23m \u001b[3m\u001b[90m<dbl>\u001b[39m\u001b[23m \u001b[3m\u001b[90m<dbl>\u001b[39m\u001b[23m    \u001b[3m\u001b[90m<dbl>\u001b[39m\u001b[23m\n",
      "\u001b[90m1\u001b[39m RELIANCE EQ     2019-08-30 \u001b[4m1\u001b[24m254.  \u001b[4m1\u001b[24m221 \u001b[4m1\u001b[24m246. \u001b[4m1\u001b[24m249.  \u001b[4m1\u001b[24m253 11\u001b[4m3\u001b[24m\u001b[4m0\u001b[24m\u001b[4m8\u001b[24m120\n"
     ]
    }
   ],
   "source": [
    "maxDt <- (equitiesIndiaNse$EodTimeSeries() %>%\n",
    "  summarize(MAX_DT = max(TIME_STAMP)) %>%\n",
    "  collect())$MAX_DT[[1]]\n",
    "\n",
    "print(\"latest end-of-day prices for RELIANCE:\")\n",
    "equitiesIndiaNse$EodTimeSeries() %>%\n",
    "  filter(TIME_STAMP == maxDt & SYMBOL == 'RELIANCE') %>%\n",
    "  print()"
   ]
  },
  {
   "cell_type": "code",
   "execution_count": 3,
   "metadata": {},
   "outputs": [
    {
     "name": "stdout",
     "output_type": "stream",
     "text": [
      "\u001b[90m# Source:     lazy query [?? x 7]\u001b[39m\n",
      "\u001b[90m# Database:   Microsoft SQL Server 13.00.4259[ro1@NORWAY/StockViz]\u001b[39m\n",
      "\u001b[90m# Ordered by: desc(TIME_STAMP)\u001b[39m\n",
      "  NAME     TIME_STAMP   HIGH    LOW   OPEN  CLOSE    VOLUME\n",
      "  \u001b[3m\u001b[90m<chr>\u001b[39m\u001b[23m    \u001b[3m\u001b[90m<date>\u001b[39m\u001b[23m      \u001b[3m\u001b[90m<dbl>\u001b[39m\u001b[23m  \u001b[3m\u001b[90m<dbl>\u001b[39m\u001b[23m  \u001b[3m\u001b[90m<dbl>\u001b[39m\u001b[23m  \u001b[3m\u001b[90m<dbl>\u001b[39m\u001b[23m     \u001b[3m\u001b[90m<dbl>\u001b[39m\u001b[23m\n",
      "\u001b[90m1\u001b[39m NIFTY 50 2019-08-30 \u001b[4m1\u001b[24m\u001b[4m1\u001b[24m043. \u001b[4m1\u001b[24m\u001b[4m0\u001b[24m875. \u001b[4m1\u001b[24m\u001b[4m0\u001b[24m988. \u001b[4m1\u001b[24m\u001b[4m1\u001b[24m023. 628\u001b[4m1\u001b[24m\u001b[4m5\u001b[24m\u001b[4m4\u001b[24m431\n",
      "\u001b[90m2\u001b[39m NIFTY 50 2019-08-29 \u001b[4m1\u001b[24m\u001b[4m1\u001b[24m021. \u001b[4m1\u001b[24m\u001b[4m0\u001b[24m922. \u001b[4m1\u001b[24m\u001b[4m0\u001b[24m996. \u001b[4m1\u001b[24m\u001b[4m0\u001b[24m948. 649\u001b[4m8\u001b[24m\u001b[4m7\u001b[24m\u001b[4m6\u001b[24m160\n",
      "\u001b[90m3\u001b[39m NIFTY 50 2019-08-28 \u001b[4m1\u001b[24m\u001b[4m1\u001b[24m130. \u001b[4m1\u001b[24m\u001b[4m0\u001b[24m988. \u001b[4m1\u001b[24m\u001b[4m1\u001b[24m101. \u001b[4m1\u001b[24m\u001b[4m1\u001b[24m046. 549\u001b[4m9\u001b[24m\u001b[4m5\u001b[24m\u001b[4m4\u001b[24m696\n",
      "\u001b[90m4\u001b[39m NIFTY 50 2019-08-27 \u001b[4m1\u001b[24m\u001b[4m1\u001b[24m142. \u001b[4m1\u001b[24m\u001b[4m1\u001b[24m050. \u001b[4m1\u001b[24m\u001b[4m1\u001b[24m107. \u001b[4m1\u001b[24m\u001b[4m1\u001b[24m105. 685\u001b[4m5\u001b[24m\u001b[4m5\u001b[24m\u001b[4m1\u001b[24m267\n",
      "\u001b[90m# … with more rows\u001b[39m\n"
     ]
    }
   ],
   "source": [
    "auto_index <- indices$NseTimeSeries() %>%\n",
    "                 filter(NAME == \"NIFTY 50\") %>%  \n",
    "                 arrange(desc(TIME_STAMP)) %>%\n",
    "                 print(n=4)"
   ]
  },
  {
   "cell_type": "code",
   "execution_count": 4,
   "metadata": {},
   "outputs": [],
   "source": [
    "auto <- as.data.frame(auto_index)"
   ]
  },
  {
   "cell_type": "code",
   "execution_count": 5,
   "metadata": {},
   "outputs": [
    {
     "data": {
      "text/html": [
       "<ol class=list-inline>\n",
       "\t<li>7055</li>\n",
       "\t<li>7</li>\n",
       "</ol>\n"
      ],
      "text/latex": [
       "\\begin{enumerate*}\n",
       "\\item 7055\n",
       "\\item 7\n",
       "\\end{enumerate*}\n"
      ],
      "text/markdown": [
       "1. 7055\n",
       "2. 7\n",
       "\n",
       "\n"
      ],
      "text/plain": [
       "[1] 7055    7"
      ]
     },
     "metadata": {},
     "output_type": "display_data"
    }
   ],
   "source": [
    "dim(auto)"
   ]
  },
  {
   "cell_type": "code",
   "execution_count": 6,
   "metadata": {},
   "outputs": [
    {
     "data": {
      "text/html": [
       "<table>\n",
       "<caption>A data.frame: 10 × 7</caption>\n",
       "<thead>\n",
       "\t<tr><th></th><th scope=col>NAME</th><th scope=col>TIME_STAMP</th><th scope=col>HIGH</th><th scope=col>LOW</th><th scope=col>OPEN</th><th scope=col>CLOSE</th><th scope=col>VOLUME</th></tr>\n",
       "\t<tr><th></th><th scope=col>&lt;chr&gt;</th><th scope=col>&lt;date&gt;</th><th scope=col>&lt;dbl&gt;</th><th scope=col>&lt;dbl&gt;</th><th scope=col>&lt;dbl&gt;</th><th scope=col>&lt;dbl&gt;</th><th scope=col>&lt;dbl&gt;</th></tr>\n",
       "</thead>\n",
       "<tbody>\n",
       "\t<tr><th scope=row>7046</th><td>NIFTY 50</td><td>1990-07-17</td><td>0</td><td>0</td><td>0</td><td>295.39</td><td>0</td></tr>\n",
       "\t<tr><th scope=row>7047</th><td>NIFTY 50</td><td>1990-07-16</td><td>0</td><td>0</td><td>0</td><td>287.96</td><td>0</td></tr>\n",
       "\t<tr><th scope=row>7048</th><td>NIFTY 50</td><td>1990-07-13</td><td>0</td><td>0</td><td>0</td><td>296.34</td><td>0</td></tr>\n",
       "\t<tr><th scope=row>7049</th><td>NIFTY 50</td><td>1990-07-12</td><td>0</td><td>0</td><td>0</td><td>296.21</td><td>0</td></tr>\n",
       "\t<tr><th scope=row>7050</th><td>NIFTY 50</td><td>1990-07-11</td><td>0</td><td>0</td><td>0</td><td>293.30</td><td>0</td></tr>\n",
       "\t<tr><th scope=row>7051</th><td>NIFTY 50</td><td>1990-07-10</td><td>0</td><td>0</td><td>0</td><td>288.69</td><td>0</td></tr>\n",
       "\t<tr><th scope=row>7052</th><td>NIFTY 50</td><td>1990-07-09</td><td>0</td><td>0</td><td>0</td><td>289.69</td><td>0</td></tr>\n",
       "\t<tr><th scope=row>7053</th><td>NIFTY 50</td><td>1990-07-06</td><td>0</td><td>0</td><td>0</td><td>289.04</td><td>0</td></tr>\n",
       "\t<tr><th scope=row>7054</th><td>NIFTY 50</td><td>1990-07-05</td><td>0</td><td>0</td><td>0</td><td>284.04</td><td>0</td></tr>\n",
       "\t<tr><th scope=row>7055</th><td>NIFTY 50</td><td>1990-07-03</td><td>0</td><td>0</td><td>0</td><td>279.02</td><td>0</td></tr>\n",
       "</tbody>\n",
       "</table>\n"
      ],
      "text/latex": [
       "A data.frame: 10 × 7\n",
       "\\begin{tabular}{r|lllllll}\n",
       "  & NAME & TIME\\_STAMP & HIGH & LOW & OPEN & CLOSE & VOLUME\\\\\n",
       "  & <chr> & <date> & <dbl> & <dbl> & <dbl> & <dbl> & <dbl>\\\\\n",
       "\\hline\n",
       "\t7046 & NIFTY 50 & 1990-07-17 & 0 & 0 & 0 & 295.39 & 0\\\\\n",
       "\t7047 & NIFTY 50 & 1990-07-16 & 0 & 0 & 0 & 287.96 & 0\\\\\n",
       "\t7048 & NIFTY 50 & 1990-07-13 & 0 & 0 & 0 & 296.34 & 0\\\\\n",
       "\t7049 & NIFTY 50 & 1990-07-12 & 0 & 0 & 0 & 296.21 & 0\\\\\n",
       "\t7050 & NIFTY 50 & 1990-07-11 & 0 & 0 & 0 & 293.30 & 0\\\\\n",
       "\t7051 & NIFTY 50 & 1990-07-10 & 0 & 0 & 0 & 288.69 & 0\\\\\n",
       "\t7052 & NIFTY 50 & 1990-07-09 & 0 & 0 & 0 & 289.69 & 0\\\\\n",
       "\t7053 & NIFTY 50 & 1990-07-06 & 0 & 0 & 0 & 289.04 & 0\\\\\n",
       "\t7054 & NIFTY 50 & 1990-07-05 & 0 & 0 & 0 & 284.04 & 0\\\\\n",
       "\t7055 & NIFTY 50 & 1990-07-03 & 0 & 0 & 0 & 279.02 & 0\\\\\n",
       "\\end{tabular}\n"
      ],
      "text/markdown": [
       "\n",
       "A data.frame: 10 × 7\n",
       "\n",
       "| <!--/--> | NAME &lt;chr&gt; | TIME_STAMP &lt;date&gt; | HIGH &lt;dbl&gt; | LOW &lt;dbl&gt; | OPEN &lt;dbl&gt; | CLOSE &lt;dbl&gt; | VOLUME &lt;dbl&gt; |\n",
       "|---|---|---|---|---|---|---|---|\n",
       "| 7046 | NIFTY 50 | 1990-07-17 | 0 | 0 | 0 | 295.39 | 0 |\n",
       "| 7047 | NIFTY 50 | 1990-07-16 | 0 | 0 | 0 | 287.96 | 0 |\n",
       "| 7048 | NIFTY 50 | 1990-07-13 | 0 | 0 | 0 | 296.34 | 0 |\n",
       "| 7049 | NIFTY 50 | 1990-07-12 | 0 | 0 | 0 | 296.21 | 0 |\n",
       "| 7050 | NIFTY 50 | 1990-07-11 | 0 | 0 | 0 | 293.30 | 0 |\n",
       "| 7051 | NIFTY 50 | 1990-07-10 | 0 | 0 | 0 | 288.69 | 0 |\n",
       "| 7052 | NIFTY 50 | 1990-07-09 | 0 | 0 | 0 | 289.69 | 0 |\n",
       "| 7053 | NIFTY 50 | 1990-07-06 | 0 | 0 | 0 | 289.04 | 0 |\n",
       "| 7054 | NIFTY 50 | 1990-07-05 | 0 | 0 | 0 | 284.04 | 0 |\n",
       "| 7055 | NIFTY 50 | 1990-07-03 | 0 | 0 | 0 | 279.02 | 0 |\n",
       "\n"
      ],
      "text/plain": [
       "     NAME     TIME_STAMP HIGH LOW OPEN CLOSE  VOLUME\n",
       "7046 NIFTY 50 1990-07-17 0    0   0    295.39 0     \n",
       "7047 NIFTY 50 1990-07-16 0    0   0    287.96 0     \n",
       "7048 NIFTY 50 1990-07-13 0    0   0    296.34 0     \n",
       "7049 NIFTY 50 1990-07-12 0    0   0    296.21 0     \n",
       "7050 NIFTY 50 1990-07-11 0    0   0    293.30 0     \n",
       "7051 NIFTY 50 1990-07-10 0    0   0    288.69 0     \n",
       "7052 NIFTY 50 1990-07-09 0    0   0    289.69 0     \n",
       "7053 NIFTY 50 1990-07-06 0    0   0    289.04 0     \n",
       "7054 NIFTY 50 1990-07-05 0    0   0    284.04 0     \n",
       "7055 NIFTY 50 1990-07-03 0    0   0    279.02 0     "
      ]
     },
     "metadata": {},
     "output_type": "display_data"
    }
   ],
   "source": [
    "tail(auto, n=10)"
   ]
  },
  {
   "cell_type": "markdown",
   "metadata": {},
   "source": [
    "This notebook was created using [pluto](http://pluto.studio). Learn more [here](https://github.com/shyams80/pluto)"
   ]
  }
 ],
 "metadata": {
  "kernelspec": {
   "display_name": "R",
   "language": "R",
   "name": "ir"
  },
  "language_info": {
   "codemirror_mode": "r",
   "file_extension": ".r",
   "mimetype": "text/x-r-source",
   "name": "R",
   "pygments_lexer": "r",
   "version": "3.6.1"
  }
 },
 "nbformat": 4,
 "nbformat_minor": 2
}
