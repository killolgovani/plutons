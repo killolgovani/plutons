{
 "cells": [
  {
   "cell_type": "code",
   "execution_count": 1,
   "metadata": {},
   "outputs": [
    {
     "name": "stderr",
     "output_type": "stream",
     "text": [
      "\n",
      "Attaching package: ‘dplyr’\n",
      "\n",
      "The following objects are masked from ‘package:dbplyr’:\n",
      "\n",
      "    ident, sql\n",
      "\n",
      "The following objects are masked from ‘package:stats’:\n",
      "\n",
      "    filter, lag\n",
      "\n",
      "The following objects are masked from ‘package:base’:\n",
      "\n",
      "    intersect, setdiff, setequal, union\n",
      "\n"
     ]
    }
   ],
   "source": [
    "library(dbplyr)\n",
    "library(dplyr)\n",
    "library(odbc)\n",
    "library(RPostgres)\n",
    "library(plutoR)\n",
    "options(\"scipen\"=999)\n",
    "source(\"config.R\")\n",
    "\n",
    "equitiesIndiaNse <- EquitiesIndiaNse()\n",
    "indices<-Indices()"
   ]
  },
  {
   "cell_type": "code",
   "execution_count": 2,
   "metadata": {},
   "outputs": [
    {
     "name": "stderr",
     "output_type": "stream",
     "text": [
      "Warning message:\n",
      "“Missing values are always removed in SQL.\n",
      "Use `MAX(x, na.rm = TRUE)` to silence this warning\n",
      "This warning is displayed only once per session.”"
     ]
    },
    {
     "name": "stdout",
     "output_type": "stream",
     "text": [
      "[1] \"latest end-of-day prices for RELIANCE:\"\n",
      "\u001b[90m# Source:   lazy query [?? x 9]\u001b[39m\n",
      "\u001b[90m# Database: Microsoft SQL Server 13.00.4259[ro1@NORWAY/StockViz]\u001b[39m\n",
      "  SYMBOL   SERIES TIME_STAMP  HIGH   LOW  OPEN CLOSE  LAST   VOLUME\n",
      "  \u001b[3m\u001b[90m<chr>\u001b[39m\u001b[23m    \u001b[3m\u001b[90m<chr>\u001b[39m\u001b[23m  \u001b[3m\u001b[90m<date>\u001b[39m\u001b[23m     \u001b[3m\u001b[90m<dbl>\u001b[39m\u001b[23m \u001b[3m\u001b[90m<dbl>\u001b[39m\u001b[23m \u001b[3m\u001b[90m<dbl>\u001b[39m\u001b[23m \u001b[3m\u001b[90m<dbl>\u001b[39m\u001b[23m \u001b[3m\u001b[90m<dbl>\u001b[39m\u001b[23m    \u001b[3m\u001b[90m<dbl>\u001b[39m\u001b[23m\n",
      "\u001b[90m1\u001b[39m RELIANCE EQ     2019-08-30 \u001b[4m1\u001b[24m254.  \u001b[4m1\u001b[24m221 \u001b[4m1\u001b[24m246. \u001b[4m1\u001b[24m249.  \u001b[4m1\u001b[24m253 11\u001b[4m3\u001b[24m\u001b[4m0\u001b[24m\u001b[4m8\u001b[24m120\n"
     ]
    }
   ],
   "source": [
    "maxDt <- (equitiesIndiaNse$EodTimeSeries() %>%\n",
    "  summarize(MAX_DT = max(TIME_STAMP)) %>%\n",
    "  collect())$MAX_DT[[1]]\n",
    "\n",
    "print(\"latest end-of-day prices for RELIANCE:\")\n",
    "equitiesIndiaNse$EodTimeSeries() %>%\n",
    "  filter(TIME_STAMP == maxDt & SYMBOL == 'RELIANCE') %>%\n",
    "  print()"
   ]
  },
  {
   "cell_type": "code",
   "execution_count": 3,
   "metadata": {},
   "outputs": [
    {
     "name": "stderr",
     "output_type": "stream",
     "text": [
      "Warning message:\n",
      "“Missing values are always removed in SQL.\n",
      "Use `MIN(x, na.rm = TRUE)` to silence this warning\n",
      "This warning is displayed only once per session.”"
     ]
    },
    {
     "ename": "ERROR",
     "evalue": "Error: <SQL> 'SELECT TOP(11) MIN(\"TIME_STAMP\") AS \"ST\", MAX(\"TIME_STAMP\") AS \"ET\"\nFROM (SELECT TOP 100 PERCENT \"NAME\", \"CLOSE\"\nFROM (SELECT TOP 100 PERCENT *\nFROM (SELECT TOP 100 PERCENT \"INDEX_NAME\" AS \"NAME\", \"TIME_STAMP\", \"PX_HIGH\" AS \"HIGH\", \"PX_LOW\" AS \"LOW\", \"PX_OPEN\" AS \"OPEN\", \"PX_CLOSE\" AS \"CLOSE\", \"TRD_QTY\" AS \"VOLUME\"\nFROM \"BHAV_INDEX\") \"dbplyr_003\"\nWHERE (\"NAME\" = 'NIFTY 50')) \"dbplyr_004\") \"dbplyr_005\"'\n  nanodbc/nanodbc.cpp:1587: 42S22: [Microsoft][ODBC Driver 17 for SQL Server][SQL Server]Invalid column name 'TIME_STAMP'. \n",
     "output_type": "error",
     "traceback": [
      "Error: <SQL> 'SELECT TOP(11) MIN(\"TIME_STAMP\") AS \"ST\", MAX(\"TIME_STAMP\") AS \"ET\"\nFROM (SELECT TOP 100 PERCENT \"NAME\", \"CLOSE\"\nFROM (SELECT TOP 100 PERCENT *\nFROM (SELECT TOP 100 PERCENT \"INDEX_NAME\" AS \"NAME\", \"TIME_STAMP\", \"PX_HIGH\" AS \"HIGH\", \"PX_LOW\" AS \"LOW\", \"PX_OPEN\" AS \"OPEN\", \"PX_CLOSE\" AS \"CLOSE\", \"TRD_QTY\" AS \"VOLUME\"\nFROM \"BHAV_INDEX\") \"dbplyr_003\"\nWHERE (\"NAME\" = 'NIFTY 50')) \"dbplyr_004\") \"dbplyr_005\"'\n  nanodbc/nanodbc.cpp:1587: 42S22: [Microsoft][ODBC Driver 17 for SQL Server][SQL Server]Invalid column name 'TIME_STAMP'. \nTraceback:\n",
      "1. indices$NseTimeSeries() %>% filter(NAME == \"NIFTY 50\") %>% select(NAME, \n .     CLOSE) %>% summarize(ST = min(TIME_STAMP), ET = max(TIME_STAMP)) %>% \n .     print()",
      "2. withVisible(eval(quote(`_fseq`(`_lhs`)), env, env))",
      "3. eval(quote(`_fseq`(`_lhs`)), env, env)",
      "4. eval(quote(`_fseq`(`_lhs`)), env, env)",
      "5. `_fseq`(`_lhs`)",
      "6. freduce(value, `_function_list`)",
      "7. withVisible(function_list[[k]](value))",
      "8. function_list[[k]](value)",
      "9. print(.)",
      "10. print.tbl_sql(.)",
      "11. cat_line(format(x, ..., n = n, width = width, n_extra = n_extra))",
      "12. cat(paste0(..., \"\\n\"), sep = \"\")",
      "13. paste0(..., \"\\n\")",
      "14. format(x, ..., n = n, width = width, n_extra = n_extra)",
      "15. format.tbl(x, ..., n = n, width = width, n_extra = n_extra)",
      "16. trunc_mat(x, n = n, width = width, n_extra = n_extra)",
      "17. as.data.frame(head(x, n + 1))",
      "18. as.data.frame.tbl_sql(head(x, n + 1))",
      "19. as.data.frame(collect(x, n = n))",
      "20. collect(x, n = n)",
      "21. collect.tbl_sql(x, n = n)",
      "22. db_collect(x$src$con, sql, n = n, warn_incomplete = warn_incomplete)",
      "23. db_collect.DBIConnection(x$src$con, sql, n = n, warn_incomplete = warn_incomplete)",
      "24. dbSendQuery(con, sql)",
      "25. dbSendQuery(con, sql)",
      "26. OdbcResult(connection = conn, statement = statement)",
      "27. new_result(connection@ptr, statement)"
     ]
    }
   ],
   "source": [
    "indices$NseTimeSeries() %>%\n",
    "         filter(NAME == \"NIFTY 50\") %>%\n",
    "         select(NAME, CLOSE) %>%\n",
    "         summarize(ST=min(TIME_STAMP), ET=max(TIME_STAMP)) %>%\n",
    "         print()"
   ]
  },
  {
   "cell_type": "markdown",
   "metadata": {},
   "source": [
    "This notebook was created using [pluto](http://pluto.studio). Learn more [here](https://github.com/shyams80/pluto)"
   ]
  }
 ],
 "metadata": {
  "kernelspec": {
   "display_name": "R",
   "language": "R",
   "name": "ir"
  },
  "language_info": {
   "codemirror_mode": "r",
   "file_extension": ".r",
   "mimetype": "text/x-r-source",
   "name": "R",
   "pygments_lexer": "r",
   "version": "3.6.1"
  }
 },
 "nbformat": 4,
 "nbformat_minor": 2
}
