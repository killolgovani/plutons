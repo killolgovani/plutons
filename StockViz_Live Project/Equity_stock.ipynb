{
 "cells": [
  {
   "cell_type": "code",
   "execution_count": 1,
   "metadata": {},
   "outputs": [
    {
     "name": "stderr",
     "output_type": "stream",
     "text": [
      "\n",
      "Attaching package: ‘dplyr’\n",
      "\n",
      "The following objects are masked from ‘package:dbplyr’:\n",
      "\n",
      "    ident, sql\n",
      "\n",
      "The following objects are masked from ‘package:stats’:\n",
      "\n",
      "    filter, lag\n",
      "\n",
      "The following objects are masked from ‘package:base’:\n",
      "\n",
      "    intersect, setdiff, setequal, union\n",
      "\n"
     ]
    }
   ],
   "source": [
    "library(dbplyr)\n",
    "library(dplyr)\n",
    "library(odbc)\n",
    "library(RPostgres)\n",
    "library(plutoR)\n",
    "options(\"scipen\"=999)\n",
    "source(\"config.R\")\n",
    "\n",
    "equitiesIndiaNse <- EquitiesIndiaNse()\n",
    "indices<-Indices()"
   ]
  },
  {
   "cell_type": "code",
   "execution_count": 2,
   "metadata": {},
   "outputs": [
    {
     "name": "stderr",
     "output_type": "stream",
     "text": [
      "Warning message:\n",
      "“Missing values are always removed in SQL.\n",
      "Use `MAX(x, na.rm = TRUE)` to silence this warning\n",
      "This warning is displayed only once per session.”"
     ]
    },
    {
     "name": "stdout",
     "output_type": "stream",
     "text": [
      "[1] \"latest end-of-day prices for RELIANCE:\"\n",
      "\u001b[90m# Source:   lazy query [?? x 9]\u001b[39m\n",
      "\u001b[90m# Database: Microsoft SQL Server 13.00.4259[ro1@NORWAY/StockViz]\u001b[39m\n",
      "  SYMBOL   SERIES TIME_STAMP  HIGH   LOW  OPEN CLOSE  LAST   VOLUME\n",
      "  \u001b[3m\u001b[90m<chr>\u001b[39m\u001b[23m    \u001b[3m\u001b[90m<chr>\u001b[39m\u001b[23m  \u001b[3m\u001b[90m<date>\u001b[39m\u001b[23m     \u001b[3m\u001b[90m<dbl>\u001b[39m\u001b[23m \u001b[3m\u001b[90m<dbl>\u001b[39m\u001b[23m \u001b[3m\u001b[90m<dbl>\u001b[39m\u001b[23m \u001b[3m\u001b[90m<dbl>\u001b[39m\u001b[23m \u001b[3m\u001b[90m<dbl>\u001b[39m\u001b[23m    \u001b[3m\u001b[90m<dbl>\u001b[39m\u001b[23m\n",
      "\u001b[90m1\u001b[39m RELIANCE EQ     2019-08-30 \u001b[4m1\u001b[24m254.  \u001b[4m1\u001b[24m221 \u001b[4m1\u001b[24m246. \u001b[4m1\u001b[24m249.  \u001b[4m1\u001b[24m253 11\u001b[4m3\u001b[24m\u001b[4m0\u001b[24m\u001b[4m8\u001b[24m120\n"
     ]
    }
   ],
   "source": [
    "maxDt <- (equitiesIndiaNse$EodTimeSeries() %>%\n",
    "  summarize(MAX_DT = max(TIME_STAMP)) %>%\n",
    "  collect())$MAX_DT[[1]]\n",
    "\n",
    "print(\"latest end-of-day prices for RELIANCE:\")\n",
    "equitiesIndiaNse$EodTimeSeries() %>%\n",
    "  filter(TIME_STAMP == maxDt & SYMBOL == 'RELIANCE') %>%\n",
    "  print()"
   ]
  },
  {
   "cell_type": "code",
   "execution_count": 3,
   "metadata": {},
   "outputs": [
    {
     "name": "stderr",
     "output_type": "stream",
     "text": [
      "ERROR while rich displaying an object: Error: <SQL> 'SELECT TOP(11) \"NAME\", \"TIME_STAMP\", \"HIGH\", \"LOW\", \"OPEN\", \"CLOSE\", \"VOLUME\", ((\"CLOSE\" - \"OPEN\") / \"OPEN\") * 100.0 AS \"RETURNS\"\n",
      "FROM (SELECT TOP 100 PERCENT \"INDEX_NAME\" AS \"NAME\", \"TIME_STAMP\", \"PX_HIGH\" AS \"HIGH\", \"PX_LOW\" AS \"LOW\", \"PX_OPEN\" AS \"OPEN\", \"PX_CLOSE\" AS \"CLOSE\", \"TRD_QTY\" AS \"VOLUME\"\n",
      "FROM \"BHAV_INDEX\") \"dbplyr_003\"\n",
      "WHERE (\"NAME\" = 'NIFTY 50')'\n",
      "  nanodbc/nanodbc.cpp:1587: 22012: [Microsoft][ODBC Driver 17 for SQL Server][SQL Server]Divide by zero error encountered. \n",
      "\n",
      "Traceback:\n",
      "1. FUN(X[[i]], ...)\n",
      "2. tryCatch(withCallingHandlers({\n",
      " .     if (!mime %in% names(repr::mime2repr)) \n",
      " .         stop(\"No repr_* for mimetype \", mime, \" in repr::mime2repr\")\n",
      " .     rpr <- repr::mime2repr[[mime]](obj)\n",
      " .     if (is.null(rpr)) \n",
      " .         return(NULL)\n",
      " .     prepare_content(is.raw(rpr), rpr)\n",
      " . }, error = error_handler), error = outer_handler)\n",
      "3. tryCatchList(expr, classes, parentenv, handlers)\n",
      "4. tryCatchOne(expr, names, parentenv, handlers[[1L]])\n",
      "5. doTryCatch(return(expr), name, parentenv, handler)\n",
      "6. withCallingHandlers({\n",
      " .     if (!mime %in% names(repr::mime2repr)) \n",
      " .         stop(\"No repr_* for mimetype \", mime, \" in repr::mime2repr\")\n",
      " .     rpr <- repr::mime2repr[[mime]](obj)\n",
      " .     if (is.null(rpr)) \n",
      " .         return(NULL)\n",
      " .     prepare_content(is.raw(rpr), rpr)\n",
      " . }, error = error_handler)\n",
      "7. repr::mime2repr[[mime]](obj)\n",
      "8. repr_text.default(obj)\n",
      "9. paste(capture.output(print(obj)), collapse = \"\\n\")\n",
      "10. capture.output(print(obj))\n",
      "11. evalVis(expr)\n",
      "12. withVisible(eval(expr, pf))\n",
      "13. eval(expr, pf)\n",
      "14. eval(expr, pf)\n",
      "15. print(obj)\n",
      "16. print.tbl_sql(obj)\n",
      "17. cat_line(format(x, ..., n = n, width = width, n_extra = n_extra))\n",
      "18. cat(paste0(..., \"\\n\"), sep = \"\")\n",
      "19. paste0(..., \"\\n\")\n",
      "20. format(x, ..., n = n, width = width, n_extra = n_extra)\n",
      "21. format.tbl(x, ..., n = n, width = width, n_extra = n_extra)\n",
      "22. trunc_mat(x, n = n, width = width, n_extra = n_extra)\n",
      "23. as.data.frame(head(x, n + 1))\n",
      "24. as.data.frame.tbl_sql(head(x, n + 1))\n",
      "25. as.data.frame(collect(x, n = n))\n",
      "26. collect(x, n = n)\n",
      "27. collect.tbl_sql(x, n = n)\n",
      "28. db_collect(x$src$con, sql, n = n, warn_incomplete = warn_incomplete)\n",
      "29. db_collect.DBIConnection(x$src$con, sql, n = n, warn_incomplete = warn_incomplete)\n",
      "30. dbSendQuery(con, sql)\n",
      "31. dbSendQuery(con, sql)\n",
      "32. OdbcResult(connection = conn, statement = statement)\n",
      "33. new_result(connection@ptr, statement)\n"
     ]
    },
    {
     "ename": "ERROR",
     "evalue": "Error in desc(TIME_STAMP): object 'TIME_STAMP' not found\n",
     "output_type": "error",
     "traceback": [
      "Error in desc(TIME_STAMP): object 'TIME_STAMP' not found\nTraceback:\n",
      "1. arrange(desc(TIME_STAMP)) %>% print(n = 10)",
      "2. eval(lhs, parent, parent)",
      "3. eval(lhs, parent, parent)",
      "4. arrange(desc(TIME_STAMP))",
      "5. desc(TIME_STAMP)"
     ]
    }
   ],
   "source": [
    "indices$NseTimeSeries() %>%\n",
    "         filter(NAME == \"NIFTY 50\") %>%\n",
    "         mutate(RETURNS = ((CLOSE - OPEN)/OPEN)*100) %>%  \n",
    "         arrange(desc(TIME_STAMP)) %>%\n",
    "         print(n=10)"
   ]
  },
  {
   "cell_type": "markdown",
   "metadata": {},
   "source": [
    "This notebook was created using [pluto](http://pluto.studio). Learn more [here](https://github.com/shyams80/pluto)"
   ]
  }
 ],
 "metadata": {
  "kernelspec": {
   "display_name": "R",
   "language": "R",
   "name": "ir"
  },
  "language_info": {
   "codemirror_mode": "r",
   "file_extension": ".r",
   "mimetype": "text/x-r-source",
   "name": "R",
   "pygments_lexer": "r",
   "version": "3.4.4"
  }
 },
 "nbformat": 4,
 "nbformat_minor": 2
}
