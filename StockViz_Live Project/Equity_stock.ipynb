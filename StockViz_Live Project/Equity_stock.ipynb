{
 "cells": [
  {
   "cell_type": "code",
   "execution_count": 1,
   "metadata": {},
   "outputs": [
    {
     "name": "stderr",
     "output_type": "stream",
     "text": [
      "\n",
      "Attaching package: ‘dplyr’\n",
      "\n",
      "The following objects are masked from ‘package:dbplyr’:\n",
      "\n",
      "    ident, sql\n",
      "\n",
      "The following objects are masked from ‘package:stats’:\n",
      "\n",
      "    filter, lag\n",
      "\n",
      "The following objects are masked from ‘package:base’:\n",
      "\n",
      "    intersect, setdiff, setequal, union\n",
      "\n"
     ]
    }
   ],
   "source": [
    "library(dbplyr)\n",
    "library(dplyr)\n",
    "library(odbc)\n",
    "library(RPostgres)\n",
    "library(plutoR)\n",
    "options(\"scipen\"=999)\n",
    "source(\"config.R\")\n",
    "\n",
    "equitiesIndiaNse <- EquitiesIndiaNse()\n",
    "indices<-Indices()"
   ]
  },
  {
   "cell_type": "code",
   "execution_count": 2,
   "metadata": {},
   "outputs": [
    {
     "name": "stderr",
     "output_type": "stream",
     "text": [
      "Warning message:\n",
      "“Missing values are always removed in SQL.\n",
      "Use `MAX(x, na.rm = TRUE)` to silence this warning\n",
      "This warning is displayed only once per session.”"
     ]
    },
    {
     "name": "stdout",
     "output_type": "stream",
     "text": [
      "[1] \"latest end-of-day prices for RELIANCE:\"\n",
      "\u001b[90m# Source:   lazy query [?? x 9]\u001b[39m\n",
      "\u001b[90m# Database: Microsoft SQL Server 13.00.4259[ro1@NORWAY/StockViz]\u001b[39m\n",
      "  SYMBOL   SERIES TIME_STAMP  HIGH   LOW  OPEN CLOSE  LAST   VOLUME\n",
      "  \u001b[3m\u001b[90m<chr>\u001b[39m\u001b[23m    \u001b[3m\u001b[90m<chr>\u001b[39m\u001b[23m  \u001b[3m\u001b[90m<date>\u001b[39m\u001b[23m     \u001b[3m\u001b[90m<dbl>\u001b[39m\u001b[23m \u001b[3m\u001b[90m<dbl>\u001b[39m\u001b[23m \u001b[3m\u001b[90m<dbl>\u001b[39m\u001b[23m \u001b[3m\u001b[90m<dbl>\u001b[39m\u001b[23m \u001b[3m\u001b[90m<dbl>\u001b[39m\u001b[23m    \u001b[3m\u001b[90m<dbl>\u001b[39m\u001b[23m\n",
      "\u001b[90m1\u001b[39m RELIANCE EQ     2019-08-30 \u001b[4m1\u001b[24m254.  \u001b[4m1\u001b[24m221 \u001b[4m1\u001b[24m246. \u001b[4m1\u001b[24m249.  \u001b[4m1\u001b[24m253 11\u001b[4m3\u001b[24m\u001b[4m0\u001b[24m\u001b[4m8\u001b[24m120\n"
     ]
    }
   ],
   "source": [
    "maxDt <- (equitiesIndiaNse$EodTimeSeries() %>%\n",
    "  summarize(MAX_DT = max(TIME_STAMP)) %>%\n",
    "  collect())$MAX_DT[[1]]\n",
    "\n",
    "print(\"latest end-of-day prices for RELIANCE:\")\n",
    "equitiesIndiaNse$EodTimeSeries() %>%\n",
    "  filter(TIME_STAMP == maxDt & SYMBOL == 'RELIANCE') %>%\n",
    "  print()"
   ]
  },
  {
   "cell_type": "code",
   "execution_count": 3,
   "metadata": {},
   "outputs": [
    {
     "name": "stdout",
     "output_type": "stream",
     "text": [
      "\u001b[90m# Source:     lazy query [?? x 7]\u001b[39m\n",
      "\u001b[90m# Database:   Microsoft SQL Server 13.00.4259[ro1@NORWAY/StockViz]\u001b[39m\n",
      "\u001b[90m# Groups:     NAME\u001b[39m\n",
      "\u001b[90m# Ordered by: desc(TIME_STAMP)\u001b[39m\n",
      "   NAME     TIME_STAMP   HIGH    LOW   OPEN  CLOSE    VOLUME\n",
      "   \u001b[3m\u001b[90m<chr>\u001b[39m\u001b[23m    \u001b[3m\u001b[90m<date>\u001b[39m\u001b[23m      \u001b[3m\u001b[90m<dbl>\u001b[39m\u001b[23m  \u001b[3m\u001b[90m<dbl>\u001b[39m\u001b[23m  \u001b[3m\u001b[90m<dbl>\u001b[39m\u001b[23m  \u001b[3m\u001b[90m<dbl>\u001b[39m\u001b[23m     \u001b[3m\u001b[90m<dbl>\u001b[39m\u001b[23m\n",
      "\u001b[90m 1\u001b[39m NIFTY 50 2019-08-30 \u001b[4m1\u001b[24m\u001b[4m1\u001b[24m043. \u001b[4m1\u001b[24m\u001b[4m0\u001b[24m875. \u001b[4m1\u001b[24m\u001b[4m0\u001b[24m988. \u001b[4m1\u001b[24m\u001b[4m1\u001b[24m023. 628\u001b[4m1\u001b[24m\u001b[4m5\u001b[24m\u001b[4m4\u001b[24m431\n",
      "\u001b[90m 2\u001b[39m NIFTY 50 2019-08-29 \u001b[4m1\u001b[24m\u001b[4m1\u001b[24m021. \u001b[4m1\u001b[24m\u001b[4m0\u001b[24m922. \u001b[4m1\u001b[24m\u001b[4m0\u001b[24m996. \u001b[4m1\u001b[24m\u001b[4m0\u001b[24m948. 649\u001b[4m8\u001b[24m\u001b[4m7\u001b[24m\u001b[4m6\u001b[24m160\n",
      "\u001b[90m 3\u001b[39m NIFTY 50 2019-08-28 \u001b[4m1\u001b[24m\u001b[4m1\u001b[24m130. \u001b[4m1\u001b[24m\u001b[4m0\u001b[24m988. \u001b[4m1\u001b[24m\u001b[4m1\u001b[24m101. \u001b[4m1\u001b[24m\u001b[4m1\u001b[24m046. 549\u001b[4m9\u001b[24m\u001b[4m5\u001b[24m\u001b[4m4\u001b[24m696\n",
      "\u001b[90m 4\u001b[39m NIFTY 50 2019-08-27 \u001b[4m1\u001b[24m\u001b[4m1\u001b[24m142. \u001b[4m1\u001b[24m\u001b[4m1\u001b[24m050. \u001b[4m1\u001b[24m\u001b[4m1\u001b[24m107. \u001b[4m1\u001b[24m\u001b[4m1\u001b[24m105. 685\u001b[4m5\u001b[24m\u001b[4m5\u001b[24m\u001b[4m1\u001b[24m267\n",
      "\u001b[90m 5\u001b[39m NIFTY 50 2019-08-26 \u001b[4m1\u001b[24m\u001b[4m1\u001b[24m070. \u001b[4m1\u001b[24m\u001b[4m0\u001b[24m757. \u001b[4m1\u001b[24m\u001b[4m1\u001b[24m000. \u001b[4m1\u001b[24m\u001b[4m1\u001b[24m058. 684\u001b[4m1\u001b[24m\u001b[4m4\u001b[24m\u001b[4m1\u001b[24m923\n",
      "\u001b[90m 6\u001b[39m NIFTY 50 2019-08-23 \u001b[4m1\u001b[24m\u001b[4m0\u001b[24m863. \u001b[4m1\u001b[24m\u001b[4m0\u001b[24m637. \u001b[4m1\u001b[24m\u001b[4m0\u001b[24m700. \u001b[4m1\u001b[24m\u001b[4m0\u001b[24m829. 667\u001b[4m0\u001b[24m\u001b[4m7\u001b[24m\u001b[4m9\u001b[24m625\n",
      "\u001b[90m 7\u001b[39m NIFTY 50 2019-08-22 \u001b[4m1\u001b[24m\u001b[4m0\u001b[24m908. \u001b[4m1\u001b[24m\u001b[4m0\u001b[24m718. \u001b[4m1\u001b[24m\u001b[4m0\u001b[24m905. \u001b[4m1\u001b[24m\u001b[4m0\u001b[24m741. 668\u001b[4m1\u001b[24m\u001b[4m9\u001b[24m\u001b[4m3\u001b[24m449\n",
      "\u001b[90m 8\u001b[39m NIFTY 50 2019-08-21 \u001b[4m1\u001b[24m\u001b[4m1\u001b[24m034. \u001b[4m1\u001b[24m\u001b[4m0\u001b[24m907. \u001b[4m1\u001b[24m\u001b[4m1\u001b[24m018. \u001b[4m1\u001b[24m\u001b[4m0\u001b[24m919. 557\u001b[4m8\u001b[24m\u001b[4m6\u001b[24m\u001b[4m7\u001b[24m906\n",
      "\u001b[90m 9\u001b[39m NIFTY 50 2019-08-20 \u001b[4m1\u001b[24m\u001b[4m1\u001b[24m076. \u001b[4m1\u001b[24m\u001b[4m0\u001b[24m985. \u001b[4m1\u001b[24m\u001b[4m1\u001b[24m064. \u001b[4m1\u001b[24m\u001b[4m1\u001b[24m017  444\u001b[4m7\u001b[24m\u001b[4m1\u001b[24m\u001b[4m5\u001b[24m679\n",
      "\u001b[90m10\u001b[39m NIFTY 50 2019-08-19 \u001b[4m1\u001b[24m\u001b[4m1\u001b[24m147. \u001b[4m1\u001b[24m\u001b[4m1\u001b[24m038. \u001b[4m1\u001b[24m\u001b[4m1\u001b[24m095. \u001b[4m1\u001b[24m\u001b[4m1\u001b[24m054. 369\u001b[4m4\u001b[24m\u001b[4m9\u001b[24m\u001b[4m3\u001b[24m161\n",
      "\u001b[90m# … with more rows\u001b[39m\n"
     ]
    }
   ],
   "source": [
    "indices$NseTimeSeries() %>%\n",
    "         filter(NAME == \"NIFTY 50\") %>%\n",
    "         arrange(desc(TIME_STAMP)) %>%\n",
    "         print(n=10)"
   ]
  },
  {
   "cell_type": "markdown",
   "metadata": {},
   "source": [
    "This notebook was created using [pluto](http://pluto.studio). Learn more [here](https://github.com/shyams80/pluto)"
   ]
  }
 ],
 "metadata": {
  "kernelspec": {
   "display_name": "R",
   "language": "R",
   "name": "ir"
  },
  "language_info": {
   "codemirror_mode": "r",
   "file_extension": ".r",
   "mimetype": "text/x-r-source",
   "name": "R",
   "pygments_lexer": "r",
   "version": "3.4.4"
  }
 },
 "nbformat": 4,
 "nbformat_minor": 2
}
