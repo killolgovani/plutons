{
 "cells": [
  {
   "cell_type": "code",
   "execution_count": 1,
   "metadata": {},
   "outputs": [
    {
     "name": "stderr",
     "output_type": "stream",
     "text": [
      "── \u001b[1mAttaching packages\u001b[22m ─────────────────────────────────────── tidyverse 1.2.1 ──\n",
      "\u001b[32m✔\u001b[39m \u001b[34mggplot2\u001b[39m 3.2.1     \u001b[32m✔\u001b[39m \u001b[34mpurrr  \u001b[39m 0.3.2\n",
      "\u001b[32m✔\u001b[39m \u001b[34mtibble \u001b[39m 2.1.3     \u001b[32m✔\u001b[39m \u001b[34mdplyr  \u001b[39m 0.8.3\n",
      "\u001b[32m✔\u001b[39m \u001b[34mtidyr  \u001b[39m 0.8.3     \u001b[32m✔\u001b[39m \u001b[34mstringr\u001b[39m 1.4.0\n",
      "\u001b[32m✔\u001b[39m \u001b[34mreadr  \u001b[39m 1.3.1     \u001b[32m✔\u001b[39m \u001b[34mforcats\u001b[39m 0.4.0\n",
      "── \u001b[1mConflicts\u001b[22m ────────────────────────────────────────── tidyverse_conflicts() ──\n",
      "\u001b[31m✖\u001b[39m \u001b[34mdplyr\u001b[39m::\u001b[32mfilter()\u001b[39m masks \u001b[34mstats\u001b[39m::filter()\n",
      "\u001b[31m✖\u001b[39m \u001b[34mdplyr\u001b[39m::\u001b[32mlag()\u001b[39m    masks \u001b[34mstats\u001b[39m::lag()\n",
      "Loading required package: xts\n",
      "Loading required package: zoo\n",
      "\n",
      "Attaching package: ‘zoo’\n",
      "\n",
      "The following objects are masked from ‘package:base’:\n",
      "\n",
      "    as.Date, as.Date.numeric\n",
      "\n",
      "Registered S3 method overwritten by 'xts':\n",
      "  method     from\n",
      "  as.zoo.xts zoo \n",
      "\n",
      "Attaching package: ‘xts’\n",
      "\n",
      "The following objects are masked from ‘package:dplyr’:\n",
      "\n",
      "    first, last\n",
      "\n",
      "Loading required package: TTR\n",
      "Registered S3 method overwritten by 'quantmod':\n",
      "  method            from\n",
      "  as.zoo.data.frame zoo \n",
      "Version 0.4-0 included new data defaults. See ?getSymbols.\n",
      "\n",
      "Attaching package: ‘PerformanceAnalytics’\n",
      "\n",
      "The following object is masked from ‘package:graphics’:\n",
      "\n",
      "    legend\n",
      "\n",
      "\n",
      "Attaching package: ‘lubridate’\n",
      "\n",
      "The following object is masked from ‘package:base’:\n",
      "\n",
      "    date\n",
      "\n",
      "Registering fonts with R\n"
     ]
    }
   ],
   "source": [
    "#Loading neccessary libraries\n",
    "\n",
    "library(tidyverse)\n",
    "library(ggthemes)\n",
    "library(odbc)\n",
    "library(plutoR)\n",
    "library(quantmod)\n",
    "library(PerformanceAnalytics)\n",
    "library(ggrepel)\n",
    "library(lubridate)\n",
    "\n",
    "options(\"scipen\"=999)\n",
    "options(stringsAsFactors = FALSE)\n",
    "options(repr.plot.width=16, repr.plot.height=8)\n",
    "\n",
    "source(\"config.R\")\n",
    "source(\"goofy/plot.common.R\")"
   ]
  },
  {
   "cell_type": "code",
   "execution_count": 2,
   "metadata": {},
   "outputs": [],
   "source": [
    "#Making an object of the class Indices()\n",
    "\n",
    "indices<-Indices()"
   ]
  },
  {
   "cell_type": "code",
   "execution_count": 3,
   "metadata": {},
   "outputs": [
    {
     "name": "stderr",
     "output_type": "stream",
     "text": [
      "Warning message:\n",
      "“Missing values are always removed in SQL.\n",
      "Use `MAX(x, na.rm = TRUE)` to silence this warning\n",
      "This warning is displayed only once per session.”"
     ]
    },
    {
     "name": "stdout",
     "output_type": "stream",
     "text": [
      "\u001b[90m# Source:   lazy query [?? x 1]\u001b[39m\n",
      "\u001b[90m# Database: Microsoft SQL Server 13.00.4259[ro1@NORWAY/StockViz]\u001b[39m\n",
      "\u001b[90m# Groups:   NAME\u001b[39m\n",
      "   NAME                   \n",
      "   \u001b[3m\u001b[90m<chr>\u001b[39m\u001b[23m                  \n",
      "\u001b[90m 1\u001b[39m NIFTY50 EQUAL WEIGHT TR\n",
      "\u001b[90m 2\u001b[39m NIFTY50 EQUAL WEIGHT TR\n",
      "\u001b[90m 3\u001b[39m NIFTY50 EQUAL WEIGHT TR\n",
      "\u001b[90m 4\u001b[39m NIFTY50 EQUAL WEIGHT TR\n",
      "\u001b[90m 5\u001b[39m NIFTY50 EQUAL WEIGHT TR\n",
      "\u001b[90m 6\u001b[39m NIFTY50 EQUAL WEIGHT TR\n",
      "\u001b[90m 7\u001b[39m NIFTY50 EQUAL WEIGHT TR\n",
      "\u001b[90m 8\u001b[39m NIFTY50 EQUAL WEIGHT TR\n",
      "\u001b[90m 9\u001b[39m NIFTY50 EQUAL WEIGHT TR\n",
      "\u001b[90m10\u001b[39m NIFTY50 EQUAL WEIGHT TR\n",
      "\u001b[90m11\u001b[39m NIFTY50 EQUAL WEIGHT TR\n",
      "\u001b[90m12\u001b[39m NIFTY50 EQUAL WEIGHT TR\n",
      "\u001b[90m13\u001b[39m NIFTY50 EQUAL WEIGHT TR\n",
      "\u001b[90m14\u001b[39m NIFTY50 EQUAL WEIGHT TR\n",
      "\u001b[90m15\u001b[39m NIFTY50 EQUAL WEIGHT TR\n",
      "\u001b[90m16\u001b[39m NIFTY50 EQUAL WEIGHT TR\n",
      "\u001b[90m17\u001b[39m NIFTY50 EQUAL WEIGHT TR\n",
      "\u001b[90m18\u001b[39m NIFTY50 EQUAL WEIGHT TR\n",
      "\u001b[90m19\u001b[39m NIFTY50 EQUAL WEIGHT TR\n",
      "\u001b[90m20\u001b[39m NIFTY50 EQUAL WEIGHT TR\n",
      "\u001b[90m21\u001b[39m NIFTY50 EQUAL WEIGHT TR\n",
      "\u001b[90m22\u001b[39m NIFTY50 EQUAL WEIGHT TR\n",
      "\u001b[90m23\u001b[39m NIFTY50 EQUAL WEIGHT TR\n",
      "\u001b[90m24\u001b[39m NIFTY50 EQUAL WEIGHT TR\n",
      "\u001b[90m25\u001b[39m NIFTY50 EQUAL WEIGHT TR\n",
      "\u001b[90m26\u001b[39m NIFTY50 EQUAL WEIGHT TR\n",
      "\u001b[90m27\u001b[39m NIFTY50 EQUAL WEIGHT TR\n",
      "\u001b[90m28\u001b[39m NIFTY50 EQUAL WEIGHT TR\n",
      "\u001b[90m29\u001b[39m NIFTY50 EQUAL WEIGHT TR\n",
      "\u001b[90m30\u001b[39m NIFTY50 EQUAL WEIGHT TR\n",
      "\u001b[90m31\u001b[39m NIFTY50 EQUAL WEIGHT TR\n",
      "\u001b[90m32\u001b[39m NIFTY50 EQUAL WEIGHT TR\n",
      "\u001b[90m33\u001b[39m NIFTY50 EQUAL WEIGHT TR\n",
      "\u001b[90m34\u001b[39m NIFTY50 EQUAL WEIGHT TR\n",
      "\u001b[90m35\u001b[39m NIFTY50 EQUAL WEIGHT TR\n",
      "\u001b[90m36\u001b[39m NIFTY50 EQUAL WEIGHT TR\n",
      "\u001b[90m37\u001b[39m NIFTY50 EQUAL WEIGHT TR\n",
      "\u001b[90m38\u001b[39m NIFTY50 EQUAL WEIGHT TR\n",
      "\u001b[90m39\u001b[39m NIFTY50 EQUAL WEIGHT TR\n",
      "\u001b[90m40\u001b[39m NIFTY50 EQUAL WEIGHT TR\n",
      "\u001b[90m41\u001b[39m NIFTY50 EQUAL WEIGHT TR\n",
      "\u001b[90m42\u001b[39m NIFTY50 EQUAL WEIGHT TR\n",
      "\u001b[90m43\u001b[39m NIFTY50 EQUAL WEIGHT TR\n",
      "\u001b[90m44\u001b[39m NIFTY50 EQUAL WEIGHT TR\n",
      "\u001b[90m45\u001b[39m NIFTY50 EQUAL WEIGHT TR\n",
      "\u001b[90m46\u001b[39m NIFTY50 EQUAL WEIGHT TR\n",
      "\u001b[90m47\u001b[39m NIFTY50 EQUAL WEIGHT TR\n",
      "\u001b[90m48\u001b[39m NIFTY50 EQUAL WEIGHT TR\n",
      "\u001b[90m49\u001b[39m NIFTY50 EQUAL WEIGHT TR\n",
      "\u001b[90m50\u001b[39m NIFTY50 EQUAL WEIGHT TR\n",
      "\u001b[90m# … with more rows\u001b[39m\n"
     ]
    }
   ],
   "source": [
    "#Getting the name of indices of NSE\n",
    "\n",
    "maxDtNse <- (indices$NseTimeSeries() %>% summarize(MAX_TS = max(TIME_STAMP)) %>% collect())$MAX_TS[1]\n",
    "\n",
    "indices$NseTimeSeries() %>%\n",
    "     group_by(NAME) %>%\n",
    "     filter(NAME %like% '% TR%') %>%\n",
    "     select(NAME) %>%\n",
    "     print(n=50)"
   ]
  },
  {
   "cell_type": "code",
   "execution_count": 4,
   "metadata": {},
   "outputs": [
    {
     "data": {
      "text/html": [
       "<time datetime=\"2019-08-16\">2019-08-16</time>"
      ],
      "text/latex": [
       "2019-08-16"
      ],
      "text/markdown": [
       "2019-08-16"
      ],
      "text/plain": [
       "[1] \"2019-08-16\""
      ]
     },
     "metadata": {},
     "output_type": "display_data"
    }
   ],
   "source": [
    "maxDtNse"
   ]
  },
  {
   "cell_type": "markdown",
   "metadata": {},
   "source": [
    "This notebook was created using [pluto](http://pluto.studio). Learn more [here](https://github.com/shyams80/pluto)"
   ]
  }
 ],
 "metadata": {
  "kernelspec": {
   "display_name": "R",
   "language": "R",
   "name": "ir"
  },
  "language_info": {
   "codemirror_mode": "r",
   "file_extension": ".r",
   "mimetype": "text/x-r-source",
   "name": "R",
   "pygments_lexer": "r",
   "version": "3.6.1"
  }
 },
 "nbformat": 4,
 "nbformat_minor": 2
}
